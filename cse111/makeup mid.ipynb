{
 "cells": [
  {
   "cell_type": "code",
   "execution_count": 28,
   "metadata": {},
   "outputs": [
    {
     "name": "stdout",
     "output_type": "stream",
     "text": [
      "Name: new batsman\n",
      "Runs Scored: 7380 , Balls Faced: 5000\n",
      "============================\n",
      "Name: Soumya Sarker\n",
      "Runs Scored: 678 , Balls Faced: 773\n",
      "----------------------------\n",
      "Strick Rate 87.71021992238033\n",
      "----------------------------\n",
      "Train harder than before\n",
      "============================\n",
      "Name: Shakib Al Hasan\n",
      "Runs Scored: 7380 , Balls Faced: 5000\n",
      "----------------------------\n",
      "Strick Rate 147.6\n",
      "----------------------------\n",
      "Good Batsma\n"
     ]
    }
   ],
   "source": [
    "class Batsman:\n",
    "    def __init__(self,*info):\n",
    "        self.__name='new batsman'\n",
    "        if len(info)==3:\n",
    "            self.__name=info[0]\n",
    "            self.run=info[1]\n",
    "            self.ball=info[2]\n",
    "        elif len(info)==2:\n",
    "            self.run=info[0]\n",
    "            self.ball=info[1]\n",
    "    def setName(self,newname):\n",
    "        self.__name=newname\n",
    "    def getName(self):\n",
    "        return self.__name\n",
    "    def printCareerStatistics(self):\n",
    "        print('Name:',self.__name)\n",
    "        print('Runs Scored:',self.run ,', Balls Faced:',self.ball)\n",
    "        \n",
    "    def suggestion(self):\n",
    "        self.strikeRate=(self.run/self.ball)*100\n",
    "        print('Strick Rate',self.strikeRate)\n",
    "        print(\"----------------------------\")\n",
    "        if self.strikeRate>=100:\n",
    "            return 'Good Batsma'\n",
    "        else:\n",
    "            return 'Train harder than before'\n",
    "        \n",
    "b1 = Batsman(7380, 5000)\n",
    "b1.printCareerStatistics()\n",
    "print(\"============================\")\n",
    "b2 = Batsman(\"Soumya Sarker\", 678, 773)\n",
    "b2.printCareerStatistics()\n",
    "print(\"----------------------------\")\n",
    "print(b2.suggestion())\n",
    "print(\"============================\")\n",
    "b1.setName(\"Shakib Al Hasan\")\n",
    "b1.printCareerStatistics()\n",
    "print(\"----------------------------\")\n",
    "print(b1.suggestion())"
   ]
  },
  {
   "cell_type": "code",
   "execution_count": null,
   "metadata": {},
   "outputs": [],
   "source": []
  }
 ],
 "metadata": {
  "kernelspec": {
   "display_name": "Python 3",
   "language": "python",
   "name": "python3"
  },
  "language_info": {
   "codemirror_mode": {
    "name": "ipython",
    "version": 3
   },
   "file_extension": ".py",
   "mimetype": "text/x-python",
   "name": "python",
   "nbconvert_exporter": "python",
   "pygments_lexer": "ipython3",
   "version": "3.7.6"
  }
 },
 "nbformat": 4,
 "nbformat_minor": 4
}
