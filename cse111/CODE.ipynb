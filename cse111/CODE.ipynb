{
 "cells": [
  {
   "cell_type": "code",
   "execution_count": 30,
   "metadata": {},
   "outputs": [
    {
     "name": "stdout",
     "output_type": "stream",
     "text": [
      "Enter radius of Circle: 5\n",
      "Creating a Circle … done!\n",
      "The area of the Circle is :78.53981633974483\n"
     ]
    }
   ],
   "source": [
    "##task1\n",
    "class Point:\n",
    "\n",
    "    def __init__(self,radius=0):\n",
    "        self.__radius=radius\n",
    "    \n",
    "    def space(self):\n",
    "        print(\"space for a point can't be defined\")\n",
    "        return 0\n",
    "    \n",
    "    def getRadius(self):\n",
    "        return self.__radius\n",
    "import math    \n",
    "class Radius(Point):\n",
    "    def __init__(self,radius=0,area=0):\n",
    "        super().__init__(radius)\n",
    "        self.area=area\n",
    "    def space(self):\n",
    "        print('Enter radius of Circle:',self.getRadius())\n",
    "        print('Creating a Circle … done!')\n",
    "        self.area=math.pi*self.getRadius()*self.getRadius()\n",
    "        return f'The area of the Circle is :{self.area}'\n",
    "    \n",
    "r1 = Radius(5)\n",
    "print(r1.space())\n",
    "\n",
    "\n",
    "    "
   ]
  },
  {
   "cell_type": "code",
   "execution_count": 34,
   "metadata": {},
   "outputs": [
    {
     "name": "stdout",
     "output_type": "stream",
     "text": [
      "Name : Default Department : BBA \n",
      "Name : Humpty Dumty Department : BBA \n",
      "Name : Little Bo peep Department : BBA \n"
     ]
    }
   ],
   "source": [
    "##task 2\n",
    "class Student:\n",
    "    def __init__(self,name=\"just a student\",department=\"nothing\"):\n",
    "        self.__name=name\n",
    "        self.__department=department\n",
    "    \n",
    "    def setDepartment(self,dpt):\n",
    "        self.__department=dpt\n",
    "    \n",
    "    def __getName(self):\n",
    "        return self.__name\n",
    "    \n",
    "    def setName(self,name):\n",
    "        self.__name=name\n",
    "    \n",
    "    def __str__(self):\n",
    "        return \"Name : {} Department : {} \".format(self.__name,self.__department)\n",
    "\n",
    "\n",
    "class TestStudent:\n",
    "    def printName(self,s):\n",
    "        print(s.__str__())\n",
    "class BBAStudent(Student):\n",
    "    def __init__(self,name='Default'):\n",
    "        super().__init__(name,'BBA')\n",
    "\n",
    "print(BBAStudent())\n",
    "print(BBAStudent(\"Humpty Dumty\"))\n",
    "print(BBAStudent(\"Little Bo peep\"))"
   ]
  },
  {
   "cell_type": "code",
   "execution_count": 49,
   "metadata": {},
   "outputs": [
    {
     "name": "stdout",
     "output_type": "stream",
     "text": [
      "----Printing Detail-----\n",
      "Do not eat the Mango.\n",
      "Mangos are bad for you\n",
      "----Printing Detail-----\n",
      "Eat the Jackfruit.\n",
      "Jackfruits are good for you\n"
     ]
    }
   ],
   "source": [
    "##rask 3\n",
    "class Fruit:\n",
    "    def __init__(self,formalin=False,name=\"\"):\n",
    "        self.__formalin=formalin\n",
    "        self.name=name\n",
    "        \n",
    "    def getName(self):\n",
    "        return self.name\n",
    "    def hasFormalin(self):\n",
    "        return self.__formalin\n",
    "def testFruit(j):\n",
    "    print('----Printing Detail-----')\n",
    "    if(j.hasFormalin()):\n",
    "        print('Do not eat the {}.'.format(j.getName()))\n",
    "        print(j)\n",
    "    else:\n",
    "        print('Eat the {}.'.format(j.getName()))\n",
    "        print(j)\n",
    "class Mango(Fruit):\n",
    "    def __init__(self):\n",
    "        super().__init__(True,'Mango')\n",
    "    def __str__(self):\n",
    "        return 'Mangos are bad for you'\n",
    "class Jackfruit(Fruit):\n",
    "    def __init__(self):\n",
    "        super().__init__(False,'Jackfruit') \n",
    "    def __str__(self):\n",
    "        return 'Jackfruits are good for you'\n",
    "\n",
    "m =Mango()\n",
    "testFruit(m)\n",
    "j=Jackfruit()\n",
    "testFruit(j)"
   ]
  },
  {
   "cell_type": "code",
   "execution_count": 127,
   "metadata": {},
   "outputs": [
    {
     "name": "stdout",
     "output_type": "stream",
     "text": [
      "RealPart: 1.0\n",
      "ImaginaryPart: 1.0\n",
      "--------------------\n",
      "RealPart: 5.0\n",
      "ImaginaryPart: 7.0\n",
      "--------------------\n",
      "I'm in ComplexNumber class\n",
      "I'm in RealNumber class\n",
      "Checking ended.\n"
     ]
    }
   ],
   "source": [
    "##task 4\n",
    "class RealNumber:\n",
    "    def __init__(self,realPart=0):\n",
    "        self.__realValue=realPart\n",
    "        self.setRealValue(realPart)\n",
    "    def getRealValue(self):\n",
    "        return self.__realValue\n",
    "  \n",
    "    def setRealValue(self,r):\n",
    "        self.__realValue=r\n",
    "\n",
    "    def __str__(self):\n",
    "        return \"RealPart: {}\".format(self.getRealValue())\n",
    "  \n",
    "    def ping(self):\n",
    "        print(\"I'm in RealNumber class\")\n",
    "class ComplexNumber(RealNumber):\n",
    "    def __init__(self,realPart=None,ima=None):\n",
    "        if realPart!=None and ima!=None:\n",
    "            super().__init__(float(realPart))\n",
    "            self.ima=float(ima)\n",
    "        else:\n",
    "            super().__init__(float(1))\n",
    "            self.ima=float(1)\n",
    "        \n",
    "    def __str__(self):\n",
    "        print(super().__str__())\n",
    "        return 'ImaginaryPart: '+str(self.ima)\n",
    "\n",
    "            \n",
    "    def check(self):\n",
    "        print(\"I'm in ComplexNumber class\")\n",
    "        super().ping()\n",
    "        print('Checking ended.')\n",
    "rn=ComplexNumber()\n",
    "print(rn)\n",
    "print(\"--------------------\")\n",
    "rn=ComplexNumber(5,7)\n",
    "print(rn)\n",
    "print(\"--------------------\")\n",
    "cn=ComplexNumber()\n",
    "cn.check()"
   ]
  },
  {
   "cell_type": "code",
   "execution_count": 85,
   "metadata": {},
   "outputs": [
    {
     "name": "stdout",
     "output_type": "stream",
     "text": [
      "Number of Checking Accounts:  0\n",
      "Account Balance:  0.0\n",
      "Account Balance:  100.0\n",
      "Account Balance:  200.0\n",
      "Number of Checking Accounts:  3\n"
     ]
    }
   ],
   "source": [
    "class Account:\n",
    "    def __init__(self,balance=0.0):\n",
    "        self._balance=balance\n",
    "\n",
    "    def getBalance(self):\n",
    "        return self._balance\n",
    "class CheckingAccount(Account):\n",
    "    numberOfAccount=0\n",
    "    def __init__(self,balance=0.0):\n",
    "        super().__init__(balance)\n",
    "        CheckingAccount.numberOfAccount+=1\n",
    "def printBalance(a):\n",
    "    print(\"Account Balance: \",a.getBalance())\n",
    "\n",
    "print(\"Number of Checking Accounts: \",CheckingAccount.numberOfAccount)\n",
    "printBalance(CheckingAccount())\n",
    "printBalance(CheckingAccount(100.00))\n",
    "printBalance(CheckingAccount(200.00))\n",
    "print(\"Number of Checking Accounts: \",CheckingAccount.numberOfAccount)"
   ]
  },
  {
   "cell_type": "code",
   "execution_count": 128,
   "metadata": {},
   "outputs": [
    {
     "name": "stdout",
     "output_type": "stream",
     "text": [
      "I love BU\n",
      "I want to transfer to CSE\n",
      "I love java programming\n",
      "------------------\n",
      "I love BU\n",
      "I love BU\n",
      "------------------\n",
      "I want to transfer to CSE\n",
      "I want to transfer to CSE\n",
      "------------------\n",
      "I love java programming\n",
      "I love java programming\n"
     ]
    }
   ],
   "source": [
    "class Student:\n",
    "    def __init__(self,msg=\"I love BU\"):\n",
    "        self.msg=msg\n",
    "    def shout(self):\n",
    "        return self.msg\n",
    "#your code is here\n",
    "class CSEStudent(Student):\n",
    "    def __init__(self):\n",
    "        super().__init__('I want to transfer to CSE')\n",
    "\n",
    "class CSE111Student(Student):\n",
    "    def __init__(self):\n",
    "        super().__init__('I love java programming')\n",
    "    def printShout(s):\n",
    "        print(\"------------------\")\n",
    "        print(s.msg)\n",
    "        print(s.shout())\n",
    "\n",
    "s=Student()\n",
    "cs=CSEStudent()\n",
    "cs111=CSE111Student()\n",
    "\n",
    "print(s.msg)\n",
    "print(cs.msg)\n",
    "print(cs111.msg)\n",
    "\n",
    "printShout(s)\n",
    "printShout(cs)\n",
    "printShout(cs111)"
   ]
  },
  {
   "cell_type": "code",
   "execution_count": 119,
   "metadata": {},
   "outputs": [
    {
     "name": "stdout",
     "output_type": "stream",
     "text": [
      "Total Number of Cars:  0\n",
      "==============================\n",
      "year : 2000\n",
      "Total Number of cars: 1\n",
      "year : 2006\n",
      "Total Number of cars: 2\n",
      "year : 2002\n",
      "Total Number of cars: 3\n",
      "==============================\n",
      "Total Number of Cars:  3\n"
     ]
    }
   ],
   "source": [
    "class Car:\n",
    "    count=0\n",
    "    def __init__(self,year):\n",
    "        self.__year=year\n",
    "        Car.count+=1\n",
    "    def setYear(self):\n",
    "        self.__year=year\n",
    "    def getYear(self):\n",
    "        return self.__year\n",
    "    @classmethod\n",
    "    def getObjectCount(cls):\n",
    "        return cls.count\n",
    "        \n",
    "\n",
    "def printCarDetail(c):\n",
    "    print(\"year :\",c.getYear())\n",
    "    print(\"Total Number of cars:\", c.getObjectCount())\n",
    "\n",
    "print(\"Total Number of Cars: \",Car.getObjectCount())\n",
    "print(\"==============================\")\n",
    "c1=Car(2000)\n",
    "printCarDetail(c1)\n",
    "c2=Car(2006)\n",
    "printCarDetail(c2)\n",
    "c3=Car(2002)\n",
    "printCarDetail(c3)\n",
    "print(\"==============================\")\n",
    "print(\"Total Number of Cars: \",Car.getObjectCount())"
   ]
  },
  {
   "cell_type": "code",
   "execution_count": null,
   "metadata": {},
   "outputs": [],
   "source": []
  }
 ],
 "metadata": {
  "kernelspec": {
   "display_name": "Python 3",
   "language": "python",
   "name": "python3"
  },
  "language_info": {
   "codemirror_mode": {
    "name": "ipython",
    "version": 3
   },
   "file_extension": ".py",
   "mimetype": "text/x-python",
   "name": "python",
   "nbconvert_exporter": "python",
   "pygments_lexer": "ipython3",
   "version": "3.7.6"
  }
 },
 "nbformat": 4,
 "nbformat_minor": 4
}
