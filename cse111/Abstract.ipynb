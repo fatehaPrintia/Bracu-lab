{
 "cells": [
  {
   "cell_type": "code",
   "execution_count": 1,
   "metadata": {},
   "outputs": [
    {
     "name": "stdout",
     "output_type": "stream",
     "text": [
      "Davids monthly pay is: 1200\n",
      "Davids annul pay is: 14400\n",
      "Davids monthly pay is: 20000\n",
      "Davids annul pay is: 240000\n"
     ]
    }
   ],
   "source": [
    "from abc import ABC,abstractmethod\n",
    "class Employee(ABC):\n",
    "    @abstractmethod\n",
    "    def monthly_pay(self):\n",
    "        pass\n",
    "    @abstractmethod\n",
    "    def anual_pay(self):\n",
    "        pass\n",
    "class Hourly_Employee(Employee):\n",
    "    hourly_earning=10\n",
    "    def monthly_pay(self):\n",
    "        return Hourly_Employee.hourly_earning*4*30\n",
    "    def anual_pay(self):\n",
    "        return Hourly_Employee.hourly_earning*4*30*12\n",
    "class saliried(Employee):\n",
    "    monthly_earning=20000\n",
    "    def monthly_pay(self):\n",
    "        return saliried.monthly_earning\n",
    "    def anual_pay(self):\n",
    "        return saliried.monthly_earning*12\n",
    "david=Hourly_Employee()\n",
    "print('Davids monthly pay is:',david.monthly_pay())\n",
    "print('Davids annul pay is:',david.anual_pay())\n",
    "sarah=saliried()\n",
    "print('Davids monthly pay is:',sarah.monthly_pay())\n",
    "print('Davids annul pay is:',sarah.anual_pay())"
   ]
  },
  {
   "cell_type": "code",
   "execution_count": null,
   "metadata": {},
   "outputs": [],
   "source": []
  }
 ],
 "metadata": {
  "kernelspec": {
   "display_name": "Python 3",
   "language": "python",
   "name": "python3"
  },
  "language_info": {
   "codemirror_mode": {
    "name": "ipython",
    "version": 3
   },
   "file_extension": ".py",
   "mimetype": "text/x-python",
   "name": "python",
   "nbconvert_exporter": "python",
   "pygments_lexer": "ipython3",
   "version": "3.7.6"
  }
 },
 "nbformat": 4,
 "nbformat_minor": 4
}
