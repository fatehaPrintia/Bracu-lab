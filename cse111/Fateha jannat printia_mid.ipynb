{
 "cells": [
  {
   "cell_type": "code",
   "execution_count": 7,
   "metadata": {},
   "outputs": [
    {
     "name": "stdout",
     "output_type": "stream",
     "text": [
      "2334528988125\n",
      "{2: 3, 3: 2, 4: 1, 5: 2, 8: 3, 9: 1, 1: 1}\n"
     ]
    }
   ],
   "source": [
    "##task 1\n",
    "n10=input()\n",
    "new_dict={}\n",
    "i=0\n",
    "for num in n10:\n",
    "    x=int(num)\n",
    "    if x not in new_dict:\n",
    "        new_dict[x]=1\n",
    "    else:\n",
    "        new_dict[x]+=1\n",
    "print(new_dict)\n"
   ]
  },
  {
   "cell_type": "code",
   "execution_count": 9,
   "metadata": {},
   "outputs": [
    {
     "name": "stdout",
     "output_type": "stream",
     "text": [
      "Sum: 20\n",
      "Sum: 38\n",
      "Average: 4.75\n",
      "-----------------------------\n",
      "Average: 0\n",
      "Sum: 15\n"
     ]
    }
   ],
   "source": [
    "##task 2\n",
    "class myList:\n",
    "    def __init__(self,*num):\n",
    "        self.lst=[]\n",
    "        for item in num:\n",
    "            self.lst.append(item)\n",
    "    def sum(self):\n",
    "        if len(self.lst)==0:\n",
    "            print('')\n",
    "        else:\n",
    "            print('Sum:',sum(self.lst))\n",
    "    def average(self):\n",
    "        if len(self.lst)==0:\n",
    "            print('Average: 0')\n",
    "        else:\n",
    "            print('Average:',sum(self.lst)/len(self.lst))\n",
    "    def merge(self,*num1):\n",
    "        for item1 in num1:\n",
    "            self.lst.append(item1)\n",
    "\n",
    "l1 =  myList(2,3,4,5,6)\n",
    "l1.sum()\n",
    "l1.merge(4,5,9)\n",
    "l1.sum()\n",
    "l1.average()\n",
    "print('-----------------------------')\n",
    "l2 =  myList()\n",
    "l2.average()\n",
    "l2.merge(1,2,4,8)\n",
    "l2.sum()"
   ]
  },
  {
   "cell_type": "code",
   "execution_count": null,
   "metadata": {},
   "outputs": [],
   "source": []
  }
 ],
 "metadata": {
  "kernelspec": {
   "display_name": "Python 3",
   "language": "python",
   "name": "python3"
  },
  "language_info": {
   "codemirror_mode": {
    "name": "ipython",
    "version": 3
   },
   "file_extension": ".py",
   "mimetype": "text/x-python",
   "name": "python",
   "nbconvert_exporter": "python",
   "pygments_lexer": "ipython3",
   "version": "3.7.6"
  }
 },
 "nbformat": 4,
 "nbformat_minor": 4
}
