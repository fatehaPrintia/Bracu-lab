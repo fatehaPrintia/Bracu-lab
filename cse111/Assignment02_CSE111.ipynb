{
 "cells": [
  {
   "cell_type": "code",
   "execution_count": 4,
   "metadata": {},
   "outputs": [
    {
     "name": "stdout",
     "output_type": "stream",
     "text": [
      "0.5\n"
     ]
    }
   ],
   "source": [
    "##task 1\n",
    "def calculation(x,y):\n",
    "    if y==0:\n",
    "        return 0\n",
    "    else:\n",
    "        z=x/y\n",
    "        a=z-int(z)\n",
    "        return a\n",
    "print(calculation(5,2))   "
   ]
  },
  {
   "cell_type": "code",
   "execution_count": 19,
   "metadata": {},
   "outputs": [
    {
     "name": "stdout",
     "output_type": "stream",
     "text": [
      "152\n",
      "48\n",
      "Score is 20.8 . You are  Normal\n"
     ]
    }
   ],
   "source": [
    "##task 2\n",
    "def bmi(height,weight):\n",
    "    height=height/100\n",
    "    return weight/(height*height)\n",
    "\n",
    "bmiscore=bmi(float(input()),float(input()))\n",
    "def  bmi_result(bmiscore):\n",
    "    if bmiscore<18.5:\n",
    "        return 'Underweight'\n",
    "    elif 18.5<=bmiscore<=24.9:\n",
    "        return 'Normal'\n",
    "    elif 25<=bmiscore<=30:\n",
    "        return 'Overweight'\n",
    "    elif bmiscore>30:\n",
    "        return 'Obese'\n",
    "print('Score is %.1f'%(bmiscore),'. You are ',bmi_result(bmiscore))"
   ]
  },
  {
   "cell_type": "code",
   "execution_count": 29,
   "metadata": {},
   "outputs": [
    {
     "name": "stdout",
     "output_type": "stream",
     "text": [
      "minimum:3\n",
      "maximum:16\n",
      "Divisor:3\n",
      "45\n"
     ]
    }
   ],
   "source": [
    "##task 3\n",
    "def divisors(minimum,maximum,divisor):\n",
    "    num=0\n",
    "    for i in range(minimum,maximum,1):\n",
    "        if i%divisor==0:\n",
    "            num+=i\n",
    "    return num\n",
    "print(divisors(int(input('minimum:')),int(input('maximum:')),int(input('Divisor:'))))"
   ]
  },
  {
   "cell_type": "code",
   "execution_count": 4,
   "metadata": {},
   "outputs": [
    {
     "name": "stdout",
     "output_type": "stream",
     "text": [
      "Beef Burger\n",
      "dhaka\n",
      "243.6\n"
     ]
    }
   ],
   "source": [
    "##task 4\n",
    "def order(items,place='Mohakhali'):\n",
    "    if place=='Mohakhali':\n",
    "        total=40\n",
    "    else:\n",
    "        total=60\n",
    "    if items=='BBQ Chicken Cheese Burger':\n",
    "        cost=250+total+((250*8)/100)\n",
    "    elif items=='Beef Burger':\n",
    "        cost=170+total+((170*8)/100)\n",
    "    elif items=='Naga Drums':\n",
    "        cost=200+total+((200*8)/100)\n",
    "    return cost\n",
    "print(order(input(),input()))\n",
    "\n",
    "        "
   ]
  },
  {
   "cell_type": "code",
   "execution_count": 4,
   "metadata": {},
   "outputs": [
    {
     "name": "stdout",
     "output_type": "stream",
     "text": [
      "enter mail adress:bob@kaaj.com\n",
      "enter new domain:sheba.xyz\n",
      "enter old domainkaaj.com\n",
      "changed: bob@sheba.xyz\n"
     ]
    }
   ],
   "source": [
    "##task 5\n",
    "def replace_domain(mail,new,old='kaaj.com'):\n",
    "    x=''\n",
    "    y=''\n",
    "    z=''\n",
    "    for i in mail:\n",
    "        x+=i\n",
    "        if i==\"@\":\n",
    "            break\n",
    "    for j in reversed(mail):\n",
    "        if j=='@':\n",
    "            break\n",
    "        y+=j\n",
    "    for k in reversed(new):\n",
    "        z+=k\n",
    "    if y==z:\n",
    "        print('unchanged:',mail)\n",
    "    else:\n",
    "        x+=new\n",
    "        print('changed:',x)\n",
    "replace_domain(input('enter mail adress:'),input('enter new domain:'),input('enter old domain'))"
   ]
  },
  {
   "cell_type": "code",
   "execution_count": 16,
   "metadata": {},
   "outputs": [
    {
     "name": "stdout",
     "output_type": "stream",
     "text": [
      "name:Steve Jobs\n",
      "Vowels: e,e,o, Total number of vowels: 3\n"
     ]
    }
   ],
   "source": [
    "##task 6\n",
    "def check_vowel(name):\n",
    "    vowles=''\n",
    "    count=0\n",
    "    for i in name:\n",
    "        if (i == 'a' or i == 'e' or i == 'i' or i == 'o' or i == 'u'or i == 'A' or i == 'E' or i == 'I' or i == 'O' or i == 'U'):\n",
    "            vowles+=i+','\n",
    "            count+=1\n",
    "    if count!=0:\n",
    "        print('Vowels:',vowles,'Total number of vowels:',count)\n",
    "    else:\n",
    "        print('No vowels in the name')\n",
    "check_vowel(input('name:'))"
   ]
  },
  {
   "cell_type": "code",
   "execution_count": 1,
   "metadata": {},
   "outputs": [
    {
     "name": "stdout",
     "output_type": "stream",
     "text": [
      "Enter your word: nurses run\n",
      "Palindrome\n",
      "nursesrun\n"
     ]
    }
   ],
   "source": [
    "##task 7\n",
    "def palindrome(string):\n",
    "    check=''\n",
    "    string=string.replace(' ','')\n",
    "    for i in reversed(string):\n",
    "        check+=i\n",
    "    if check==string:\n",
    "        print(\"Palindrome\")\n",
    "    else:\n",
    "        print(\"Not a palindrome\")\n",
    "palindrome(input(\"Enter your word: \"))"
   ]
  },
  {
   "cell_type": "code",
   "execution_count": 28,
   "metadata": {},
   "outputs": [
    {
     "name": "stdout",
     "output_type": "stream",
     "text": [
      "enter num of days:4000\n",
      "10 years , 11 months and 20 days\n"
     ]
    }
   ],
   "source": [
    "##task 8\n",
    "def myfunction(number_of_days):\n",
    "    year=number_of_days//365\n",
    "    months=(number_of_days%365)//30\n",
    "    day=(number_of_days%365)%30\n",
    "    print(year,'years ,',months,'months','and',day,'days')\n",
    "myfunction(int(input('enter num of days:')))"
   ]
  },
  {
   "cell_type": "code",
   "execution_count": 2,
   "metadata": {},
   "outputs": [
    {
     "name": "stdout",
     "output_type": "stream",
     "text": [
      "My favourite animal is a dog.A dog has sharp teeth so that it can eat flesh very easily.Do you know my pet dog’s name? I love my pet very much.\n"
     ]
    }
   ],
   "source": [
    "##task 9\n",
    "def capitalize(string10):\n",
    "    string1=''\n",
    "    for i in range (len(string10)):\n",
    "       \n",
    "        if string10[i]==0:\n",
    "            string1+=string10[i].upper()\n",
    "            \n",
    "        elif string10[i-1]=='.' or string10[i-1]=='?' or string10[i-1]=='!':\n",
    "            string1+=string10[i].upper()\n",
    "        elif string10[i]=='i':\n",
    "            if string10[i-1]==' ' and string10[i+1]==' ':\n",
    "                string1+=string10[i].upper()\n",
    "            else:\n",
    "                string1+=string10[i]\n",
    "        else:\n",
    "            string1+=string10[i]\n",
    "    print(string1)\n",
    "    \n",
    "capitalize('my favourite animal is a dog.a dog has sharp teeth so that it can eat flesh very easily.do you know my pet dog’s name? i love my pet very much.')"
   ]
  },
  {
   "cell_type": "code",
   "execution_count": null,
   "metadata": {},
   "outputs": [],
   "source": []
  }
 ],
 "metadata": {
  "kernelspec": {
   "display_name": "Python 3",
   "language": "python",
   "name": "python3"
  },
  "language_info": {
   "codemirror_mode": {
    "name": "ipython",
    "version": 3
   },
   "file_extension": ".py",
   "mimetype": "text/x-python",
   "name": "python",
   "nbconvert_exporter": "python",
   "pygments_lexer": "ipython3",
   "version": "3.7.6"
  }
 },
 "nbformat": 4,
 "nbformat_minor": 4
}
