{
 "cells": [
  {
   "cell_type": "code",
   "execution_count": 19,
   "metadata": {},
   "outputs": [
    {
     "name": "stdout",
     "output_type": "stream",
     "text": [
      "Hello default student\n",
      "YOUR AVERAGE SCORE IS : 3.3333333333333335\n",
      "--------\n",
      "hello Harry\n",
      "YOUR AVERAGE SCORE IS : 6.0\n",
      "--------\n",
      "hello Hermione\n",
      "YOUR AVERAGE SCORE IS : 9.666666666666666\n"
     ]
    }
   ],
   "source": [
    "###\n",
    "class student :\n",
    "    def __init__(self,name=None):\n",
    "        self.name=name\n",
    "    def quizcalc(self,score1,score2=None,score3=None):\n",
    "        self.avg=0\n",
    "        if score1!=None and score2!=None and score3!=None:\n",
    "            self.avg=((score1+score2+score3)/3)\n",
    "        elif score1!=None and score2!=None:\n",
    "            self.avg=((score1+score2)/3)\n",
    "        else:\n",
    "            self.avg=((score1)/3)\n",
    "\n",
    "    def printdetail(self):\n",
    "        if self.name==None:\n",
    "            print('Hello default student')\n",
    "        else:\n",
    "            print('hello',self.name)\n",
    "        print('YOUR AVERAGE SCORE IS :',self.avg)\n",
    "            \n",
    "s1=student()\n",
    "s1.quizcalc(10)\n",
    "s1.printdetail()\n",
    "print('--------')\n",
    "s2=student('Harry')\n",
    "s2.quizcalc(10,8)\n",
    "s2.printdetail()\n",
    "print('--------')\n",
    "s3=student('Hermione')\n",
    "s3.quizcalc(10,9,10)\n",
    "s3.printdetail()\n"
   ]
  },
  {
   "cell_type": "code",
   "execution_count": null,
   "metadata": {},
   "outputs": [],
   "source": []
  }
 ],
 "metadata": {
  "kernelspec": {
   "display_name": "Python 3",
   "language": "python",
   "name": "python3"
  },
  "language_info": {
   "codemirror_mode": {
    "name": "ipython",
    "version": 3
   },
   "file_extension": ".py",
   "mimetype": "text/x-python",
   "name": "python",
   "nbconvert_exporter": "python",
   "pygments_lexer": "ipython3",
   "version": "3.7.6"
  }
 },
 "nbformat": 4,
 "nbformat_minor": 4
}
