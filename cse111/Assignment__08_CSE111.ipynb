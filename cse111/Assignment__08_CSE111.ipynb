{
 "cells": [
  {
   "cell_type": "markdown",
   "metadata": {},
   "source": [
    "# 1"
   ]
  },
  {
   "cell_type": "code",
   "execution_count": 1,
   "metadata": {},
   "outputs": [
    {
     "name": "stdout",
     "output_type": "stream",
     "text": [
      "RealPart: 1.0\n",
      "ImaginaryPart: 1.0\n",
      "---------\n",
      "RealPart: 5.0\n",
      "ImaginaryPart: 7.0\n"
     ]
    }
   ],
   "source": [
    "class RealNumber:\n",
    "    def __init__(self, r=0):\n",
    "        self.__realValue = r\n",
    "    def getRealValue(self):\n",
    "        return self.__realValue\n",
    "    def setRealValue(self, r):\n",
    "        self.__realValue = r\n",
    "    def __str__(self):\n",
    "        return 'RealPart: '+str(self.getRealValue())\n",
    "\n",
    "#Solution:\n",
    "class ComplexNumber(RealNumber):\n",
    "    def __init__(self, r=1,i=1):\n",
    "        self.setRealValue(float(r))\n",
    "        self._imaginaryValue=i\n",
    "    def __str__(self):\n",
    "        return 'RealPart: '+str(self.getRealValue())+\"\\n\"+'ImaginaryPart: '+str(float(self._imaginaryValue))\n",
    "\n",
    "# Execution commands\n",
    "cn1 = ComplexNumber()\n",
    "print(cn1)\n",
    "print('---------') \n",
    "cn2 = ComplexNumber(5,7)\n",
    "print(cn2)"
   ]
  },
  {
   "cell_type": "markdown",
   "metadata": {},
   "source": [
    "# 2"
   ]
  },
  {
   "cell_type": "code",
   "execution_count": 2,
   "metadata": {},
   "outputs": [
    {
     "name": "stdout",
     "output_type": "stream",
     "text": [
      "8\n",
      "2 + 1i\n",
      "3 + 5i\n",
      "5 + 6i\n",
      "-1 - 4i\n"
     ]
    }
   ],
   "source": [
    "class RealNumber:\n",
    "    def __init__(self, number=0):\n",
    "        self.number = number\n",
    "    def __add__(self, anotherRealNumber):\n",
    "        return self.number + anotherRealNumber.number\n",
    "    def __sub__(self, anotherRealNumber):\n",
    "        return self.number - anotherRealNumber.number\n",
    "    def __str__(self):\n",
    "        return str(self.number)\n",
    "\n",
    "#Solution:\n",
    "class ComplexNumber(RealNumber):\n",
    "    def __init__(self, r,i):\n",
    "        self.realPart = int(str(r))\n",
    "        self.imaginaryPart=i\n",
    "    def __add__(self, other):\n",
    "        r=self.realPart+other.realPart\n",
    "        i=self.imaginaryPart+other.imaginaryPart\n",
    "        return ComplexNumber(r,i)\n",
    "    def __sub__(self, other):\n",
    "        r=self.realPart-other.realPart\n",
    "        i=self.imaginaryPart-other.imaginaryPart\n",
    "        return ComplexNumber(r,i)\n",
    "    def __str__(self):\n",
    "        if self.imaginaryPart>0:\n",
    "            return str(self.realPart)+\" + \"+str(self.imaginaryPart)+\"i\"\n",
    "        else:\n",
    "             return str(self.realPart)+\" - \"+str(abs(self.imaginaryPart))+\"i\"\n",
    "\n",
    "# Execution commands    \n",
    "r1 = RealNumber(3)\n",
    "r2 = RealNumber(5)\n",
    "print(r1+r2)\n",
    "cn1 = ComplexNumber(2, 1)\n",
    "print(cn1)\n",
    "cn2 = ComplexNumber(r1, 5)\n",
    "print(cn2)\n",
    "cn3 = cn1 + cn2\n",
    "print(cn3)\n",
    "cn4 = cn1 - cn2\n",
    "print(cn4)"
   ]
  },
  {
   "cell_type": "markdown",
   "metadata": {},
   "source": [
    "# 3"
   ]
  },
  {
   "cell_type": "code",
   "execution_count": 2,
   "metadata": {},
   "outputs": [
    {
     "name": "stdout",
     "output_type": "stream",
     "text": [
      "Number of Checking Accounts:  0\n",
      "Account Balance: 0.00\n",
      "Account Balance: 100.00\n",
      "Account Balance: 200.00\n",
      "Number of Checking Accounts:  3\n"
     ]
    }
   ],
   "source": [
    "class Account:\n",
    "    def __init__(self, balance):\n",
    "        self._balance = balance\n",
    "    def getBalance(self):\n",
    "        return self._balance\n",
    "\n",
    "#Solution:\n",
    "class CheckingAccount(Account):\n",
    "    numberOfAccount=0\n",
    "    def __init__(self, balance=\"0.0\"):\n",
    "        CheckingAccount.numberOfAccount+=1\n",
    "        super().__init__(balance)\n",
    "    def __str__(self):\n",
    "        return \"Account Balance: \"+str(self.getBalance())+\"0\"\n",
    "    \n",
    "# Execution commands      \n",
    "print('Number of Checking Accounts: ', CheckingAccount.numberOfAccount)\n",
    "print(CheckingAccount())\n",
    "print(CheckingAccount(100.00))\n",
    "print(CheckingAccount(200.00))\n",
    "print('Number of Checking Accounts: ', CheckingAccount.numberOfAccount)"
   ]
  },
  {
   "cell_type": "markdown",
   "metadata": {},
   "source": [
    "# 4"
   ]
  },
  {
   "cell_type": "code",
   "execution_count": 4,
   "metadata": {},
   "outputs": [
    {
     "name": "stdout",
     "output_type": "stream",
     "text": [
      "----Printing Detail----\n",
      "Do not eat the Mango .\n",
      "Mangos are bad for you\n",
      "----Printing Detail----\n",
      "Eat the Jackfruit .\n",
      "Jackfruits are good for you\n"
     ]
    }
   ],
   "source": [
    "class Fruit:\n",
    "    def __init__(self, formalin=False, name=''):\n",
    "        self.__formalin = formalin\n",
    "        self.name = name\n",
    "    def getName(self):\n",
    "        return self.name\n",
    "    def hasFormalin(self):\n",
    "        return self.__formalin\n",
    "class testFruit:\n",
    "    def test(self, f):\n",
    "        print('----Printing Detail----')\n",
    "        if f.hasFormalin():\n",
    "            print('Do not eat the',f.getName(),'.')\n",
    "            print(f)\n",
    "        else:\n",
    "            print('Eat the',f.getName(),'.')\n",
    "            print(f)\n",
    "            \n",
    "#Solution:\n",
    "class Mango(Fruit):\n",
    "    def __init__(self):\n",
    "        super().__init__(True,\"Mango\")\n",
    "    def __str__(self):\n",
    "        return \"Mangos are bad for you\"\n",
    "class Jackfruit(Fruit):\n",
    "    def __init__(self):\n",
    "        super().__init__(False,\"Jackfruit\")\n",
    "    def __str__(self):\n",
    "        return \"Jackfruits are good for you\"\n",
    "    \n",
    "# Execution commands      \n",
    "m = Mango()\n",
    "j = Jackfruit()\n",
    "t1 = testFruit()\n",
    "t1.test(m)\n",
    "t1.test(j)"
   ]
  },
  {
   "cell_type": "markdown",
   "metadata": {},
   "source": [
    "# 5"
   ]
  },
  {
   "cell_type": "code",
   "execution_count": 5,
   "metadata": {},
   "outputs": [
    {
     "name": "stdout",
     "output_type": "stream",
     "text": [
      "Marks: 100 Time: 90 minutes Number of Parts: 4\n",
      "----------------------------------\n",
      "Maths , English , Physics , HigherMaths\n",
      "Part 1 - Maths\n",
      "Part 2 - English\n",
      "Part 3 - Physics\n",
      "Part 4 - HigherMaths\n",
      "==================================\n",
      "Marks: 100 Time: 120 minutes Number of Parts: 5\n",
      "----------------------------------\n",
      "Maths , English , Physics , HigherMaths , Drawing\n",
      "Part 1 - Maths\n",
      "Part 2 - English\n",
      "Part 3 - Physics\n",
      "Part 4 - HigherMaths\n",
      "Part 5 - Drawing\n"
     ]
    }
   ],
   "source": [
    "class Exam:\n",
    "    def __init__(self,marks):\n",
    "        self.marks = marks\n",
    "        self.time = 60\n",
    "    def examSyllabus(self):\n",
    "        return \"Maths , English\"\n",
    "    def examParts(self):\n",
    "        return \"Part 1 - Maths\\nPart 2 - English\\n\"\n",
    "\n",
    "#Solution:\n",
    "class  ScienceExam(Exam):\n",
    "    def __init__(self,marks,time,*subjects):\n",
    "        super().__init__(marks)\n",
    "        self.time=time\n",
    "        self.subjects=list(subjects)\n",
    "        self.parts=2+len(subjects)\n",
    "    def __str__(self):\n",
    "        return f\"Marks: {self.marks} Time: {self.time} minutes Number of Parts: {self.parts}\"\n",
    "    def examSyllabus(self):\n",
    "        msg=\"Maths , English\"\n",
    "        for e in self.subjects:\n",
    "                msg+=\" , \"+e\n",
    "        return msg\n",
    "    def examParts(self):\n",
    "        msg=\"Part 1 - Maths\\nPart 2 - English\\n\"\n",
    "        c=3\n",
    "        for e in self.subjects:\n",
    "            if e!=self.subjects[-1]:\n",
    "                msg+=\"Part \"+str(c)+\" - \"+e+\"\\n\"\n",
    "            else:\n",
    "                 msg+=\"Part \"+str(c)+\" - \"+e\n",
    "            c+=1\n",
    "        return msg\n",
    "    \n",
    "# Execution commands  \n",
    "engineering = ScienceExam(100,90,\"Physics\",\"HigherMaths\")\n",
    "print(engineering)\n",
    "print('----------------------------------')\n",
    "print(engineering.examSyllabus())\n",
    "print(engineering.examParts())\n",
    "print('==================================')\n",
    "architecture =ScienceExam(100,120,\"Physics\",\"HigherMaths\",\"Drawing\")\n",
    "print(architecture)\n",
    "print('----------------------------------')\n",
    "print(architecture.examSyllabus())\n",
    "print(architecture.examParts())"
   ]
  },
  {
   "cell_type": "markdown",
   "metadata": {},
   "source": [
    "# 6"
   ]
  },
  {
   "cell_type": "code",
   "execution_count": 6,
   "metadata": {},
   "outputs": [
    {
     "name": "stdout",
     "output_type": "stream",
     "text": [
      "Shape name: Sphere, Area Formula: 4 * pi * r* r\n",
      "----------------------------------\n",
      "Area: 314.159\n",
      "==================================\n",
      "Shape name: Cylinder, Area Formula: 2 * pi *r * (r + h)\n",
      "----------------------------------\n",
      "Area: 471.2385\n"
     ]
    }
   ],
   "source": [
    "class Shape3D:\n",
    "    pi = 3.14159\n",
    "    def __init__(self, name = 'Default', radius = 0):\n",
    "        self._area = 0\n",
    "        self._name = name\n",
    "        self._height = 'No need'\n",
    "        self._radius = radius\n",
    "    def calc_surface_area(self):\n",
    "        return 2 * Shape3D.pi * self._radius\n",
    "    def __str__(self):\n",
    "        return \"Radius: \"+str(self._radius)\n",
    "\n",
    "#Solution:\n",
    "class Sphere(Shape3D):\n",
    "    def __init__(self, name, radius):\n",
    "        print(\"Shape name: Sphere, Area Formula: 4 * pi * r* r\")\n",
    "        super().__init__(name,radius)\n",
    "        self._area=0.0\n",
    "    def calc_surface_area(self):\n",
    "        self._area= 4*Shape3D.pi*self._radius**2\n",
    "    def __str__(self):\n",
    "        return \"Area: \"+str(self._area)\n",
    "class  Cylinder(Shape3D):\n",
    "    def __init__(self, name, radius,height):\n",
    "        print(\"Shape name: Cylinder, Area Formula: 2 * pi *r * (r + h)\")\n",
    "        super().__init__(name,radius)\n",
    "        self._height=height\n",
    "        self._area=0.0\n",
    "    def calc_surface_area(self):\n",
    "        self._area=2*Shape3D.pi*self._radius*(self._radius+self._height)\n",
    "    def __str__(self):\n",
    "        return \"Area: \"+str(self._area)\n",
    "    \n",
    "# Execution commands    \n",
    "sph = Sphere('Sphere', 5)\n",
    "print('----------------------------------')\n",
    "sph.calc_surface_area()\n",
    "print(sph)\n",
    "print('==================================')\n",
    "cyl = Cylinder('Cylinder', 5, 10)\n",
    "print('----------------------------------')\n",
    "cyl.calc_surface_area()\n",
    "print(cyl)"
   ]
  },
  {
   "cell_type": "markdown",
   "metadata": {},
   "source": [
    "# 8"
   ]
  },
  {
   "cell_type": "code",
   "execution_count": 7,
   "metadata": {},
   "outputs": [
    {
     "name": "stdout",
     "output_type": "stream",
     "text": [
      "Name: Default, HP: 0, Weakness: None\n",
      "Main type: Unknown\n",
      "Basic move: Quick Attack\n",
      "\n",
      "------------Pokemon 1 Info:-------------\n",
      "Name: Charmander, HP: 39, Weakness: Water\n",
      "Main type: Fire, Secondary type: \n",
      "Basic move: Quick Attack\n",
      "\n",
      "------------Pokemon 2 Info:-------------\n",
      "Name: Charizard, HP: 78, Weakness: Water\n",
      "Main type: Fire, Secondary type: Flying\n",
      "Basic move: Quick Attack\n",
      "Other move:Fire Spin, Fire Blaze\n"
     ]
    }
   ],
   "source": [
    "class PokemonBasic:\n",
    "    def __init__(self, name = 'Default', hp = 0,weakness = 'None', type = 'Unknown'):\n",
    "        self.name = name\n",
    "        self.hit_point = hp\n",
    "        self.weakness = weakness\n",
    "        self.type = type\n",
    "    def get_type(self):\n",
    "        return 'Main type: ' + self.type\n",
    "    def get_move(self):\n",
    "        return 'Basic move: ' + 'Quick Attack'\n",
    "    def __str__(self):\n",
    "        return \"Name: \" + self.name + \", HP: \" +str(self.hit_point) + \", Weakness: \" + self.weakness\n",
    "        print('\\n------------Basic Info:--------------')\n",
    "\n",
    "#Solution:\n",
    "class PokemonExtra(PokemonBasic):\n",
    "    def __init__(self,name,hp,weakness,first_type,second_type=\"\",otherMove=()):\n",
    "        super().__init__(name,hp,weakness,first_type)\n",
    "        self.second_type=second_type\n",
    "        self.otherMove=otherMove\n",
    "    def get_type(self):\n",
    "        return super().get_type()+\", Secondary type: \"+self.second_type\n",
    "    def get_move(self):\n",
    "        msg=super().get_move()\n",
    "        if len(self.otherMove)!=0:\n",
    "            msg+=\"\\nOther move:\"\n",
    "            for e in self.otherMove:\n",
    "                if e!=self.otherMove[-1]:\n",
    "                       msg+=e+\", \"\n",
    "                else:\n",
    "                       msg+=e\n",
    "        return msg\n",
    "               \n",
    "\n",
    "# Execution commands    \n",
    "pk = PokemonBasic()\n",
    "print(pk)\n",
    "print(pk.get_type())\n",
    "print(pk.get_move())\n",
    "print('\\n------------Pokemon 1 Info:-------------')\n",
    "charmander = PokemonExtra('Charmander', 39, 'Water','Fire')\n",
    "print(charmander)\n",
    "print(charmander.get_type())\n",
    "print(charmander.get_move())\n",
    "print('\\n------------Pokemon 2 Info:-------------')\n",
    "charizard = PokemonExtra('Charizard', 78, 'Water','Fire', 'Flying', ('Fire Spin', 'Fire Blaze'))\n",
    "print(charizard)\n",
    "print(charizard.get_type())\n",
    "print(charizard.get_move())"
   ]
  }
 ],
 "metadata": {
  "kernelspec": {
   "display_name": "Python 3",
   "language": "python",
   "name": "python3"
  },
  "language_info": {
   "codemirror_mode": {
    "name": "ipython",
    "version": 3
   },
   "file_extension": ".py",
   "mimetype": "text/x-python",
   "name": "python",
   "nbconvert_exporter": "python",
   "pygments_lexer": "ipython3",
   "version": "3.7.6"
  }
 },
 "nbformat": 4,
 "nbformat_minor": 4
}
