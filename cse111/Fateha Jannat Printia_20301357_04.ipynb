{
 "cells": [
  {
   "cell_type": "code",
   "execution_count": 3,
   "metadata": {},
   "outputs": [
    {
     "name": "stdout",
     "output_type": "stream",
     "text": [
      "======================\n",
      "Model:Intel i5 10th Gen\n",
      "Cores:6\n",
      "Threads:12 \n",
      "Price: 17000 taka\n",
      "======================\n",
      "Model:Ryzen 5 3500X\n",
      "Cores:6\n",
      "Threads:6 \n",
      "Price: 13800 taka\n",
      "======================\n",
      "Model:Ryzen 5 3600\n",
      "Cores:6\n",
      "Threads:12 \n",
      "Price: 16900 taka\n"
     ]
    }
   ],
   "source": [
    "class Processor:\n",
    "    def __init__(self, model, core, thread):\n",
    "        self.model = model\n",
    "        self.core = core\n",
    "        self.thread = thread\n",
    "    def getInfo(self):\n",
    "         return \"Model:\"+self.model+ \"\\nCores:\"+str(self.core)+  \"\\nThreads:\"+ str(self.thread)\n",
    "\n",
    "\n",
    "class Intel(Processor):\n",
    "    def __init__(self, model, core, thread,price):\n",
    "        super().__init__( model, core, thread)\n",
    "        self.price=price\n",
    "    def getInfo(self):\n",
    "        print(super().getInfo(),'\\nPrice:',self.price,\"taka\")\n",
    "\n",
    "class AMD(Intel):\n",
    "    pass\n",
    "p1 = Intel(\"Intel i5 10th Gen\",6,12,17000)\n",
    "p2 = AMD(\"Ryzen 5 3500X\",6,6,13800)\n",
    "p3 = AMD(\"Ryzen 5 3600\",6,12,16900)\n",
    "print('======================')\n",
    "p1.getInfo()\n",
    "print('======================')\n",
    "p2.getInfo()\n",
    "print('======================')\n",
    "p3.getInfo()\n"
   ]
  },
  {
   "cell_type": "code",
   "execution_count": null,
   "metadata": {},
   "outputs": [],
   "source": [
    "# ======================\n",
    "# Model: Intel i5 10th Gen\n",
    "# Cores: 6\n",
    "# Threads: 12\n",
    "# Price: 17000 taka\n",
    "# ======================\n",
    "# Model: Ryzen 5 3500X\n",
    "# Cores: 6\n",
    "# Threads: 6\n",
    "# Price: 13800 taka\n",
    "# ======================\n",
    "# Model: Ryzen 5 3600\n",
    "# Cores: 6\n",
    "# Threads: 12\n",
    "# Price: 16900 taka\n",
    "\n"
   ]
  }
 ],
 "metadata": {
  "kernelspec": {
   "display_name": "Python 3",
   "language": "python",
   "name": "python3"
  },
  "language_info": {
   "codemirror_mode": {
    "name": "ipython",
    "version": 3
   },
   "file_extension": ".py",
   "mimetype": "text/x-python",
   "name": "python",
   "nbconvert_exporter": "python",
   "pygments_lexer": "ipython3",
   "version": "3.7.6"
  }
 },
 "nbformat": 4,
 "nbformat_minor": 4
}
