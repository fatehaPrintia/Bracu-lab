{
 "cells": [
  {
   "cell_type": "code",
   "execution_count": 12,
   "metadata": {},
   "outputs": [
    {
     "name": "stdout",
     "output_type": "stream",
     "text": [
      "HOusE\n",
      "HOUSE\n"
     ]
    }
   ],
   "source": [
    "##string task 1\n",
    "string10=input()\n",
    "upper10=0\n",
    "lower10=0\n",
    "\n",
    "for P in string10:\n",
    "    if P.isupper():\n",
    "        upper10+=1\n",
    "    else:\n",
    "        lower10+=1\n",
    "if upper10>lower10:\n",
    "    string10=string10.upper()\n",
    "    print(string10)\n",
    "    \n",
    "else:\n",
    "    string10=string10.lower()\n",
    "    print(string10)"
   ]
  },
  {
   "cell_type": "code",
   "execution_count": 20,
   "metadata": {},
   "outputs": [
    {
     "name": "stdout",
     "output_type": "stream",
     "text": [
      "sFDAVS6\n",
      "MIXED\n"
     ]
    }
   ],
   "source": [
    "##string task 2\n",
    "string10=input()\n",
    "\n",
    "upper10=0\n",
    "lower10=0\n",
    "\n",
    "for p in string10:\n",
    "    \n",
    "    if ord(p)>=48 and ord(p)<=59:\n",
    "        upper10+=1\n",
    "        \n",
    "    elif ord(p)>=65 and ord(p)<=90 or ord(p)>=97 and ord(p)<=122:\n",
    "        lower10+=1\n",
    "        \n",
    "if upper10==0 and lower10!=0:\n",
    "    print('WORD')\n",
    "    \n",
    "elif lower10!=0 and upper10!=0:\n",
    "    print('MIXED')\n",
    "    \n",
    "elif upper10!=0 and lower==0:\n",
    "    print('NUMBER')"
   ]
  },
  {
   "cell_type": "code",
   "execution_count": 41,
   "metadata": {},
   "outputs": [
    {
     "name": "stdout",
     "output_type": "stream",
     "text": [
      "baNgladEsh\n",
      "glad\n"
     ]
    }
   ],
   "source": [
    "##string task 3\n",
    "string10=str(input())\n",
    "upper=0\n",
    "upper2=0\n",
    "for p in range(len(string10)-1,0,-1):\n",
    "    if string10[p].isupper():\n",
    "        upper2=p\n",
    "        break\n",
    "for p in range(len(string10)):\n",
    "    if string10[p].isupper():\n",
    "        upper=p\n",
    "        break\n",
    "if string10[upper+1:uppe1r2]=='':\n",
    "    print('BLANK')\n",
    "else:\n",
    "    print(string10[upper+1:upper2])"
   ]
  },
  {
   "cell_type": "code",
   "execution_count": 22,
   "metadata": {},
   "outputs": [
    {
     "name": "stdout",
     "output_type": "stream",
     "text": [
      "enter your string: This book is good too!\n",
      "This book is good too!\n"
     ]
    }
   ],
   "source": [
    "##string task 4\n",
    "string10=input()\n",
    "string10=string10.replace(\"too good\",\"excellent\")\n",
    "print(string)"
   ]
  },
  {
   "cell_type": "code",
   "execution_count": 42,
   "metadata": {},
   "outputs": [
    {
     "name": "stdout",
     "output_type": "stream",
     "text": [
      "s1live\n",
      "s2sun\n",
      "Nothing in common.\n"
     ]
    }
   ],
   "source": [
    "##string task 5\n",
    "string1=input('s1')\n",
    "string2=input('s2')\n",
    "string3=''\n",
    "for i in string1:\n",
    "    for j in string2:\n",
    "        if i==j:\n",
    "            string3+=i\n",
    "            break\n",
    "for i in string2:\n",
    "    for j in string1:\n",
    "        if i==j:\n",
    "            string3+=i\n",
    "            break\n",
    "if len(string3)==0:\n",
    "    print('Nothing in common.')\n",
    "else:\n",
    "    print(string3)"
   ]
  },
  {
   "cell_type": "code",
   "execution_count": 3,
   "metadata": {},
   "outputs": [
    {
     "name": "stdout",
     "output_type": "stream",
     "text": [
      "tanjiro komando\n",
      "a\n",
      "tnjiro komndo"
     ]
    }
   ],
   "source": [
    "sentence = input()\n",
    "letter = input()\n",
    "list = []\n",
    "no = 0\n",
    "for i in sentence:\n",
    "    if i == letter:\n",
    "        no += 1\n",
    "        pass\n",
    "    else:\n",
    "        list.append(i)\n",
    "\n",
    "if no == 0 and len(sentence) > 3:\n",
    "    for j in range(1,len(list)):\n",
    "        print(list[j],end=\"\")\n",
    "else:\n",
    "    for j in list:\n",
    "        print(j,end=\"\")"
   ]
  },
  {
   "cell_type": "code",
   "execution_count": 3,
   "metadata": {},
   "outputs": [
    {
     "name": "stdout",
     "output_type": "stream",
     "text": [
      "OhMyBR@CU20\n",
      "ok\n",
      "\n"
     ]
    }
   ],
   "source": [
    "##string task 6\n",
    "password=input()\n",
    "upper=0\n",
    "lower=0\n",
    "digit=0\n",
    "character=0\n",
    "string=''\n",
    "for p in password:\n",
    "    \n",
    "    if p.isupper():\n",
    "        upper+=1\n",
    "        \n",
    "    if p.islower():\n",
    "        lower+=1\n",
    "        \n",
    "    if p.isdigit():\n",
    "        digit+=1\n",
    "        \n",
    "    if p=='_'or p=='$'or p=='#'or p=='@':\n",
    "        character+=1\n",
    "        \n",
    "if upper>0 and lower>0 and digit>0 and character>0:\n",
    "    print('ok')\n",
    "    \n",
    "if upper==0:\n",
    "    string+='Uppercase character missing,'\n",
    "    \n",
    "if lower==0:\n",
    "    string+='Lowercase character missing,'\n",
    "    \n",
    "if digit==0:\n",
    "    string+='Digit missing,'\n",
    "    \n",
    "if character==0:\n",
    "    string+='Special character missing'\n",
    "    \n",
    "print(string)"
   ]
  },
  {
   "cell_type": "code",
   "execution_count": 6,
   "metadata": {},
   "outputs": [
    {
     "name": "stdout",
     "output_type": "stream",
     "text": [
      "10\n",
      "20\n",
      "10\n",
      "30\n",
      "20\n",
      "STOP\n",
      "10 - 2 times\n",
      "20 - 2 times\n",
      "30 - 1 times\n"
     ]
    }
   ],
   "source": [
    "##list task 1\n",
    "list1=[]\n",
    "list2=[]\n",
    "num=input()\n",
    "\n",
    "while num!='STOP':\n",
    "    list1.append(num)\n",
    "    num=input()\n",
    "list2.append(list1[0])\n",
    "\n",
    "for p in range(1,len(list1),1):\n",
    "    if list1[p] not in list2:\n",
    "        list2.append(list1[p])\n",
    "        \n",
    "for p in list2:\n",
    "    x=list1.count(p)\n",
    "    print(p,'-',x,'times')"
   ]
  },
  {
   "cell_type": "code",
   "execution_count": 22,
   "metadata": {},
   "outputs": [
    {
     "name": "stdout",
     "output_type": "stream",
     "text": [
      "4\n",
      "1 2 3\n",
      "4 5 6\n",
      "10 11 12\n",
      "7 8 9\n",
      "33\n",
      "[10, 11, 12]\n"
     ]
    }
   ],
   "source": [
    "##list task 2\n",
    "num=int(input())\n",
    "dic={}\n",
    "for p in range(num):\n",
    "    \n",
    "    list1=[int(q) for q in input().split()]\n",
    "    \n",
    "    dic[sum(list1)]=list1\n",
    "    \n",
    "list2=[k for k in dic.keys()]\n",
    "\n",
    "print(max(list2))\n",
    "\n",
    "print(dic[max(list2)])\n",
    "    "
   ]
  },
  {
   "cell_type": "code",
   "execution_count": 26,
   "metadata": {},
   "outputs": [
    {
     "name": "stdout",
     "output_type": "stream",
     "text": [
      "2 3 6\n",
      "3 4 5\n",
      "[6, 8, 10, 9, 12, 15, 18, 24, 30]\n"
     ]
    }
   ],
   "source": [
    "##list task 3\n",
    "list1=input().split()\n",
    "list2=input().split()\n",
    "list3=[]\n",
    "for p in list1:\n",
    "    for q in list2:\n",
    "        list3.append(int(p)*int(q))\n",
    "print(list3)"
   ]
  },
  {
   "cell_type": "code",
   "execution_count": 49,
   "metadata": {},
   "outputs": [
    {
     "name": "stdout",
     "output_type": "stream",
     "text": [
      "1 4 2 3\n",
      "UB Jumper\n",
      "2 1 4 6 10\n",
      "UB Jumper\n",
      "1 4 2 -1 6\n",
      "Not UB Jumper\n",
      "STOP\n"
     ]
    }
   ],
   "source": [
    "##list task 4\n",
    "while True:\n",
    "    num=input().split()\n",
    "    if 'STOP' in num:\n",
    "        break\n",
    "    else:\n",
    "        for p in range(len(num)):\n",
    "            num[p]=int(num[p])\n",
    "        lst2=[]\n",
    "        s1=''\n",
    "        for i in range(len(num)-1):\n",
    "            lst2.append(num[i]-num[i+1])\n",
    "            lst2[i]=abs(lst2[i])\n",
    "        for j in range(1,len(num)):\n",
    "            if j in lst2:\n",
    "                s1='UB Jumper'\n",
    "            \n",
    "            else:\n",
    "                s1=\"Not UB Jumper\"\n",
    "                break\n",
    "        print(s1)"
   ]
  },
  {
   "cell_type": "code",
   "execution_count": 2,
   "metadata": {},
   "outputs": [
    {
     "name": "stdout",
     "output_type": "stream",
     "text": [
      "Bracu1234\n",
      "acruB1324\n"
     ]
    }
   ],
   "source": [
    "##list task 5\n",
    "text=input()\n",
    "upper=[]\n",
    "lower=[]\n",
    "odd=[]\n",
    "even=[]\n",
    "for p in text:\n",
    "    if 97<=ord(p)<=122:\n",
    "        lower.append(p)\n",
    "    elif 65<=ord(p)<=90:\n",
    "        upper.append(p)\n",
    "    elif int(p)%2!=0:\n",
    "        odd.append(p)\n",
    "    else:\n",
    "        even.append(p)\n",
    "lower.sort()\n",
    "upper.sort()\n",
    "odd.sort()\n",
    "even.sort()\n",
    "output=\"\".join(lower)+\"\".join(upper)+\"\".join(odd)+\"\".join(even)\n",
    "print(output)"
   ]
  },
  {
   "cell_type": "code",
   "execution_count": 17,
   "metadata": {},
   "outputs": [
    {
     "name": "stdout",
     "output_type": "stream",
     "text": [
      "5 2\n",
      "0 4 5 1 0\n",
      "1\n"
     ]
    }
   ],
   "source": [
    "##list task 6\n",
    "time=[int(num) for num in input().split()]\n",
    "play=[int(k) for k in input().split()]\n",
    "count=0\n",
    "for i in range(len(play)):\n",
    "    if 5-play[i]>=time[1]:\n",
    "        count+=1\n",
    "total=count//3\n",
    "print(total)"
   ]
  },
  {
   "cell_type": "code",
   "execution_count": 48,
   "metadata": {},
   "outputs": [
    {
     "name": "stdout",
     "output_type": "stream",
     "text": [
      "a: 300, b: 200, d: 400, e: 200\n",
      "a: 100, b: 100, c: 200, d: 300\n",
      "{'a': 400, ' b': 300, ' d': 700, ' e': 200, ' c': 200}\n",
      "values: (200, 300, 400, 700)\n"
     ]
    }
   ],
   "source": [
    "#dictionary and touple task 1\n",
    "def dict_conv(text):\n",
    "    dict1={}\n",
    "    for i in range(len(text)):\n",
    "        k,v=text[i].split(\":\")\n",
    "        dict1.update({k:int(v)})\n",
    "    return dict1\n",
    "text=input().split(\",\")\n",
    "dic1=dict_conv(text)\n",
    "text=input().split(\",\")\n",
    "dic2=dict_conv(text)\n",
    "tup=()\n",
    "lst=[]\n",
    "dic3=dict(dic1)\n",
    "dic3.update(dic2)\n",
    "\n",
    "for k,v in dic1.items():\n",
    "    for k1,v1 in dic2.items():\n",
    "        if k==k1:\n",
    "            dic3[k]=int(v)+int(v1)\n",
    "\n",
    "for v in dic3.values():\n",
    "    if v not in lst:\n",
    "        lst.append(int(v))\n",
    "        lst.sort()\n",
    "        tup=tuple(lst)\n",
    "print(dic3)\n",
    "print('values:',tup)"
   ]
  },
  {
   "cell_type": "code",
   "execution_count": 3,
   "metadata": {},
   "outputs": [
    {
     "name": "stdout",
     "output_type": "stream",
     "text": [
      "10\n",
      "20\n",
      "10\n",
      "20\n",
      "60\n",
      "20\n",
      "STOP\n",
      "10-2 times\n",
      "20-3 times\n",
      "60-1 times\n"
     ]
    }
   ],
   "source": [
    "##dictionary and touple task 2\n",
    "new_dict={}\n",
    "while True:\n",
    "    n10=input()\n",
    "    if(n10=='STOP'):\n",
    "        break\n",
    "    n20=int(n10)\n",
    "    if n10 not in new_dict:\n",
    "        new_dict[n10]=1\n",
    "    else:\n",
    "        new_dict[n10]+=1\n",
    "for k,v in new_dict.items():\n",
    "    print(k+'-'+ str(v)+' times')"
   ]
  },
  {
   "cell_type": "code",
   "execution_count": 47,
   "metadata": {},
   "outputs": [
    {
     "name": "stdout",
     "output_type": "stream",
     "text": [
      "key1 value1 key2 value2 key3 value1\n",
      "{'value1': ['key1', 'key3'], 'value2': ['key2']}\n"
     ]
    }
   ],
   "source": [
    "##dictionary and touple task 3\n",
    "dic1={}\n",
    "dic2={}\n",
    "num=input().split()\n",
    "for i in range(0,len(num),2):\n",
    "    dic1.update({num[i]:num[i+1]})\n",
    "for k,v in dic1.items():\n",
    "    if v not in dic2:\n",
    "        dic2.update({v:[k]})\n",
    "    else:\n",
    "        dic2[v].append(k)\n",
    "print(dic2)"
   ]
  },
  {
   "cell_type": "code",
   "execution_count": null,
   "metadata": {},
   "outputs": [],
   "source": [
    "dic1={}\n",
    "dic2={}\n",
    "num=input().split()\n",
    "for i in range(0,len(num),2):\n",
    "    dic1.update({num[i]:num[i+1]})\n",
    "for k,v in dic1.items():\n",
    "    if ord():\n",
    "        dic2.update({v:[k]})\n",
    "    else:\n",
    "        dic2[v].append(k)\n",
    "print(dic2)"
   ]
  },
  {
   "cell_type": "code",
   "execution_count": 6,
   "metadata": {},
   "outputs": [
    {
     "name": "stdout",
     "output_type": "stream",
     "text": [
      "space basisl i v e\n",
      "space basise v i l\n",
      "Those strings are anagrams.\n"
     ]
    }
   ],
   "source": [
    "##dictionary and touple task 4\n",
    "dic1={}\n",
    "dic2={}\n",
    "count=0\n",
    "num=input('space basis').split()\n",
    "num1=input('space basis').split()\n",
    "for i in range(0,len(num)):\n",
    "    dic1.update({num[i]:0})\n",
    "for j in range(0,len(num1)):\n",
    "    dic2.update({num1[j]:0})\n",
    "for k,v in dic1.items():\n",
    "    for k1 in dic2:\n",
    "        if k==k1:\n",
    "            count+=1\n",
    "        else:\n",
    "            count=1\n",
    "if dic1==dic2:\n",
    "    print('Those strings are anagrams.')\n",
    "else:\n",
    "     print('Those strings are not anagrams.')"
   ]
  },
  {
   "cell_type": "code",
   "execution_count": 32,
   "metadata": {},
   "outputs": [
    {
     "name": "stdout",
     "output_type": "stream",
     "text": [
      "Hello, World!\n",
      "4433555555666110966677755531111"
     ]
    }
   ],
   "source": [
    "##dictionary and touple task 5\n",
    "press={'1':['.',',','?','!',':'],'2':['A','B','C'],'3':['D','E','F'],'4':['G','H','I'],'5':['J','K','L'],'6':['M','N','O'],\n",
    "'7':['P','Q','R','S'],'8':['T','U','V'],'9':['W','X','Y','Z'],'0':[' ']}\n",
    "text=input('').upper()\n",
    "for i in text:\n",
    "    for k,v in press.items():\n",
    "        if i in v:\n",
    "                print(k*(v.index(i)+1),end='')"
   ]
  },
  {
   "cell_type": "code",
   "execution_count": null,
   "metadata": {},
   "outputs": [],
   "source": []
  }
 ],
 "metadata": {
  "kernelspec": {
   "display_name": "Python 3",
   "language": "python",
   "name": "python3"
  },
  "language_info": {
   "codemirror_mode": {
    "name": "ipython",
    "version": 3
   },
   "file_extension": ".py",
   "mimetype": "text/x-python",
   "name": "python",
   "nbconvert_exporter": "python",
   "pygments_lexer": "ipython3",
   "version": "3.7.6"
  }
 },
 "nbformat": 4,
 "nbformat_minor": 4
}
