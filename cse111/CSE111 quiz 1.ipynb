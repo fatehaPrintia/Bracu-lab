{
 "cells": [
  {
   "cell_type": "code",
   "execution_count": 18,
   "metadata": {},
   "outputs": [
    {
     "name": "stdout",
     "output_type": "stream",
     "text": [
      "We Love Programming\n",
      "{'Uppercase': ['W', 'L', 'P'], 'Lowercase': ['e', 'o', 'v', 'r', 'g', 'a', 'm', 'i', 'n']}\n"
     ]
    }
   ],
   "source": [
    "##task for quiz\n",
    "string10=input()\n",
    "dict1={'Uppercase':[],'Lowercase':[]}\n",
    "for i in string10:\n",
    "    if 65<=ord(i)<=90:\n",
    "        if i not in dict1['Uppercase']:\n",
    "            dict1['Uppercase'].append(i)\n",
    "    elif 97<=ord(i)<=122:\n",
    "        if i not in dict1['Lowercase']:\n",
    "            dict1['Lowercase'].append(i)\n",
    "print(dict1)"
   ]
  },
  {
   "cell_type": "code",
   "execution_count": null,
   "metadata": {},
   "outputs": [],
   "source": []
  }
 ],
 "metadata": {
  "kernelspec": {
   "display_name": "Python 3",
   "language": "python",
   "name": "python3"
  },
  "language_info": {
   "codemirror_mode": {
    "name": "ipython",
    "version": 3
   },
   "file_extension": ".py",
   "mimetype": "text/x-python",
   "name": "python",
   "nbconvert_exporter": "python",
   "pygments_lexer": "ipython3",
   "version": "3.7.6"
  }
 },
 "nbformat": 4,
 "nbformat_minor": 4
}
