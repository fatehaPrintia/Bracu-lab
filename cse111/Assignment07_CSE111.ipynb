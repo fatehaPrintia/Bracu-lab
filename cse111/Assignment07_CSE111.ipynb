{
 "cells": [
  {
   "cell_type": "code",
   "execution_count": 6,
   "metadata": {},
   "outputs": [
    {
     "name": "stdout",
     "output_type": "stream",
     "text": [
      "Name: Default Department: BBA\n",
      "Name: Humpty Dumpty Department: BBA\n",
      "Name: Little Bo Peep Department: BBA\n"
     ]
    }
   ],
   "source": [
    "##task 1\n",
    "class Student:\n",
    "    def __init__(self, name='Just a student', dept='nothing'):\n",
    "                 self.__name = name\n",
    "                 self.__department = dept\n",
    "    def set_department(self, dept):\n",
    "                 self.__department = dept\n",
    "    def get_name(self):\n",
    "                 return self.__name\n",
    "    def set_name(self,name):\n",
    "                 self.__name = name\n",
    "    def __str__(self):\n",
    "                 return 'Name: '+self.__name+' Department: '+self.__department\n",
    "class BBA_Student(Student):\n",
    "    def __init__(self,name='Default'):\n",
    "        super().__init__(name,'BBA')\n",
    "print(BBA_Student())\n",
    "print(BBA_Student('Humpty Dumpty'))\n",
    "print(BBA_Student('Little Bo Peep'))"
   ]
  },
  {
   "cell_type": "code",
   "execution_count": 14,
   "metadata": {},
   "outputs": [
    {
     "name": "stdout",
     "output_type": "stream",
     "text": [
      "Part 1\n",
      "------\n",
      "(0 , 0)\n",
      "(0 , 1)\n",
      "(-1 , 1)\n",
      "(-1 , 0)\n",
      "(0 , 0)\n",
      "------\n",
      "Part 2\n",
      "------\n",
      "(0 , 0)\n",
      "(-1 , -1)\n",
      "False\n",
      "True\n"
     ]
    }
   ],
   "source": [
    "#task 2\n",
    "class Vehicle:\n",
    "    def __init__(self):\n",
    "        self.x = 0\n",
    "        self.y = 0\n",
    "    def moveUp(self):\n",
    "        self.y+=1\n",
    "    def moveDown(self):\n",
    "        self.y-=1\n",
    "    def moveRight(self):\n",
    "        self.x+=1\n",
    "    def moveLeft(self):\n",
    "        self.x-=1\n",
    "    def __str__(self):\n",
    "        return '('+str(self.x)+' , '+str(self.y)+')'\n",
    "class Vehicle2010(Vehicle):\n",
    "    def __init__(self):\n",
    "        super().__init__()\n",
    "    def moveLowerLeft(self):\n",
    "        self.x-=1\n",
    "        self.y-=1\n",
    "    def equals(self,other):\n",
    "        if self.x==other.x and self.y==other.y:\n",
    "            return 'True'\n",
    "        else:\n",
    "            return 'False'\n",
    "\n",
    "print('Part 1')\n",
    "print('------')\n",
    "car = Vehicle()\n",
    "print(car)\n",
    "car.moveUp()\n",
    "print(car)\n",
    "car.moveLeft()\n",
    "print(car)\n",
    "car.moveDown()\n",
    "print(car)\n",
    "car.moveRight()\n",
    "print(car)\n",
    "print('------')\n",
    "print('Part 2')\n",
    "print('------')\n",
    "car1 = Vehicle2010()\n",
    "print(car1)\n",
    "car1.moveLowerLeft()\n",
    "print(car1)\n",
    "car2 = Vehicle2010()\n",
    "car2.moveLeft()\n",
    "print(car1.equals(car2))\n",
    "car2.moveDown()\n",
    "print(car1.equals(car2))"
   ]
  },
  {
   "cell_type": "code",
   "execution_count": 1,
   "metadata": {},
   "outputs": [
    {
     "name": "stdout",
     "output_type": "stream",
     "text": [
      "Cricket Tournament name:Default\n",
      "Number of Teams:0\n",
      "Type:No type\n",
      "-----------------------\n",
      "Cricket Tournament name:IPL\n",
      "Number of Teams:10\n",
      "Type:t20\n",
      "-----------------------\n",
      "Tennis Tournament Name:Roland Garros\n",
      "Number of Players:128\n"
     ]
    }
   ],
   "source": [
    "##task 3\n",
    "class Tournament:\n",
    "    def __init__(self,name='Default'):\n",
    "        self.__name = name\n",
    "    def set_name(self,name):\n",
    "        self.__name = name\n",
    "    def get_name(self):\n",
    "        return self.__name\n",
    "class Cricket_Tournament(Tournament):\n",
    "    def __init__(self,name='Default',match=0,typ='No type'):\n",
    "        super().__init__(name)\n",
    "        self.match=match\n",
    "        self.typ=typ\n",
    "\n",
    "    def detail(self):\n",
    "        return 'Cricket Tournament name:'+self.get_name()+'\\nNumber of Teams:'+str(self.match)+'\\nType:'+self.typ\n",
    "class Tennis_Tournament(Tournament):\n",
    "    def __init__(self,name='Default',players=0):\n",
    "        super().__init__(name)\n",
    "        self.players=players\n",
    "    def detail(self):\n",
    "        return 'Tennis Tournament Name:'+self.get_name()+'\\nNumber of Players:'+str(self.players)\n",
    "\n",
    "ct1 = Cricket_Tournament()\n",
    "print(ct1.detail())\n",
    "print(\"-----------------------\")\n",
    "ct2 = Cricket_Tournament(\"IPL\",10,\"t20\")\n",
    "print(ct2.detail())\n",
    "print(\"-----------------------\")\n",
    "tt = Tennis_Tournament(\"Roland Garros\",128)\n",
    "print(tt.detail())"
   ]
  },
  {
   "cell_type": "code",
   "execution_count": 2,
   "metadata": {},
   "outputs": [
    {
     "name": "stdout",
     "output_type": "stream",
     "text": [
      "ID: 1 Title:The Alchemist Price: 500\n",
      "ISBN:97806 Publisher:HarperCollins\n",
      "-----------------------\n",
      "ID: 2 Title:Shotto Price: 300\n",
      "Brand:Warfaze Duration:50 minutes\n",
      "Genre:Hard Rock\n"
     ]
    }
   ],
   "source": [
    "##task 4\n",
    "class Product:\n",
    "    def __init__(self,Id, title, price):\n",
    "        self.__id = Id\n",
    "        self. __title = title\n",
    "        self. __price = price\n",
    "    def get_id_title_price(self):\n",
    "        return \"ID: \"+str(self.__id)+\" Title:\"+self.__title+\" Price: \"+str(self.__price)\n",
    "class Book(Product):\n",
    "    def __init__(self,Id,title,price,ISBN,Publisher):\n",
    "        super().__init__(Id, title, price)\n",
    "        self.ISBN=ISBN\n",
    "        self.Publisher=Publisher\n",
    "    def printDetail(self):\n",
    "        return self.get_id_title_price()+'\\nISBN:'+self.ISBN+' Publisher:'+self.Publisher\n",
    "class CD(Product):\n",
    "    def __init__(self,Id,title,price,brand,duration,genre):\n",
    "        super().__init__(Id, title, price)\n",
    "        self.brand=brand\n",
    "        self.duration=duration\n",
    "        self.genre=genre\n",
    "    def printDetail(self):\n",
    "        return self.get_id_title_price()+'\\nBrand:'+self.brand+' Duration:'+str(self.duration)+' minutes'+'\\nGenre:'+self.genre\n",
    "book = Book(1,\"The Alchemist\",500,\"97806\",\"HarperCollins\")\n",
    "print(book.printDetail())\n",
    "print(\"-----------------------\")\n",
    "cd = CD(2,\"Shotto\",300,\"Warfaze\",50,\"Hard Rock\")\n",
    "print(cd.printDetail())"
   ]
  },
  {
   "cell_type": "code",
   "execution_count": 3,
   "metadata": {},
   "outputs": [
    {
     "name": "stdout",
     "output_type": "stream",
     "text": [
      "Animal does not make sound\n",
      "meow\n",
      "bark\n"
     ]
    }
   ],
   "source": [
    "##task 5\n",
    "class Animal:\n",
    "    def __init__(self,sound):\n",
    "        self.__sound = sound\n",
    "    def makeSound(self):\n",
    "        return self.__sound\n",
    "class Printer:\n",
    "    def printSound(self, a):\n",
    "        print(a.makeSound())\n",
    "class Dog(Animal):\n",
    "    pass\n",
    "class Cat(Animal):\n",
    "    pass\n",
    "d1 = Dog('bark')\n",
    "c1 = Cat('meow')\n",
    "a1 = Animal('Animal does not make sound')\n",
    "pr = Printer()\n",
    "pr.printSound(a1)\n",
    "pr.printSound(c1)\n",
    "pr.printSound(d1)"
   ]
  },
  {
   "cell_type": "code",
   "execution_count": 44,
   "metadata": {},
   "outputs": [
    {
     "name": "stdout",
     "output_type": "stream",
     "text": [
      "Shape name:Default\n",
      "Height: 0,Base: 0\n",
      "Area:0.0\n",
      "--------------------------\n",
      "Shape name:Triangle\n",
      "Height: 10,Base: 5\n",
      "Area:25.0\n",
      "---------------------------\n",
      "Shape name:Trapezoid\n",
      "Height: 10,Base: 6 ,Side_A:4\n",
      "Area:50.0\n"
     ]
    }
   ],
   "source": [
    "##task 6\n",
    "class Shape:\n",
    "    def __init__(self, name='Default', height=0, base=0):\n",
    "        self.area = 0\n",
    "        self.name = name\n",
    "        self.height = height\n",
    "        self.base = base\n",
    "    def get_height_base(self):\n",
    "        return \"Height: \"+str(self.height)+\",Base: \"+str(self.base)\n",
    "class Triangle(Shape):\n",
    "    def __init__(self, name='Default', height=0, base=0):\n",
    "        super().__init__(name, height, base)\n",
    "    def calcArea(self):\n",
    "        self.area=1/2*self.height*self.base\n",
    "        return self.area\n",
    "    def printDetail(self):\n",
    "        return 'Shape name:'+self.name+'\\n'+self.get_height_base()+'\\nArea:'+str(self.area)\n",
    "class Trapezoid(Shape):\n",
    "    def __init__(self, name='Default', height=0, base=0,side=0):\n",
    "        super().__init__(name, height, base)\n",
    "        self.side=side\n",
    "    def calcArea(self):\n",
    "        self.area=1/2*self.height*(self.base+self.side)\n",
    "        return self.area\n",
    "    def printDetail(self):\n",
    "        return 'Shape name:'+self.name+'\\n'+self.get_height_base()+' ,Side_A:'+str(self.side)+'\\nArea:'+str(self.area)        \n",
    "tri_default = Triangle()\n",
    "tri_default.calcArea()\n",
    "print(tri_default.printDetail())\n",
    "print('--------------------------')\n",
    "tri = Triangle('Triangle', 10, 5)\n",
    "tri.calcArea()\n",
    "print(tri.printDetail())\n",
    "print('---------------------------')\n",
    "trap = Trapezoid('Trapezoid', 10, 6, 4)\n",
    "trap.calcArea()\n",
    "print(trap.printDetail())"
   ]
  },
  {
   "cell_type": "code",
   "execution_count": 67,
   "metadata": {},
   "outputs": [
    {
     "name": "stdout",
     "output_type": "stream",
     "text": [
      "Name: Ronaldo, Team Name: Juventus\n",
      "Team Role: Striker\n",
      "Total Goal: 25 ,Total Played: 32\n",
      "Goal Ratio: 0.78125\n",
      "Match Earning: 25320 k\n",
      "------------------------------------------\n",
      "Name: Zidane, Team Name: Real Madrid\n",
      "Team Role: Manager\n",
      "Total Win: 25\n",
      "Match Earning: 25000 k\n"
     ]
    }
   ],
   "source": [
    "##task 7\n",
    "class Football:\n",
    "    def __init__(self, team_name, name, role):\n",
    "        self.__team = team_name\n",
    "        self.__name = name\n",
    "        self.role = role\n",
    "        self.earning_per_match = 0\n",
    "    def get_name_team(self):\n",
    "        return 'Name: '+self.__name+', Team Name: ' +self.__team\n",
    "class Player(Football):\n",
    "    def __init__(self, team_name, name, role,goal,played):\n",
    "        super().__init__(team_name, name, role)\n",
    "        self.goal=goal\n",
    "        self.played=played\n",
    "        self.earning_per_match =self.goal*1000+self.played*10\n",
    "    def calculate_ratio(self):\n",
    "        self.ratio=0\n",
    "        self.ratio=self.goal/self.played\n",
    "    def print_details(self):\n",
    "        print(self.get_name_team())\n",
    "        print('Team Role:', self.role)\n",
    "        print('Total Goal:',self.goal,',Total Played:',self.played)\n",
    "        print('Goal Ratio:',self.ratio)\n",
    "        print('Match Earning:',self.earning_per_match,'k')\n",
    "class Manager(Football):\n",
    "    def __init__(self, team_name, name, role,win):\n",
    "        super().__init__(team_name, name, role)\n",
    "        self.win=win\n",
    "        self.earning_per_match =self.win*1000\n",
    "    def print_details(self):\n",
    "        print(self.get_name_team())\n",
    "        print('Team Role:', self.role)\n",
    "        print('Total Win:',self.win)\n",
    "        print('Match Earning:',self.earning_per_match,'k')\n",
    "        \n",
    "player_one = Player('Juventus', 'Ronaldo', 'Striker', 25, 32)\n",
    "player_one.calculate_ratio()\n",
    "player_one.print_details()\n",
    "print('------------------------------------------')\n",
    "manager_one = Manager('Real Madrid', 'Zidane', 'Manager', 25)\n",
    "manager_one.print_details()"
   ]
  },
  {
   "cell_type": "code",
   "execution_count": 3,
   "metadata": {},
   "outputs": [
    {
     "ename": "NameError",
     "evalue": "name 'sin' is not defined",
     "output_type": "error",
     "traceback": [
      "\u001b[1;31m---------------------------------------------------------------------------\u001b[0m",
      "\u001b[1;31mNameError\u001b[0m                                 Traceback (most recent call last)",
      "\u001b[1;32m<ipython-input-3-bca130f26ce6>\u001b[0m in \u001b[0;36m<module>\u001b[1;34m\u001b[0m\n\u001b[0;32m      3\u001b[0m     \u001b[0mxl\u001b[0m\u001b[1;33m=\u001b[0m\u001b[0mx\u001b[0m\u001b[1;33m-\u001b[0m\u001b[1;33m(\u001b[0m\u001b[1;33m(\u001b[0m\u001b[0msin\u001b[0m\u001b[1;33m(\u001b[0m\u001b[0mx\u001b[0m\u001b[1;33m)\u001b[0m\u001b[1;33m-\u001b[0m\u001b[1;36m2\u001b[0m\u001b[1;33m+\u001b[0m\u001b[0mx\u001b[0m\u001b[1;33m^\u001b[0m\u001b[1;36m2\u001b[0m\u001b[1;33m)\u001b[0m\u001b[1;33m/\u001b[0m\u001b[0mcos\u001b[0m\u001b[1;33m(\u001b[0m\u001b[0mx\u001b[0m\u001b[1;33m)\u001b[0m\u001b[1;33m+\u001b[0m\u001b[1;36m2\u001b[0m\u001b[1;33m*\u001b[0m\u001b[0mx\u001b[0m\u001b[1;33m)\u001b[0m\u001b[1;33m\u001b[0m\u001b[1;33m\u001b[0m\u001b[0m\n\u001b[0;32m      4\u001b[0m \u001b[1;33m\u001b[0m\u001b[0m\n\u001b[1;32m----> 5\u001b[1;33m \u001b[0mf\u001b[0m\u001b[1;33m(\u001b[0m\u001b[1;36m1\u001b[0m\u001b[1;33m)\u001b[0m\u001b[1;33m\u001b[0m\u001b[1;33m\u001b[0m\u001b[0m\n\u001b[0m",
      "\u001b[1;32m<ipython-input-3-bca130f26ce6>\u001b[0m in \u001b[0;36mf\u001b[1;34m(x)\u001b[0m\n\u001b[0;32m      1\u001b[0m \u001b[1;32mimport\u001b[0m \u001b[0mmath\u001b[0m\u001b[1;33m\u001b[0m\u001b[1;33m\u001b[0m\u001b[0m\n\u001b[0;32m      2\u001b[0m \u001b[1;32mdef\u001b[0m \u001b[0mf\u001b[0m\u001b[1;33m(\u001b[0m\u001b[0mx\u001b[0m\u001b[1;33m)\u001b[0m\u001b[1;33m:\u001b[0m\u001b[1;33m\u001b[0m\u001b[1;33m\u001b[0m\u001b[0m\n\u001b[1;32m----> 3\u001b[1;33m     \u001b[0mxl\u001b[0m\u001b[1;33m=\u001b[0m\u001b[0mx\u001b[0m\u001b[1;33m-\u001b[0m\u001b[1;33m(\u001b[0m\u001b[1;33m(\u001b[0m\u001b[0msin\u001b[0m\u001b[1;33m(\u001b[0m\u001b[0mx\u001b[0m\u001b[1;33m)\u001b[0m\u001b[1;33m-\u001b[0m\u001b[1;36m2\u001b[0m\u001b[1;33m+\u001b[0m\u001b[0mx\u001b[0m\u001b[1;33m^\u001b[0m\u001b[1;36m2\u001b[0m\u001b[1;33m)\u001b[0m\u001b[1;33m/\u001b[0m\u001b[0mcos\u001b[0m\u001b[1;33m(\u001b[0m\u001b[0mx\u001b[0m\u001b[1;33m)\u001b[0m\u001b[1;33m+\u001b[0m\u001b[1;36m2\u001b[0m\u001b[1;33m*\u001b[0m\u001b[0mx\u001b[0m\u001b[1;33m)\u001b[0m\u001b[1;33m\u001b[0m\u001b[1;33m\u001b[0m\u001b[0m\n\u001b[0m\u001b[0;32m      4\u001b[0m \u001b[1;33m\u001b[0m\u001b[0m\n\u001b[0;32m      5\u001b[0m \u001b[0mf\u001b[0m\u001b[1;33m(\u001b[0m\u001b[1;36m1\u001b[0m\u001b[1;33m)\u001b[0m\u001b[1;33m\u001b[0m\u001b[1;33m\u001b[0m\u001b[0m\n",
      "\u001b[1;31mNameError\u001b[0m: name 'sin' is not defined"
     ]
    }
   ],
   "source": [
    "import math\n",
    "def f(x):\n",
    "    xl=x-((sin(x)-2+x^2)/cos(x)+2*x)\n",
    "    \n",
    "f(1)"
   ]
  },
  {
   "cell_type": "code",
   "execution_count": null,
   "metadata": {},
   "outputs": [],
   "source": []
  }
 ],
 "metadata": {
  "kernelspec": {
   "display_name": "Python 3",
   "language": "python",
   "name": "python3"
  },
  "language_info": {
   "codemirror_mode": {
    "name": "ipython",
    "version": 3
   },
   "file_extension": ".py",
   "mimetype": "text/x-python",
   "name": "python",
   "nbconvert_exporter": "python",
   "pygments_lexer": "ipython3",
   "version": "3.7.6"
  }
 },
 "nbformat": 4,
 "nbformat_minor": 4
}
