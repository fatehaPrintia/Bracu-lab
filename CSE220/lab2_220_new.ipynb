{
  "nbformat": 4,
  "nbformat_minor": 0,
  "metadata": {
    "colab": {
      "private_outputs": true,
      "provenance": []
    },
    "kernelspec": {
      "name": "python3",
      "display_name": "Python 3"
    },
    "language_info": {
      "name": "python"
    }
  },
  "cells": [
    {
      "cell_type": "code",
      "execution_count": null,
      "metadata": {
        "id": "J0zAjyeWnBlO"
      },
      "outputs": [],
      "source": [
        "a=\"giRtfel2th\"\n",
        "b=\"rightLeft2\"\n",
        "s_a=0\n",
        "s_b=0\n",
        "c=[[None]*len(a),[None]*len(b)]\n",
        "for i in range(len(a)):\n",
        "  if \"A\" <= a[i] <=\"Z\":\n",
        "    s_a=i\n",
        "\n",
        "  if \"A\" <= b[i] <=\"Z\":\n",
        "    s_b=i\n",
        "\n",
        "  c[0][i]=a[i]\n",
        "  c[1][i]=b[i] \n",
        "\n",
        "print(c)\n",
        "i=0\n",
        "x=\"\"\n",
        "idxa=s_a\n",
        "idxb=s_b\n",
        "while True:\n",
        "  x=input()\n",
        "  if x==\"Q\" or x==\"q\":\n",
        "    break\n",
        "  idx=idxa\n",
        "  for i in range(len(c[0])):\n",
        "    print(c[0][idx],end=\" \")\n",
        "    idx=(idx-1)%len(c[0])\n",
        "  idx1=idxb\n",
        "  print()\n",
        "\n",
        "  for i in range(len(c[0])):\n",
        "    print(c[1][idx1],end=\" \")\n",
        "    idx1=(idx1+1)%len(c[0])\n",
        "\n",
        "  idxa=(idxa+1)%len(c[0])\n",
        "  idxb=(idxb+1)%len(c[0])\n",
        "  \n",
        "  print()\n",
        "\n"
      ]
    }
  ]
}