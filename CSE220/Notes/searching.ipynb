{
 "cells": [
  {
   "cell_type": "code",
   "execution_count": 3,
   "metadata": {},
   "outputs": [
    {
     "data": {
      "text/plain": [
       "1"
      ]
     },
     "execution_count": 3,
     "metadata": {},
     "output_type": "execute_result"
    }
   ],
   "source": [
    "##linear search\n",
    "def linear_search(a,x):\n",
    "    for i in range(len(a)):\n",
    "        if a[i]==x:\n",
    "            return i\n",
    "        \n",
    "        \n",
    "linear_search([12,3,4,5,2,9,8],3)\n",
    "    "
   ]
  },
  {
   "cell_type": "code",
   "execution_count": 4,
   "metadata": {},
   "outputs": [
    {
     "data": {
      "text/plain": [
       "6"
      ]
     },
     "execution_count": 4,
     "metadata": {},
     "output_type": "execute_result"
    }
   ],
   "source": [
    "def binary_search(A,val):\n",
    "    L = 0\n",
    "    R = len(A)-1\n",
    "    while(L<=R):\n",
    "        M = (L+R)//2\n",
    "        if(val == A[M]):\n",
    "            return M\n",
    "        elif (val > A[M]):\n",
    "            L = M + 1\n",
    "        else:\n",
    "            R = M - 1\n",
    "    return -1\n",
    "binary_search([1,2,3,4,5,6,7,8],7)"
   ]
  },
  {
   "cell_type": "code",
   "execution_count": null,
   "metadata": {},
   "outputs": [],
   "source": []
  }
 ],
 "metadata": {
  "kernelspec": {
   "display_name": "Python 3",
   "language": "python",
   "name": "python3"
  },
  "language_info": {
   "codemirror_mode": {
    "name": "ipython",
    "version": 3
   },
   "file_extension": ".py",
   "mimetype": "text/x-python",
   "name": "python",
   "nbconvert_exporter": "python",
   "pygments_lexer": "ipython3",
   "version": "3.7.6"
  }
 },
 "nbformat": 4,
 "nbformat_minor": 4
}
