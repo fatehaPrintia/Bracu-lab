{
 "cells": [
  {
   "cell_type": "markdown",
   "metadata": {},
   "source": [
    "# concepts\n",
    "--> dummy node means there will be no value\n",
    "-->its only use for a perticular purpus which is as Head"
   ]
  },
  {
   "cell_type": "markdown",
   "metadata": {},
   "source": [
    "# Dummy headed singly linked list\n",
    "its meand adding head as dummy node like x , infront of the singly linked list and the index of dummy node is -1 the it will be 0,1,2.........\n",
    "\n",
    "-->in singly linked list  the iteration was from / n!=None/ as n=self.head\n",
    "#Singly Linked List\n",
    "\n",
    "n = head\n",
    "while n is not None:    \n",
    "    #do something\n",
    "    n = n.next\n",
    "    \n",
    "    \n",
    "-->in dummy headed linked list the iteration will be n.next!=None\n",
    "\n",
    "#Dummy Headed Singly Linked List\n",
    "\n",
    "n = head.next\n",
    "while n is not None:    \n",
    "    #do something\n",
    "    n = n.next"
   ]
  },
  {
   "cell_type": "markdown",
   "metadata": {},
   "source": [
    "# singly circular linked list\n",
    "--> for iteration: n=self.head, loop will be /while n.next!=self.head/\n",
    "\n",
    "#Singly Circular Linked List\n",
    "n = head\n",
    "while n.next is not head:    \n",
    "    #do something\n",
    "    n = n.next"
   ]
  },
  {
   "cell_type": "markdown",
   "metadata": {},
   "source": [
    "# #Dummy Headed Circular Singly Linked List\n",
    "\n",
    "n = head.next\n",
    "while n is not head:    \n",
    "    #do something\n",
    "    n = n.next\n",
    "    \n",
    "    \n",
    " "
   ]
  },
  {
   "cell_type": "markdown",
   "metadata": {},
   "source": [
    "# doubly linked list\n",
    "\n",
    "#Forward iteration\n",
    "n = head\n",
    "while n is not None:    \n",
    "    #do something\n",
    "    n = n.next\n",
    "\n",
    "#Backward iteration\n",
    "\n",
    "n = tail\n",
    "while n is not None:    \n",
    "    #do something\n",
    "    n = n.prev"
   ]
  },
  {
   "cell_type": "markdown",
   "metadata": {},
   "source": [
    "# Dummy Headed Doubly Linked List\n",
    "\n",
    "#Forward iteration\n",
    "n = head.next\n",
    "while n is not None:    \n",
    "    #do something\n",
    "    n = n.next\n",
    "\n",
    "#Backward iteration\n",
    "\n",
    "n = tail\n",
    "while n.prev is not None:    \n",
    "    #do something\n",
    "    n = n.prev"
   ]
  },
  {
   "cell_type": "markdown",
   "metadata": {},
   "source": [
    "# Doubly Circular Linked List\n",
    "\n",
    "#Forward iteration\n",
    "\n",
    "n = head\n",
    "while n.next is not head:    \n",
    "    #do something\n",
    "    n = n.next\n",
    "\n",
    "#Backward iteration\n",
    "\n",
    "n = head.prev\n",
    "while n.prev is not head:    \n",
    "    #do something\n",
    "    n = n.prev"
   ]
  },
  {
   "cell_type": "markdown",
   "metadata": {},
   "source": [
    "# Dummy Headed Doubly Circular Linked List\n",
    "#Forward iteration\n",
    "\n",
    "n = head.next\n",
    "while n is not head:    \n",
    "    #do something\n",
    "    n = n.next\n",
    "\n",
    "#Backward iteration\n",
    "\n",
    "n = head.prev\n",
    "while n is not head:    \n",
    "    #do something\n",
    "    n = n.prev"
   ]
  },
  {
   "cell_type": "markdown",
   "metadata": {},
   "source": [
    "# Dummy Headed Doubly  Linked Circular List (DHDLCL)"
   ]
  },
  {
   "cell_type": "code",
   "execution_count": 6,
   "metadata": {},
   "outputs": [
    {
     "name": "stdout",
     "output_type": "stream",
     "text": [
      "10\n",
      "20\n",
      "30\n",
      "40\n",
      "50\n"
     ]
    }
   ],
   "source": [
    "class Node:\n",
    "    def __init__(self,element=None,next=None,previous=None):\n",
    "        self.element=element\n",
    "        self.next=next\n",
    "        self.prev=previous\n",
    "        \n",
    "class dhdlcl:\n",
    "    def __init__(self,a):\n",
    "        self.head=Node(None,None,None)\n",
    "        dummy_node=None\n",
    "        for i in a:\n",
    "            val=Node(i,None,None)\n",
    "            if dummy_node == None:\n",
    "                self.head.next=self.head.prev=val\n",
    "                val.prev=val.next=self.head\n",
    "                dummy_node=val\n",
    "            else:\n",
    "                dummy_node=self.head.prev\n",
    "                val.next=self.head\n",
    "                self.head.prev=dummy_node.next=val\n",
    "                val.prev=dummy_node\n",
    "                \n",
    "                \n",
    "        \n",
    "        \n",
    "    def printList(self):\n",
    "        n=self.head.next\n",
    "        while n!=self.head:\n",
    "            print(n.element)\n",
    "            n=n.next\n",
    "            \n",
    "\n",
    "a=[10,20,30,40,50]\n",
    "b=dhdlcl(a)\n",
    "b.printList()"
   ]
  },
  {
   "cell_type": "markdown",
   "metadata": {},
   "source": [
    "# insertion after a node"
   ]
  },
  {
   "cell_type": "code",
   "execution_count": 2,
   "metadata": {},
   "outputs": [
    {
     "name": "stdout",
     "output_type": "stream",
     "text": [
      "10,20,30,80,40,50,"
     ]
    }
   ],
   "source": [
    "class Node:\n",
    "    def __init__(self,element,next,prev):\n",
    "        self.element=element\n",
    "        self.next=next\n",
    "        self.prev=prev\n",
    "        \n",
    "class dummy_headed_circular_linkedlist:\n",
    "    def __init__(self,a):\n",
    "        self.head=Node(None,None,None)\n",
    "        dummy_node=None\n",
    "        for i in a:\n",
    "            val=Node(i,None,None)\n",
    "            if dummy_node==None:\n",
    "                self.head.next=self.head.prev=val\n",
    "                val.next=val.prev=self.head\n",
    "                dummy_node=val\n",
    "                \n",
    "            else:\n",
    "                dummy_node=self.head.prev\n",
    "                val.next=self.head\n",
    "                self.head.prev=dummy_node.next=val\n",
    "                val.prev=dummy_node\n",
    "                \n",
    "                \n",
    "    def insert(self,indx,newelement):\n",
    "        val=Node(newelement,None,None)\n",
    "        n=self.head.next\n",
    "        count=0\n",
    "        while n!=self.head:\n",
    "            if count==indx:\n",
    "                prev_node=n.next\n",
    "                val.next=prev_node\n",
    "                val.prev=n\n",
    "                n.next=prev_node.prev=val\n",
    "            n=n.next\n",
    "            count+=1\n",
    "        return n\n",
    "    \n",
    "    def print_list(self):\n",
    "        n=self.head.next\n",
    "        while n!=self.head:\n",
    "            print(n.element,end=',')\n",
    "            n=n.next\n",
    "            \n",
    "a=[10,20,30,40,50]\n",
    "b=dummy_headed_circular_linkedlist(a)\n",
    "b.insert(2,80)\n",
    "b.print_list()"
   ]
  },
  {
   "cell_type": "markdown",
   "metadata": {},
   "source": [
    "# remove a node"
   ]
  },
  {
   "cell_type": "code",
   "execution_count": 1,
   "metadata": {},
   "outputs": [
    {
     "name": "stdout",
     "output_type": "stream",
     "text": [
      "40\n",
      "10,20,30,50,"
     ]
    }
   ],
   "source": [
    "class Node:\n",
    "    def __init__(self,element,next,prev):\n",
    "        self.element=element\n",
    "        self.next=next\n",
    "        self.prev=prev\n",
    "        \n",
    "class dummy_headed_circular_linkedlist:\n",
    "    def __init__(self,a):\n",
    "        self.head=Node(None,None,None)\n",
    "        dummy_node=None\n",
    "        for i in a:\n",
    "            val=Node(i,None,None)\n",
    "            if dummy_node==None:\n",
    "                self.head.next=self.head.prev=val\n",
    "                val.next=val.prev=self.head\n",
    "                dummy_node=val\n",
    "                \n",
    "            else:\n",
    "                dummy_node=self.head.prev\n",
    "                val.next=self.head\n",
    "                self.head.prev=dummy_node.next=val\n",
    "                val.prev=dummy_node\n",
    "                \n",
    "                \n",
    "    def remove(self,ele):\n",
    "        n=self.head.next\n",
    "        while n!=self.head:\n",
    "            if n.element==ele:\n",
    "                prev_node=n.next\n",
    "                p=n.prev\n",
    "                p.next=prev_node\n",
    "                prev_node.prev=p\n",
    "                n.next=n.prev=None\n",
    "                n.elemnet=None\n",
    "                return n.element\n",
    "            n=n.next\n",
    "    \n",
    "    def print_list(self):\n",
    "        n=self.head.next\n",
    "        while n!=self.head:\n",
    "            print(n.element,end=',')\n",
    "            n=n.next\n",
    "            \n",
    "a=[10,20,30,40,50]\n",
    "b=dummy_headed_circular_linkedlist(a)\n",
    "print(b.remove(40))\n",
    "b.print_list()"
   ]
  },
  {
   "cell_type": "code",
   "execution_count": null,
   "metadata": {},
   "outputs": [],
   "source": []
  }
 ],
 "metadata": {
  "kernelspec": {
   "display_name": "Python 3",
   "language": "python",
   "name": "python3"
  },
  "language_info": {
   "codemirror_mode": {
    "name": "ipython",
    "version": 3
   },
   "file_extension": ".py",
   "mimetype": "text/x-python",
   "name": "python",
   "nbconvert_exporter": "python",
   "pygments_lexer": "ipython3",
   "version": "3.7.6"
  }
 },
 "nbformat": 4,
 "nbformat_minor": 4
}
