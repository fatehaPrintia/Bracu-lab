{
 "cells": [
  {
   "cell_type": "code",
   "execution_count": 3,
   "metadata": {},
   "outputs": [
    {
     "data": {
      "text/plain": [
       "5"
      ]
     },
     "execution_count": 3,
     "metadata": {},
     "output_type": "execute_result"
    }
   ],
   "source": [
    "#fibonacci series function recurtion\n",
    "\n",
    "def fibonacci(num):\n",
    "    if num == 0:\n",
    "        return 0\n",
    "\n",
    "    elif num == 1:\n",
    "        return 1\n",
    "\n",
    "    else:\n",
    "        return (fibonacci(num-1)+fibonacci(num-2))\n",
    "fibonacci(5)"
   ]
  },
  {
   "cell_type": "code",
   "execution_count": 25,
   "metadata": {},
   "outputs": [
    {
     "data": {
      "text/plain": [
       "5"
      ]
     },
     "execution_count": 25,
     "metadata": {},
     "output_type": "execute_result"
    }
   ],
   "source": [
    "#fibonacci series function memorization\n",
    "arr=[-1,-1,-1,-1,-1,-1,-1,-1,-1]\n",
    "def memfeb(n):\n",
    "    if arr[n]!=-1:\n",
    "        return arr[n]\n",
    "    elif n==0:\n",
    "        arr[n]=0\n",
    "        return arr[0]\n",
    "    elif n==1 or n==2:\n",
    "        arr[n]=1\n",
    "        return arr[n]\n",
    "    else:\n",
    "        \n",
    "        arr[n]=memfeb(n-1)+memfeb(n-2)\n",
    "        return arr[n]\n",
    "\n",
    "memfeb(5)"
   ]
  },
  {
   "cell_type": "code",
   "execution_count": 28,
   "metadata": {},
   "outputs": [
    {
     "ename": "IndexError",
     "evalue": "list index out of range",
     "output_type": "error",
     "traceback": [
      "\u001b[1;31m---------------------------------------------------------------------------\u001b[0m",
      "\u001b[1;31mIndexError\u001b[0m                                Traceback (most recent call last)",
      "\u001b[1;32m<ipython-input-28-acc495c6b45f>\u001b[0m in \u001b[0;36m<module>\u001b[1;34m\u001b[0m\n\u001b[0;32m      7\u001b[0m     \u001b[1;32melse\u001b[0m\u001b[1;33m:\u001b[0m\u001b[1;33m\u001b[0m\u001b[1;33m\u001b[0m\u001b[0m\n\u001b[0;32m      8\u001b[0m         \u001b[1;32mreturn\u001b[0m \u001b[0mA\u001b[0m\u001b[1;33m[\u001b[0m\u001b[0mn\u001b[0m\u001b[1;33m]\u001b[0m\u001b[1;33m.\u001b[0m\u001b[0mappend\u001b[0m\u001b[1;33m(\u001b[0m\u001b[0mFM\u001b[0m\u001b[1;33m(\u001b[0m\u001b[0mn\u001b[0m\u001b[1;33m-\u001b[0m\u001b[1;36m1\u001b[0m\u001b[1;33m)\u001b[0m\u001b[1;33m+\u001b[0m\u001b[0mFM\u001b[0m\u001b[1;33m(\u001b[0m\u001b[0mn\u001b[0m\u001b[1;33m-\u001b[0m\u001b[1;36m2\u001b[0m\u001b[1;33m)\u001b[0m\u001b[1;33m)\u001b[0m\u001b[1;33m\u001b[0m\u001b[1;33m\u001b[0m\u001b[0m\n\u001b[1;32m----> 9\u001b[1;33m \u001b[0mFM\u001b[0m\u001b[1;33m(\u001b[0m\u001b[1;36m5\u001b[0m\u001b[1;33m)\u001b[0m\u001b[1;33m\u001b[0m\u001b[1;33m\u001b[0m\u001b[0m\n\u001b[0m\u001b[0;32m     10\u001b[0m \u001b[1;31m# arr=list()\u001b[0m\u001b[1;33m\u001b[0m\u001b[1;33m\u001b[0m\u001b[1;33m\u001b[0m\u001b[0m\n\u001b[0;32m     11\u001b[0m \u001b[1;31m# def febmemmm(n):\u001b[0m\u001b[1;33m\u001b[0m\u001b[1;33m\u001b[0m\u001b[1;33m\u001b[0m\u001b[0m\n",
      "\u001b[1;32m<ipython-input-28-acc495c6b45f>\u001b[0m in \u001b[0;36mFM\u001b[1;34m(n)\u001b[0m\n\u001b[0;32m      1\u001b[0m \u001b[0mA\u001b[0m\u001b[1;33m=\u001b[0m\u001b[1;33m[\u001b[0m\u001b[1;33m]\u001b[0m\u001b[1;33m\u001b[0m\u001b[1;33m\u001b[0m\u001b[0m\n\u001b[0;32m      2\u001b[0m \u001b[1;32mdef\u001b[0m \u001b[0mFM\u001b[0m\u001b[1;33m(\u001b[0m\u001b[0mn\u001b[0m\u001b[1;33m)\u001b[0m\u001b[1;33m:\u001b[0m\u001b[1;33m\u001b[0m\u001b[1;33m\u001b[0m\u001b[0m\n\u001b[1;32m----> 3\u001b[1;33m     \u001b[1;32mif\u001b[0m\u001b[1;33m(\u001b[0m\u001b[0mA\u001b[0m\u001b[1;33m[\u001b[0m\u001b[0mn\u001b[0m\u001b[1;33m]\u001b[0m \u001b[1;33m>\u001b[0m \u001b[1;36m0\u001b[0m\u001b[1;33m)\u001b[0m\u001b[1;33m:\u001b[0m\u001b[1;33m\u001b[0m\u001b[1;33m\u001b[0m\u001b[0m\n\u001b[0m\u001b[0;32m      4\u001b[0m         \u001b[1;32mreturn\u001b[0m \u001b[0mA\u001b[0m\u001b[1;33m[\u001b[0m\u001b[0mn\u001b[0m\u001b[1;33m]\u001b[0m\u001b[1;33m\u001b[0m\u001b[1;33m\u001b[0m\u001b[0m\n\u001b[0;32m      5\u001b[0m     \u001b[1;32mif\u001b[0m\u001b[1;33m(\u001b[0m\u001b[0mn\u001b[0m \u001b[1;33m==\u001b[0m \u001b[1;36m0\u001b[0m \u001b[1;32mor\u001b[0m \u001b[0mn\u001b[0m\u001b[1;33m==\u001b[0m\u001b[1;36m1\u001b[0m\u001b[1;33m)\u001b[0m\u001b[1;33m:\u001b[0m\u001b[1;33m\u001b[0m\u001b[1;33m\u001b[0m\u001b[0m\n",
      "\u001b[1;31mIndexError\u001b[0m: list index out of range"
     ]
    }
   ],
   "source": [
    "A=[]\n",
    "def FM(n):\n",
    "    if(A[n] > 0):\n",
    "        return A[n]\n",
    "    if(n == 0 or n==1):\n",
    "        return 1\n",
    "    else:\n",
    "        return A[n].append(FM(n-1)+FM(n-2))\n",
    "FM(5)\n",
    "# arr=list()\n",
    "# def febmemmm(n):\n",
    "#     if arr[n]>0:\n",
    "#         return arr[n]\n",
    "#     elif n==0 or n==1:\n",
    "#         return 1\n",
    "#     else:\n",
    "#         return a[n].append(febmemmm(n-1)+febmemmm(n-2))\n",
    "    \n",
    "# febmemmm(5)\n",
    "    "
   ]
  },
  {
   "cell_type": "code",
   "execution_count": 29,
   "metadata": {},
   "outputs": [
    {
     "name": "stdout",
     "output_type": "stream",
     "text": [
      "13\n",
      "959000\n"
     ]
    }
   ],
   "source": [
    "\n",
    "import time\n",
    "A = list()\n",
    "def F(n):\n",
    "    if (n==0 or n==1):\n",
    "        return 1\n",
    "    else:\n",
    "        return F(n-1)+F(n-2)\n",
    "def FM(n):\n",
    "    if(A[n] > 0):\n",
    "        return A[n]\n",
    "    if(n == 0 or n==1):\n",
    "        return 1\n",
    "    else:\n",
    "        return A[n].append(FM(n-1)+FM(n-2))\n",
    "def CalcFib():\n",
    "    A.insert(0,1)\n",
    "    A.insert(1,1)\n",
    "    for i in range(2,46):\n",
    "        A.insert(i,A[i-1]+A[i-2])\n",
    "\n",
    "#-------------Tester----------------#\n",
    "CalcFib()\n",
    "startTime = time.time_ns()\n",
    "print(FM(6))\n",
    "duration = time.time_ns()-startTime\n",
    "print(duration)"
   ]
  },
  {
   "cell_type": "code",
   "execution_count": 1,
   "metadata": {},
   "outputs": [
    {
     "data": {
      "text/plain": [
       "70"
      ]
     },
     "execution_count": 1,
     "metadata": {},
     "output_type": "execute_result"
    }
   ],
   "source": [
    "###grid walking function\n",
    "\n",
    "def grid(m,n):\n",
    "    if m<0 and n<0:\n",
    "        return 0\n",
    "    elif m==0 or n==0:\n",
    "        return 1\n",
    "    else:\n",
    "        return grid(m-1,n)+grid(m,n-1)\n",
    "grid(4,4)"
   ]
  },
  {
   "cell_type": "code",
   "execution_count": 2,
   "metadata": {},
   "outputs": [
    {
     "name": "stdout",
     "output_type": "stream",
     "text": [
      "[-6, -4, -1, 0, 7, 25, 18, 9, 13, 21]\n"
     ]
    }
   ],
   "source": [
    "#selection sort recursive function\n",
    "\n",
    "def selection_sort(a,i,j):\n",
    "    l=len(a)\n",
    "    if i == l and j==l:\n",
    "        return -1\n",
    "    if i < l-1:\n",
    "        min=i\n",
    "        while j < l:\n",
    "            if a[j] < a[min]:\n",
    "                min = j\n",
    "            j=j+1\n",
    "\n",
    "        if min != i:\n",
    "            temp=a[i]\n",
    "            a[i]=a[min]\n",
    "            a[min]=temp\n",
    "            selection_sort(a,i+1,i+2)\n",
    "\n",
    "A=[13,25,0,-4,7,-1,18,9,-6,21]\n",
    "i=0\n",
    "j=i+1\n",
    "selection_sort(A,i,j)\n",
    "print(A)\n"
   ]
  },
  {
   "cell_type": "code",
   "execution_count": 3,
   "metadata": {},
   "outputs": [
    {
     "name": "stdout",
     "output_type": "stream",
     "text": [
      "[1, 2, 5, 7, 14, 22]\n"
     ]
    }
   ],
   "source": [
    "#insertion sort recursive function\n",
    "\n",
    "def insertion_sort(a,i):\n",
    "    l=len(a)\n",
    "    if i == l:\n",
    "        return -1\n",
    "    if i < l:\n",
    "        j=i-1\n",
    "        key=a[i]\n",
    "        while j>=0 and key<a[j]:\n",
    "            a[j+1]=a[j]\n",
    "            j=j-1\n",
    "            a[j+1]=key\n",
    "            insertion_sort(a,i+1)\n",
    "\n",
    "#Tester\n",
    "A=[22,5,14,2,7,1]\n",
    "i=1\n",
    "insertion_sort(A,i)\n",
    "print(A)"
   ]
  },
  {
   "cell_type": "code",
   "execution_count": null,
   "metadata": {},
   "outputs": [],
   "source": []
  }
 ],
 "metadata": {
  "kernelspec": {
   "display_name": "Python 3",
   "language": "python",
   "name": "python3"
  },
  "language_info": {
   "codemirror_mode": {
    "name": "ipython",
    "version": 3
   },
   "file_extension": ".py",
   "mimetype": "text/x-python",
   "name": "python",
   "nbconvert_exporter": "python",
   "pygments_lexer": "ipython3",
   "version": "3.7.6"
  }
 },
 "nbformat": 4,
 "nbformat_minor": 4
}
