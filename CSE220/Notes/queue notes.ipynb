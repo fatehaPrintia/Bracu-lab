{
 "cells": [
  {
   "cell_type": "markdown",
   "metadata": {},
   "source": [
    "# inserting a queue(FIFO:FIRST IN FIRST OUT) means : enqueue\n",
    "insert at end"
   ]
  },
  {
   "cell_type": "markdown",
   "metadata": {},
   "source": [
    "# removing a queue means: dequeue"
   ]
  },
  {
   "cell_type": "markdown",
   "metadata": {},
   "source": [
    "# PEEK()--> return the first element "
   ]
  },
  {
   "cell_type": "markdown",
   "metadata": {},
   "source": [
    "# queue implementation --> Enqueue"
   ]
  },
  {
   "cell_type": "code",
   "execution_count": 5,
   "metadata": {},
   "outputs": [
    {
     "name": "stdout",
     "output_type": "stream",
     "text": [
      "1\n",
      "2\n",
      "3\n",
      "4\n",
      "5\n"
     ]
    }
   ],
   "source": [
    "class CircularQueue:\n",
    "    def __init__(self):\n",
    "        self.queue=[]\n",
    "        self.head=0\n",
    "        self.tail=0\n",
    "        self.max_size=8\n",
    "    def size(self):\n",
    "        if self.tail>=self.head:\n",
    "            return (self.tail-self.head)\n",
    "        return (self.max_size - (self.head-self.tail))\n",
    "\n",
    "    def enqueue(self,item):\n",
    "        if self.size()==self.max_size-1:\n",
    "            return (\"queue is full\")\n",
    "        self.queue=self.queue+[item]\n",
    "        self.tail=(self.tail+1)%self.max_size\n",
    "        return self.tail\n",
    "    \n",
    "    def enqueue(self,data):\n",
    "        if self.size() == self.maxSize-1:\n",
    "            return (\"Queue Full!\")\n",
    "        self.queue.append(data)\n",
    "        self.tail = (self.tail + 1) % self.maxSize\n",
    "        return True\n",
    "\n",
    "    #Removing elements from the queue\n",
    "    def dequeue(self):\n",
    "        if self.size()==0:\n",
    "            return (\"Queue Empty!\") \n",
    "        data = self.queue[self.head]\n",
    "        self.head = (self.head + 1) % self.maxSize\n",
    "        return data\n",
    "q=CircularQueue()\n",
    "print(q.enqueue(1))\n",
    "print(q.enqueue(2))\n",
    "print(q.enqueue(3))\n",
    "print(q.enqueue(4))\n",
    "print(q.enqueue(5))\n",
    "print(q.dequeue())\n",
    "print(q.dequeue())\n",
    "print(q.dequeue())\n",
    "print(q.dequeue())\n",
    "print(q.dequeue())\n",
    "print(q.dequeue())\n",
    "        \n",
    "    \n",
    "    "
   ]
  },
  {
   "cell_type": "code",
   "execution_count": 3,
   "metadata": {},
   "outputs": [
    {
     "name": "stdout",
     "output_type": "stream",
     "text": [
      "Top: 1\n",
      "removed: 1\n",
      "Top: 2\n",
      "removed: 2\n",
      "Top: 3\n"
     ]
    }
   ],
   "source": [
    "##bux\n",
    "class queue:\n",
    "    font=0\n",
    "    q=[]\n",
    "    pointer=-1\n",
    "    def enqueue(self,val):\n",
    "        self.q.append(val)\n",
    "        self.pointer+=1\n",
    "        return self.q\n",
    "    def dequeue(self):\n",
    "        temp=self.q[self.font]\n",
    "        self.q=self.q[self.font+1:self.pointer]\n",
    "        self.pointer-=1\n",
    "        return temp\n",
    "    def peek(self):\n",
    "        return (self.q[self.font])\n",
    "q=queue()\n",
    "q.enqueue(1)\n",
    "print(\"Top:\",q.peek())\n",
    "q.enqueue(2)\n",
    "q.enqueue(3)\n",
    "q.enqueue(4)\n",
    "q.enqueue(5)\n",
    "q.enqueue(6)\n",
    "q.peek()\n",
    "print(\"removed:\",q.dequeue())\n",
    "print(\"Top:\",q.peek())\n",
    "print(\"removed:\",q.dequeue())\n",
    "print(\"Top:\",q.peek())"
   ]
  },
  {
   "cell_type": "code",
   "execution_count": 7,
   "metadata": {},
   "outputs": [
    {
     "name": "stdout",
     "output_type": "stream",
     "text": [
      "... 1\n",
      "... 2\n"
     ]
    },
    {
     "data": {
      "text/plain": [
       "3"
      ]
     },
     "execution_count": 7,
     "metadata": {},
     "output_type": "execute_result"
    }
   ],
   "source": [
    "class Q:\n",
    "    q=[]\n",
    "    front=0\n",
    "    pointer=-1\n",
    "    def enq(self, element):\n",
    "        self.q.append(element)\n",
    "        self.pointer+=1\n",
    "        return self.q\n",
    "\n",
    "\n",
    "    def deq(self):\n",
    "        temp=self.q[self.front]\n",
    "        self.q=self.q[self.front+1:self.pointer] #self.pointer\n",
    "        self.pointer-=1 \n",
    "        return temp\n",
    "\n",
    "    def peek(self):\n",
    "        return (self.q[self.front])\n",
    "\n",
    "\n",
    "a=Q()\n",
    "a.enq(1)\n",
    "a.enq(2)\n",
    "a.enq(3)\n",
    "a.enq(4)\n",
    "a.enq(5)\n",
    "a.peek()\n",
    "print(\"...\",a.deq())\n",
    "a.peek()\n",
    "print(\"...\",a.deq())\n",
    "a.peek()\n",
    "  "
   ]
  },
  {
   "cell_type": "code",
   "execution_count": 5,
   "metadata": {},
   "outputs": [
    {
     "name": "stdout",
     "output_type": "stream",
     "text": [
      "Top: 1\n",
      "removed: 1\n",
      "Top: 2\n",
      "removed: 2\n",
      "Top: 3\n",
      "removed: 3\n"
     ]
    }
   ],
   "source": [
    "class Node:\n",
    "    def __init__(self,val):\n",
    "        self.val=val\n",
    "        self.next=None\n",
    "class queue:\n",
    "    head=None\n",
    "    tail=None\n",
    "    def enq(self,data):\n",
    "        n=Node(data)\n",
    "        if self.head==None:\n",
    "            self.head=n\n",
    "            self.tail=n\n",
    "        else:\n",
    "            self.tail.next=n\n",
    "            self.tail=n\n",
    "\n",
    "    def dq(self):\n",
    "        temp=self.head\n",
    "        self.head=self.head.next\n",
    "        return temp.val\n",
    "#         temp.value=None\n",
    "#         temp.next=None\n",
    "        \n",
    "    def peek(self):\n",
    "        return self.head.val\n",
    "    \n",
    "    \n",
    "q=queue()\n",
    "q.enq(1)\n",
    "print(\"Top:\",q.peek())\n",
    "q.enq(2)\n",
    "q.enq(3)\n",
    "q.enq(4)\n",
    "q.enq(5)\n",
    "q.enq(6)\n",
    "q.peek()\n",
    "print(\"removed:\",q.dq())\n",
    "print(\"Top:\",q.peek())\n",
    "print(\"removed:\",q.dq()) \n",
    "print(\"Top:\",q.peek())\n",
    "print(\"removed:\",q.dq()) "
   ]
  },
  {
   "cell_type": "code",
   "execution_count": null,
   "metadata": {},
   "outputs": [],
   "source": []
  },
  {
   "cell_type": "code",
   "execution_count": null,
   "metadata": {},
   "outputs": [],
   "source": []
  }
 ],
 "metadata": {
  "kernelspec": {
   "display_name": "Python 3",
   "language": "python",
   "name": "python3"
  },
  "language_info": {
   "codemirror_mode": {
    "name": "ipython",
    "version": 3
   },
   "file_extension": ".py",
   "mimetype": "text/x-python",
   "name": "python",
   "nbconvert_exporter": "python",
   "pygments_lexer": "ipython3",
   "version": "3.7.6"
  }
 },
 "nbformat": 4,
 "nbformat_minor": 4
}
