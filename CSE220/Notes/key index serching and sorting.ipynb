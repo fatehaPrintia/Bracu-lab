{
 "cells": [
  {
   "cell_type": "code",
   "execution_count": 23,
   "metadata": {},
   "outputs": [
    {
     "name": "stdout",
     "output_type": "stream",
     "text": [
      "[0, 2, 2, 2, 0, 1, 1]\n"
     ]
    }
   ],
   "source": [
    "##kew index search\n",
    "x=[1,2,2,3,1,5,6,3]\n",
    "\n",
    "p=max(x)\n",
    "y=[0]*(p+1)\n",
    "for i in range(len(x)):\n",
    "    y[x[i]]+=1\n",
    "    \n",
    "    \n",
    "print(y)"
   ]
  },
  {
   "cell_type": "code",
   "execution_count": 7,
   "metadata": {},
   "outputs": [
    {
     "data": {
      "text/plain": [
       "False"
      ]
     },
     "execution_count": 7,
     "metadata": {},
     "output_type": "execute_result"
    }
   ],
   "source": [
    "def keyindx(x,k):\n",
    "    p=max(x)\n",
    "    y=[0]*(p+1)\n",
    "    for i in range(len(x)):\n",
    "        y[x[i]]+=1\n",
    "    if k<0 and len(y)<=k:\n",
    "        return False\n",
    "    elif y[k]!=0:\n",
    "        return True\n",
    "    else:\n",
    "        return False\n",
    "keyindx([1,2,2,3,1,5,6,3],4)"
   ]
  },
  {
   "cell_type": "code",
   "execution_count": 5,
   "metadata": {},
   "outputs": [
    {
     "name": "stdout",
     "output_type": "stream",
     "text": [
      "3\n"
     ]
    }
   ],
   "source": [
    "x=[1,2,3]\n",
    "print(x[-1])"
   ]
  },
  {
   "cell_type": "code",
   "execution_count": 9,
   "metadata": {},
   "outputs": [
    {
     "name": "stdout",
     "output_type": "stream",
     "text": [
      "[0, 2, 2, 2, 0, 1, 1]\n",
      "1,1,2,2,3,3,5,6,"
     ]
    }
   ],
   "source": [
    "def keyindx(x):\n",
    "    p=max(x)\n",
    "    y=[0]*(p+1)\n",
    "    for i in range(len(x)):\n",
    "        y[x[i]]+=1\n",
    "    print(y)\n",
    "    j=0\n",
    "    while j<len(y):\n",
    "      \n",
    "        if y[j]==0:\n",
    "            j+=1\n",
    "        else:\n",
    "            xx=y[j]\n",
    "            p=0\n",
    "            while p<xx:\n",
    "                print(j,end=\",\")\n",
    "                p+=1\n",
    "            j+=1\n",
    "                \n",
    "\n",
    "keyindx([1,2,2,3,1,5,6,3])"
   ]
  },
  {
   "cell_type": "code",
   "execution_count": 1,
   "metadata": {},
   "outputs": [
    {
     "name": "stdout",
     "output_type": "stream",
     "text": [
      "[6, 7, 7, 2, 6, 0, 11, 8]\n"
     ]
    },
    {
     "data": {
      "text/plain": [
       "True"
      ]
     },
     "execution_count": 1,
     "metadata": {},
     "output_type": "execute_result"
    }
   ],
   "source": [
    "def keyindxneg(x,k):\n",
    "    p=min(x)\n",
    "    a=p*-1\n",
    "    for i in range(len(x)):\n",
    "        x[i]+=a\n",
    "    print(x)\n",
    "    q=max(x)\n",
    "    y=[0]*(q+1)\n",
    "    for l in range(len(x)):\n",
    "        y[x[l]]+=1\n",
    "    if y[k+a]!=0:\n",
    "        return True\n",
    "    elif k<0 and len(y)<=k:\n",
    "        return False\n",
    "    else:\n",
    "        return False\n",
    "keyindxneg([1,2,2,-3,1,-5,6,3],-5)"
   ]
  },
  {
   "cell_type": "code",
   "execution_count": 3,
   "metadata": {},
   "outputs": [
    {
     "name": "stdout",
     "output_type": "stream",
     "text": [
      "[6, 7, 7, 2, 6, 0, 11, 8]\n",
      "-5,-3,1,1,2,2,3,6,"
     ]
    }
   ],
   "source": [
    "def keyindxneg(x):\n",
    "    p=min(x)\n",
    "    a=p*-1\n",
    "    for i in range(len(x)):\n",
    "        x[i]+=a\n",
    "    print(x)\n",
    "    q=max(x)\n",
    "    y=[0]*(q+1)\n",
    "    for l in range(len(x)):\n",
    "        y[x[l]]+=1\n",
    "        \n",
    "    for m in range (len(y)):\n",
    "        if y[m]==0:\n",
    "            m+=1\n",
    "        else:\n",
    "            xx=y[m]\n",
    "            p=0\n",
    "            while p<xx:\n",
    "                print(m-a,end=\",\")\n",
    "                p+=1\n",
    "            m+=1\n",
    "                \n",
    "keyindxneg([1,2,2,-3,1,-5,6,3])"
   ]
  },
  {
   "cell_type": "code",
   "execution_count": null,
   "metadata": {},
   "outputs": [],
   "source": []
  }
 ],
 "metadata": {
  "kernelspec": {
   "display_name": "Python 3",
   "language": "python",
   "name": "python3"
  },
  "language_info": {
   "codemirror_mode": {
    "name": "ipython",
    "version": 3
   },
   "file_extension": ".py",
   "mimetype": "text/x-python",
   "name": "python",
   "nbconvert_exporter": "python",
   "pygments_lexer": "ipython3",
   "version": "3.7.6"
  }
 },
 "nbformat": 4,
 "nbformat_minor": 4
}
