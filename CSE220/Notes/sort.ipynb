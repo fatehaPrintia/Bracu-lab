{
 "cells": [
  {
   "cell_type": "code",
   "execution_count": 3,
   "metadata": {},
   "outputs": [
    {
     "name": "stdout",
     "output_type": "stream",
     "text": [
      "[1, 2, 3, 6, 7, 9]\n"
     ]
    }
   ],
   "source": [
    "def bubble_sort(a):\n",
    "    for i in range(len(a)-1,-1,-1):\n",
    "        for j in range(0,i):\n",
    "            if a[j]>a[j+1]:\n",
    "                temp = a[j]\n",
    "                a[j]=a[j+1]\n",
    "                a[j+1]=temp\n",
    "    return a\n",
    "                \n",
    "\n",
    "\n",
    "print(bubble_sort([2,3,6,7,1,9]))"
   ]
  },
  {
   "cell_type": "code",
   "execution_count": 6,
   "metadata": {},
   "outputs": [
    {
     "data": {
      "text/plain": [
       "[0, 1, 2, 6, 8, 9]"
      ]
     },
     "execution_count": 6,
     "metadata": {},
     "output_type": "execute_result"
    }
   ],
   "source": [
    "def bubble_sort(my_list):\n",
    "    for i in range(len(my_list)-1):\n",
    "        for j in range(0,len(my_list)-i-1):\n",
    "            if my_list[j]>my_list[j+1]:\n",
    "                temp=my_list[j]\n",
    "                my_list[j]=my_list[j+1]\n",
    "                my_list[j+1]=temp\n",
    "    return my_list\n",
    "bubble_sort([9,2,1,0,8,6])"
   ]
  },
  {
   "cell_type": "code",
   "execution_count": 9,
   "metadata": {},
   "outputs": [
    {
     "name": "stdout",
     "output_type": "stream",
     "text": [
      "[0, 1, 2, 3, 5, 6]\n"
     ]
    }
   ],
   "source": [
    "def insertionSort(s,i):\n",
    "    if i==len(s):\n",
    "        return s\n",
    "    else:\n",
    "        j=i-1\n",
    "        for j in range(0,len(s)-1):\n",
    "             if s[j+1]<s[j]:\n",
    "                temp=s[j+1]\n",
    "                s[j+1]=s[j]\n",
    "                s[j]=temp\n",
    "                j-=1\n",
    "        insertionSort(s,i+1)\n",
    "    return s\n",
    "\n",
    "print(insertionSort([0,3,2,6,5,1],1))"
   ]
  },
  {
   "cell_type": "code",
   "execution_count": 1,
   "metadata": {},
   "outputs": [
    {
     "data": {
      "text/plain": [
       "[0, 1, 2, 3, 5, 6]"
      ]
     },
     "execution_count": 1,
     "metadata": {},
     "output_type": "execute_result"
    }
   ],
   "source": [
    "def selection_sort(A):\n",
    "    max_idx = 0\n",
    "    max = A[0]\n",
    "    for i in range(len(A)-1,-1,-1):\n",
    "        max = A[i]\n",
    "        max_idx = i\n",
    "        for j in range(0,i):\n",
    "            if(A[j]>max):\n",
    "                max = A[j]\n",
    "                max_idx = j\n",
    "        temp = A[max_idx]\n",
    "        A[max_idx]=A[i]\n",
    "        A[i]=temp\n",
    "    return A\n",
    "selection_sort([0,3,2,6,5,1])"
   ]
  },
  {
   "cell_type": "code",
   "execution_count": 2,
   "metadata": {},
   "outputs": [
    {
     "data": {
      "text/plain": [
       "[0, 1, 2, 3, 5, 6]"
      ]
     },
     "execution_count": 2,
     "metadata": {},
     "output_type": "execute_result"
    }
   ],
   "source": [
    "def insertion_sort(A):\n",
    "    for i in range(0,len(A)):\n",
    "        for j in range(i-1,-1,-1):\n",
    "            if(A[j]>A[j+1]):\n",
    "                temp = A[j]\n",
    "                A[j]=A[j+1]\n",
    "                A[j+1]=temp\n",
    "            else:\n",
    "                break\n",
    "    return A\n",
    "insertion_sort([0,3,2,6,5,1])"
   ]
  },
  {
   "cell_type": "code",
   "execution_count": 3,
   "metadata": {},
   "outputs": [
    {
     "name": "stdout",
     "output_type": "stream",
     "text": [
      "1. Investment : 25000; Profit 0.0\n",
      "2. Investment : 100000; Profit 3375.0\n",
      "3. Investment : 250000; Profit 15375.0\n",
      "4. Investment : 350000; Profit 23375.0\n"
     ]
    }
   ],
   "source": [
    "\n",
    "class FinalQ:\n",
    "        count1 = 0\n",
    "        count2 = 0\n",
    "        def print(self, array, idx):\n",
    "                if idx < len(array):\n",
    "\n",
    "                        profit = self.calcProfit(array[idx]/100)\n",
    "                        self.count1 = 0\n",
    "                        self.count2 = 0\n",
    "                        profit /= 10\n",
    "                        print(\"{0}. Investment : {1}; Profit {2}\".format(idx+1, array[idx], profit))\n",
    "                        idx += 1\n",
    "                        self.print(array, idx)\n",
    "\n",
    "        def calcProfit(self, investment):\n",
    "                if(investment <= 250):\n",
    "                        return 0\n",
    "                elif(investment <= 1000 and self.count1 < 45):\n",
    "                        self.count1 += 1\n",
    "                        return ((investment-250) + self.calcProfit(investment))\n",
    "                elif(investment > 1000 and self.count2 < 80):\n",
    "                        self.count2 += 1\n",
    "                        return ((investment-1000) + self.calcProfit(investment) + self.calcProfit(1000))\n",
    "                else:\n",
    "                        return 0\n",
    "\n",
    "array = [25000, 100000, 250000, 350000]\n",
    "f = FinalQ()\n",
    "f.print(array, 0)"
   ]
  },
  {
   "cell_type": "code",
   "execution_count": null,
   "metadata": {},
   "outputs": [],
   "source": []
  }
 ],
 "metadata": {
  "kernelspec": {
   "display_name": "Python 3",
   "language": "python",
   "name": "python3"
  },
  "language_info": {
   "codemirror_mode": {
    "name": "ipython",
    "version": 3
   },
   "file_extension": ".py",
   "mimetype": "text/x-python",
   "name": "python",
   "nbconvert_exporter": "python",
   "pygments_lexer": "ipython3",
   "version": "3.7.6"
  }
 },
 "nbformat": 4,
 "nbformat_minor": 4
}
