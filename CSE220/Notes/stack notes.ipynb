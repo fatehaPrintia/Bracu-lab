{
 "cells": [
  {
   "cell_type": "markdown",
   "metadata": {},
   "source": [
    "# STACK\n",
    "A Stack is a restricted ordered sequence in which we can only add to and remove from one end — the top\n",
    "of the stack. Imagine stacking a set of books on top of each other — you can push a new book on top of\n",
    "the stack, and you can pop the book that is currently on the top of the stack. You are not, strictly\n",
    "speaking, allowed to add to the middle of the stack, nor are you allowed to remove a book from the\n",
    "middle of the stack. The only book that can be taken out of the stack is the most recently added one; a\n",
    "stack is thus a \"last in, first out\" (LIFO) data structure.\n",
    "We use stacks everyday — from finding our way out of a maze, to evaluating postfix expressions,\n",
    "\"undoing\" the edits in a word-processor, and to implementing recursion in programming language runtime\n",
    "environments.\n",
    "\n",
    "Three basic stack operations are:\n",
    "\n",
    "push(obj): adds obj to the top of the stack (\"overflow\" error if the stack has fixed capacity, and is\n",
    "full)\n",
    "pop: removes and returns the item from the top of the stack (\"underflow\" error if the stack is\n",
    "empty)\n",
    "peek: returns the item that is on the top of the stack, but does not remove it (\"underflow\" error if the\n",
    "stack is empty)"
   ]
  },
  {
   "cell_type": "markdown",
   "metadata": {},
   "source": [
    "# applications of stack in array\n",
    "Reversing a word/string"
   ]
  },
  {
   "cell_type": "code",
   "execution_count": 35,
   "metadata": {},
   "outputs": [
    {
     "name": "stdout",
     "output_type": "stream",
     "text": [
      "[]\n",
      "[2]\n",
      "2\n",
      "[2, 3]\n",
      "[2, 3, 4]\n",
      "[2, 3, 4, 5]\n",
      "5\n",
      "5\n",
      "[2, 3, 4, 5, 6]\n",
      "6\n",
      "6\n"
     ]
    }
   ],
   "source": [
    "class Arraystack:\n",
    "    stack=[]\n",
    "    pointer=-1              #as empty nothing to be pointed\n",
    "    size=5\n",
    "    print(stack)\n",
    "    def push(self,element):\n",
    "        if self.size==len(self.stack):\n",
    "            return'Stack overflow'\n",
    "\n",
    "        self.stack.append(element)\n",
    "        self.pointer+=1\n",
    "        print(self.stack)\n",
    "\n",
    "        \n",
    "    def peek(self):\n",
    "        if len(self.stack)==0:\n",
    "            print(\"stack under flow!\")\n",
    "            return None\n",
    "        \n",
    "        return (self.stack[self.pointer])      #top most value of the stack\n",
    "    \n",
    "    def pop(self):\n",
    "        if len(self.stack)==0:\n",
    "            print(\"stack under flow!\")\n",
    "            return None\n",
    "        value=self.stack[self.pointer]\n",
    "        self.stack=self.stack[:-1]\n",
    "        self.pointer-=1\n",
    "        return value\n",
    "    \n",
    "    \n",
    "    \n",
    "stack1=Arraystack()\n",
    "stack1.push(2)\n",
    "print(stack1.peek())\n",
    "stack1.push(3)\n",
    "stack1.push(4)\n",
    "stack1.push(5)\n",
    "print(stack1.peek())\n",
    "# print(stack1.pop())\n",
    "print(stack1.peek())\n",
    "stack1.push(6)\n",
    "print(stack1.peek())\n",
    "stack1.push(7)\n",
    "print(stack1.peek())\n"
   ]
  },
  {
   "cell_type": "markdown",
   "metadata": {},
   "source": [
    "# stack in linked list"
   ]
  },
  {
   "cell_type": "code",
   "execution_count": 44,
   "metadata": {},
   "outputs": [
    {
     "name": "stdout",
     "output_type": "stream",
     "text": [
      "3\n",
      "2\n"
     ]
    }
   ],
   "source": [
    "class Node:\n",
    "    def __init__(self,element,next):\n",
    "        self.element=element\n",
    "        self.next=next\n",
    "        \n",
    "        \n",
    "class stack:\n",
    "    def __init__(self):\n",
    "        self.head=None\n",
    "        \n",
    "    def push(self,val):\n",
    "        new=Node(val,None)\n",
    "\n",
    "        if self.head==None:\n",
    "            self.head=new\n",
    "        else:\n",
    "            new.next=self.head\n",
    "            self.head=new\n",
    "            \n",
    "    def peek(self):\n",
    "        if self.head==None:\n",
    "            return \"Empty\"\n",
    "        return self.head.element\n",
    "    def pop(self):\n",
    "        if self.head==None:\n",
    "            return \"Empty\"\n",
    "        temp=self.head\n",
    "        self.head=self.head.next\n",
    "        temp.element=temp.next=None\n",
    "        \n",
    "        \n",
    "st=stack()\n",
    "st.push(1)\n",
    "st.push(2)\n",
    "st.push(3)\n",
    "print(st.peek())\n",
    "st.pop()  \n",
    "print(st.peek())"
   ]
  },
  {
   "cell_type": "markdown",
   "metadata": {},
   "source": [
    "# parenthesis balancing\n",
    "-->use a stack\n",
    "--> push (opening brackets)\n",
    "-->pop closing brackets and check whather matches or not"
   ]
  },
  {
   "cell_type": "markdown",
   "metadata": {},
   "source": [
    "# infix to postfix\n",
    "infix--(a+b)\n",
    "postfix--(ab+)\n",
    "prefix--(+ab)\n",
    "\n",
    "infix:a+b*c\n",
    "postfix:abc*+\n",
    "\n",
    "---------------------------------------------------------------------------------------------------------\n",
    "1) push the operators in the stack only if it has a heigher procedence(*,%,/-----+,-)than the top element of the stack.otherwise keep poping stack untill the current opparator can be pushed.\n",
    "\n",
    "2) stack e operants gula jbe r term gula bahire thakbe"
   ]
  }
 ],
 "metadata": {
  "kernelspec": {
   "display_name": "Python 3",
   "language": "python",
   "name": "python3"
  },
  "language_info": {
   "codemirror_mode": {
    "name": "ipython",
    "version": 3
   },
   "file_extension": ".py",
   "mimetype": "text/x-python",
   "name": "python",
   "nbconvert_exporter": "python",
   "pygments_lexer": "ipython3",
   "version": "3.7.6"
  }
 },
 "nbformat": 4,
 "nbformat_minor": 4
}
