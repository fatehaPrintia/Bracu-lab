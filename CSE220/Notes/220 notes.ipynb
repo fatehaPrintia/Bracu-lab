{
 "cells": [
  {
   "cell_type": "markdown",
   "metadata": {},
   "source": [
    "# Data Structure"
   ]
  },
  {
   "cell_type": "markdown",
   "metadata": {},
   "source": [
    "# Liner Data Structures\n",
    "\n",
    "These are the data structures which store the data elements in a sequential manner.\n",
    "Array: It is a sequential arrangement of data elements paired with the index of the data element.\n",
    "Linked List: Each data element contains a link to another element along with the data present in it.\n",
    "Stack: It is a data structure which follows only to specific order of operation. LIFO(last in First Out) or \n",
    "    FILO(First in Last Out).\n",
    "Queue: It is similar to Stack but the order of operation is only FIFO(First In First Out).\n",
    "Matrix: It is two dimensional data structure in which the data element is referred by a pair of indices.\n",
    "    \n",
    "# Non-Liner Data Structures\n",
    "\n",
    "These are the data structures in which there is no sequential linking of data elements. Any pair or group of data elements \n",
    "can be linked to each other and can be accessed without a strict sequence.\n",
    "\n",
    "Binary Tree: It is a data structure where each data element can be connected to maximum two other data elements and it \n",
    "    starts with a root node.\n",
    "Heap: It is a special case of Tree data structure where the data in the parent node is either strictly greater than/ equal \n",
    "    to the child nodes or strictly less than it’s child nodes.\n",
    "Hash Table: It is a data structure which is made of arrays associated with each other using a hash function. \n",
    "    It retrieves values using keys rather than index from a data element.\n",
    "Graph: .It is an arrangement of vertices and nodes where some of the nodes are connected to each other through links.\n",
    "# Python Specific Data Structures\n",
    "These data structures are specific to python language and they give greater flexibility in storing different types of \n",
    "data and faster processing in python environment.\n",
    "\n",
    "List: It is similar to array with the exception that the data elements can be of different data types. You can have both \n",
    "    numeric and string data in a python list.\n",
    "Tuple: Tuples are similar to lists but they are immutable which means the values in a tuple cannot be modified they can \n",
    "    only be read.\n",
    "Dictionary: The dictionary contains Key-value pairs as its data elements.\n",
    "In the next chapters we are going to learn the details of how each of these data structures can be implemented using \n",
    "Python."
   ]
  },
  {
   "cell_type": "markdown",
   "metadata": {},
   "source": [
    "# Arrays\n",
    "Array is a container which can hold a fix number of items and these items should be of the same type. Most of the data structures make use of arrays to implement their algorithms. Following are the important terms to understand the concept of Array.\n",
    "\n",
    "Element− Each item stored in an array is called an element.\n",
    "Index − Each location of an element in an array has a numerical index, which is used to identify the element.\n",
    "\n",
    "<!-- Following are the basic operations supported by an array. -->\n",
    "\n",
    "Traverse − print all the array elements one by one.\n",
    "\n",
    "Insertion − Adds an element at the given index.\n",
    "\n",
    "Deletion − Deletes an element at the given index.\n",
    "\n",
    "Search − Searches an element using the given index or by the value.\n",
    "\n",
    "Update − Updates an element at the given index."
   ]
  },
  {
   "cell_type": "markdown",
   "metadata": {},
   "source": [
    "# Linear array\n",
    "the first index will bw started from 0 index but in circular array it will start from 1st index\n",
    "\n",
    "different ways to initialize an array in Python:\n",
    "\n",
    "1.Python for loop and range() function together can be used to initialize an array with a default value.\n",
    "   [value for element in range(num)]\n",
    "   \n"
   ]
  },
  {
   "cell_type": "code",
   "execution_count": 4,
   "metadata": {},
   "outputs": [
    {
     "name": "stdout",
     "output_type": "stream",
     "text": [
      "[0, 0, 0, 0, 0]\n"
     ]
    }
   ],
   "source": [
    "arr=[]\n",
    "arr = [ 0 for i in range(5)] \n",
    "print(arr)"
   ]
  },
  {
   "cell_type": "code",
   "execution_count": 1,
   "metadata": {},
   "outputs": [
    {
     "name": "stdout",
     "output_type": "stream",
     "text": [
      "None\n",
      "None\n",
      "None\n"
     ]
    }
   ],
   "source": [
    "array=[None]*3\n",
    "for i in array:\n",
    "    print(i)"
   ]
  },
  {
   "cell_type": "code",
   "execution_count": 1,
   "metadata": {},
   "outputs": [
    {
     "name": "stdout",
     "output_type": "stream",
     "text": [
      "1\n",
      "2\n",
      "3\n",
      "4\n",
      "5\n",
      "6\n"
     ]
    }
   ],
   "source": [
    "x=[1,2,3,4,5,6]\n",
    "i=0\n",
    "while i<len(x):\n",
    "    print(x[i])\n",
    "    i+=1\n",
    "    "
   ]
  },
  {
   "cell_type": "code",
   "execution_count": 2,
   "metadata": {},
   "outputs": [
    {
     "name": "stdout",
     "output_type": "stream",
     "text": [
      "1\n",
      "2\n",
      "3\n",
      "4\n",
      "5\n"
     ]
    }
   ],
   "source": [
    "def print_array(x):\n",
    "    i=0\n",
    "    while i<len(x):\n",
    "        print(x[i])\n",
    "        i+=1\n",
    "x=[1,2,3,4,5]\n",
    "print_array(x)"
   ]
  },
  {
   "cell_type": "code",
   "execution_count": 5,
   "metadata": {},
   "outputs": [
    {
     "name": "stdout",
     "output_type": "stream",
     "text": [
      "1\n",
      "2\n",
      "3\n",
      "4\n",
      "5\n"
     ]
    }
   ],
   "source": [
    "def print_array(x):\n",
    "    for i in x:\n",
    "        print(i)\n",
    "\n",
    "x=[1,2,3,4,5]\n",
    "print_array(x)"
   ]
  },
  {
   "cell_type": "markdown",
   "metadata": {},
   "source": [
    "# creating a array"
   ]
  },
  {
   "cell_type": "code",
   "execution_count": 2,
   "metadata": {},
   "outputs": [
    {
     "name": "stdout",
     "output_type": "stream",
     "text": [
      "1\n",
      "2\n",
      "3\n",
      "[1, 2, 3]\n"
     ]
    }
   ],
   "source": [
    "arr=[None]*3\n",
    "i=0\n",
    "while i<len(arr):\n",
    "    arr[i]=int(input())\n",
    "    i+=1\n",
    "print(arr)"
   ]
  },
  {
   "cell_type": "markdown",
   "metadata": {},
   "source": [
    "# resizing an array"
   ]
  },
  {
   "cell_type": "code",
   "execution_count": 1,
   "metadata": {},
   "outputs": [
    {
     "name": "stdout",
     "output_type": "stream",
     "text": [
      "4\n",
      "[1, 2, 3, 4, 5, 4]\n"
     ]
    }
   ],
   "source": [
    "x=[1,2,3,4,5]\n",
    "y=[None]*(len(x)+1)\n",
    "for i in range(len(x)):\n",
    "    y[i]=x[i]\n",
    "    \n",
    "y[len(y)-1]=int(input())\n",
    "print(y)"
   ]
  },
  {
   "cell_type": "code",
   "execution_count": null,
   "metadata": {},
   "outputs": [],
   "source": []
  },
  {
   "cell_type": "markdown",
   "metadata": {},
   "source": [
    "# copying an array"
   ]
  },
  {
   "cell_type": "code",
   "execution_count": 5,
   "metadata": {},
   "outputs": [
    {
     "name": "stdout",
     "output_type": "stream",
     "text": [
      "[1, 2, 3, 4, 5]\n"
     ]
    }
   ],
   "source": [
    "x=[1,2,3,4,5]\n",
    "y=[None]*(len(x))\n",
    "for i in range(len(x)):\n",
    "    y[i]=x[i]\n",
    "print(y)\n"
   ]
  },
  {
   "cell_type": "markdown",
   "metadata": {},
   "source": [
    "# add new element"
   ]
  },
  {
   "cell_type": "code",
   "execution_count": 6,
   "metadata": {},
   "outputs": [
    {
     "data": {
      "text/plain": [
       "[1, 2, 3, 9]"
      ]
     },
     "execution_count": 6,
     "metadata": {},
     "output_type": "execute_result"
    }
   ],
   "source": [
    "def addnew(x,newvalue):\n",
    "    y=[None]*(len(x)+1)\n",
    "    for i in range(len(x)):\n",
    "        y[i]=x[i]\n",
    "    y[len(y)-1]=newvalue\n",
    "    return y\n",
    "x=[1,2,3]\n",
    "addnew(x,9)\n",
    "        \n",
    "        \n",
    "        "
   ]
  },
  {
   "cell_type": "code",
   "execution_count": 13,
   "metadata": {},
   "outputs": [
    {
     "name": "stdout",
     "output_type": "stream",
     "text": [
      "[1, 2, 3, 40]\n",
      "[1, 2, 3, 40, 41]\n",
      "[1, 2, 3, 40, 41, 42]\n",
      "[1, 2, 3, 40, 41, 42, 43]\n",
      "[1, 2, 3, 40, 41, 42, 43, 44]\n"
     ]
    }
   ],
   "source": [
    "def addnew(x,newvalue):\n",
    "    y=[None]*(len(x)+1)\n",
    "    for i in range(len(x)):\n",
    "        y[i]=x[i]\n",
    "    y[len(y)-1]=newvalue\n",
    "    return y\n",
    "x=[1,2,3]\n",
    "for i in range(40,45):\n",
    "    x=addnew(x,i)\n",
    "    print(x)"
   ]
  },
  {
   "cell_type": "markdown",
   "metadata": {},
   "source": [
    "# Insertion \n",
    "Adds an element at the given index.\n"
   ]
  },
  {
   "cell_type": "code",
   "execution_count": 4,
   "metadata": {},
   "outputs": [
    {
     "name": "stdout",
     "output_type": "stream",
     "text": [
      "Enter 6 number1\n",
      "Enter 6 number2\n",
      "Enter 6 number3\n",
      "Enter 6 number4\n",
      "Enter 6 number5\n",
      "[1, 2, 8, 4, 5]\n"
     ]
    }
   ],
   "source": [
    "newarr=[]\n",
    "for i in range(5):\n",
    "    array=int(input(\"Enter 6 number\"))\n",
    "    newarr.append(array)\n",
    "newarr[2]=8\n",
    "print(newarr)\n"
   ]
  },
  {
   "cell_type": "code",
   "execution_count": 6,
   "metadata": {},
   "outputs": [
    {
     "name": "stdout",
     "output_type": "stream",
     "text": [
      "5\n"
     ]
    }
   ],
   "source": [
    "a=[2,4,5,10,5,2]\n",
    "print(a[a[a[2]]])"
   ]
  },
  {
   "cell_type": "code",
   "execution_count": 1,
   "metadata": {},
   "outputs": [
    {
     "data": {
      "text/plain": [
       "[10, 20, 200, 30, 40, 50, 0, 0]"
      ]
     },
     "execution_count": 1,
     "metadata": {},
     "output_type": "execute_result"
    }
   ],
   "source": [
    "def insertion(s,index,val,size):\n",
    "    if size==len(s):\n",
    "        print('no space in array!!')\n",
    "        return\n",
    "    if index<0 or index>size:\n",
    "        print('wrong index!!')\n",
    "        return\n",
    "    i=size-1\n",
    "    while i>=index:\n",
    "        s[i+1]=s[i]\n",
    "        i-=1\n",
    "    s[index]=val\n",
    "    return s\n",
    "s=[10,20,30,40,50,0,0,0]\n",
    "insertion(s,2,200,5)"
   ]
  },
  {
   "cell_type": "code",
   "execution_count": 3,
   "metadata": {},
   "outputs": [],
   "source": []
  },
  {
   "cell_type": "markdown",
   "metadata": {},
   "source": [
    "# Traverse\n",
    "print all the array elements one by one."
   ]
  },
  {
   "cell_type": "code",
   "execution_count": 3,
   "metadata": {},
   "outputs": [
    {
     "name": "stdout",
     "output_type": "stream",
     "text": [
      "Enter 6 number1\n",
      "0\n",
      "Enter 6 number2\n",
      "1\n",
      "Enter 6 number3\n",
      "2\n",
      "Enter 6 number4\n",
      "3\n",
      "Enter 6 number5\n",
      "4\n"
     ]
    }
   ],
   "source": [
    "newarr=[]\n",
    "for i in range(5):\n",
    "    array=int(input(\"Enter 6 number\"))\n",
    "    newarr.append(array)\n",
    "    print(i)"
   ]
  },
  {
   "cell_type": "code",
   "execution_count": 5,
   "metadata": {},
   "outputs": [
    {
     "name": "stdout",
     "output_type": "stream",
     "text": [
      "1\n",
      "2\n",
      "3\n",
      "4\n",
      "5\n",
      "6\n"
     ]
    }
   ],
   "source": [
    "arr=[1,2,3,4,5,6]\n",
    "for i in arr:\n",
    "    print(i)"
   ]
  },
  {
   "cell_type": "markdown",
   "metadata": {},
   "source": [
    "# Reversing "
   ]
  },
  {
   "cell_type": "code",
   "execution_count": 7,
   "metadata": {},
   "outputs": [
    {
     "name": "stdout",
     "output_type": "stream",
     "text": [
      "15\n",
      "14\n",
      "13\n",
      "12\n",
      "11\n",
      "10\n"
     ]
    }
   ],
   "source": [
    "def reverse_array(x):\n",
    "    y=len(x)-1\n",
    "    while y>=0:\n",
    "        print(x[y])\n",
    "        y-=1\n",
    "x= [10, 11, 12, 13, 14, 15]\n",
    "reverse_array(x)"
   ]
  },
  {
   "cell_type": "code",
   "execution_count": 11,
   "metadata": {},
   "outputs": [
    {
     "name": "stdout",
     "output_type": "stream",
     "text": [
      "[15, 14, 13, 12, 11, 10]\n"
     ]
    }
   ],
   "source": [
    "# Reversing a list using slicing technique\n",
    "def Reverse(lst):\n",
    "    new_lst = lst[::-1]\n",
    "    return new_lst\n",
    "      \n",
    "lst = [10, 11, 12, 13, 14, 15]\n",
    "print(Reverse(lst))"
   ]
  },
  {
   "cell_type": "code",
   "execution_count": 10,
   "metadata": {},
   "outputs": [
    {
     "name": "stdout",
     "output_type": "stream",
     "text": [
      "[5, 4, 3, 2, 1]\n"
     ]
    }
   ],
   "source": [
    "arr=[1,2,3,4,5]\n",
    "\n",
    "new_arr=arr[::-1]\n",
    "\n",
    "print(new_arr)"
   ]
  },
  {
   "cell_type": "code",
   "execution_count": 15,
   "metadata": {},
   "outputs": [
    {
     "name": "stdout",
     "output_type": "stream",
     "text": [
      "[8, 7, 6, 45, 3, 2, 1]\n"
     ]
    }
   ],
   "source": [
    "x=[1,2,3,45,6,7,8]\n",
    "i=0\n",
    "y=len(x)-1\n",
    "while y>i:\n",
    "    x[i],x[y]=x[y],x[i]\n",
    "    i+=1\n",
    "    y-=1\n",
    "print(x)\n",
    "    "
   ]
  },
  {
   "cell_type": "code",
   "execution_count": 16,
   "metadata": {},
   "outputs": [
    {
     "name": "stdout",
     "output_type": "stream",
     "text": [
      "[4, 3, 2, 1, 0]\n"
     ]
    }
   ],
   "source": [
    "x=[i for i in range(5)]\n",
    "y=[None]*(len(x))\n",
    "k=0\n",
    "for i in range(len(x)-1,-1,-1):\n",
    "    y[k]=x[i]\n",
    "    k+=1\n",
    "print(y)\n",
    "    "
   ]
  },
  {
   "cell_type": "code",
   "execution_count": 5,
   "metadata": {},
   "outputs": [
    {
     "name": "stdout",
     "output_type": "stream",
     "text": [
      "[5, 4, 3, 2, 1]\n"
     ]
    }
   ],
   "source": [
    "###bux\n",
    "#reversing an array: out of place means new ekta array create kore then oitate reversed ta copy korte hbe\n",
    "def reverse(source):\n",
    "    arr=[0]*len(source)\n",
    "    i=0\n",
    "    j=len(arr)-1\n",
    "    while i<len(source):\n",
    "        arr[j]=source[i]\n",
    "        i+=1\n",
    "        j-=1\n",
    "    return arr\n",
    "a=[1,2,3,4,5]\n",
    "b=reverse(a)\n",
    "print(b)"
   ]
  },
  {
   "cell_type": "code",
   "execution_count": 5,
   "metadata": {},
   "outputs": [
    {
     "name": "stdout",
     "output_type": "stream",
     "text": [
      "[5, 4, 3, 2, 1]\n"
     ]
    }
   ],
   "source": [
    "\n",
    "#reversing an array: in place (no new array)\n",
    "\n",
    "def reverse(s):\n",
    "    i=0\n",
    "    j=len(s)-1\n",
    "    while i<j:\n",
    "        s[i],s[j]=s[j],s[i]\n",
    "        i+=1\n",
    "        j-=1\n",
    "    return s\n",
    "source=[1,2,3,4,5]\n",
    "print(reverse(source))\n",
    "        "
   ]
  },
  {
   "cell_type": "code",
   "execution_count": 6,
   "metadata": {},
   "outputs": [
    {
     "name": "stdout",
     "output_type": "stream",
     "text": [
      "[50, 40, 30, 20, 10]\n"
     ]
    }
   ],
   "source": [
    "#reversing an array: in place\n",
    "\n",
    "def reverse(source):\n",
    "\n",
    "    i=0 #pointer at 0th index of source\n",
    "\n",
    "    j=len(source)-1 #pointer at last index of source\n",
    "\n",
    "    while(i<j):\n",
    "\n",
    "        temp=source[i] #swapping the first and last elements\n",
    "\n",
    "        source[i]=source[j]\n",
    "\n",
    "        source[j]=temp\n",
    "\n",
    "        i=i+1\n",
    "\n",
    "        j=j-1\n",
    "\n",
    "\n",
    "\n",
    "a=[10,20,30,40,50]\n",
    "\n",
    "reverse(a)\n",
    "\n",
    "print(a)"
   ]
  },
  {
   "cell_type": "markdown",
   "metadata": {},
   "source": [
    "# shifting an array left"
   ]
  },
  {
   "cell_type": "code",
   "execution_count": 16,
   "metadata": {},
   "outputs": [
    {
     "name": "stdout",
     "output_type": "stream",
     "text": [
      "[4, 5, 0, 0, 0]\n"
     ]
    }
   ],
   "source": [
    "x=[1,2,3,4,5]\n",
    "for i in range(3):\n",
    "    for j in range(len(x)-1):\n",
    "        x[j]=x[j+1]\n",
    "    x[-1]=0\n",
    "print(x)\n",
    "    "
   ]
  },
  {
   "cell_type": "code",
   "execution_count": null,
   "metadata": {},
   "outputs": [],
   "source": [
    "chair=['a','b','c','d','e','f','g']\n",
    "music_stop=int(input())\n",
    "print(len(chair))\n",
    "while len(chair)>1:\n",
    "    if music_stop==1:\n",
    "        for i in range (len(chair)):\n",
    "            rem=len(chair)%2\n",
    "            for j in range(len(chair)-1):\n",
    "                chair[rem]=chair[rem+1]\n",
    "\n",
    "            chair[j+1]=0\n",
    "            j-=1\n",
    "print(chair)\n",
    "#     temp=chair[0]\n",
    "        "
   ]
  },
  {
   "cell_type": "markdown",
   "metadata": {},
   "source": [
    "# shifting an array Right"
   ]
  },
  {
   "cell_type": "code",
   "execution_count": 18,
   "metadata": {},
   "outputs": [
    {
     "name": "stdout",
     "output_type": "stream",
     "text": [
      "[0, 0, 0, 1, 2]\n"
     ]
    }
   ],
   "source": [
    "x=[1,2,3,4,5]\n",
    "for j in range(3):\n",
    "    for i in range(len(x)-1,0,-1):\n",
    "        x[i]=x[i-1]\n",
    "    x[0]=0\n",
    "print(x)"
   ]
  },
  {
   "cell_type": "code",
   "execution_count": null,
   "metadata": {},
   "outputs": [],
   "source": [
    "# def rightshift(source):\n",
    "#     i=len(source)-1\n",
    "#     while i>=1:\n",
    "#         source[i]=source[i-1]\n",
    "\n",
    "#     source[0]=0\n",
    "\n",
    "\n",
    "    \n",
    "# s=[1,2,3,4,5]\n",
    "# rightshift(s)\n",
    "# print(s)    "
   ]
  },
  {
   "cell_type": "code",
   "execution_count": 9,
   "metadata": {},
   "outputs": [
    {
     "name": "stdout",
     "output_type": "stream",
     "text": [
      "[0, 0, 0, 10, 20]\n"
     ]
    }
   ],
   "source": [
    "#right shifting an array by k places\n",
    "\n",
    "def rightShift(source,k):\n",
    "\n",
    "    i=len(source)-1 #pointer at the last index of source\n",
    "\n",
    "    while(i>=k):\n",
    "\n",
    "        source[i]=source[i-k]  #shifting elements k places to the right\n",
    "\n",
    "        i=i-1\n",
    "\n",
    "    i=0\n",
    "\n",
    "    while(i<k):\n",
    "\n",
    "        source[i]=0 #setting first k values to 0\n",
    "\n",
    "        i=i+1\n",
    "\n",
    "\n",
    "\n",
    "a=[10,20,30,40,50]\n",
    "\n",
    "rightShift(a,3)\n",
    "\n",
    "print(a)\n"
   ]
  },
  {
   "cell_type": "markdown",
   "metadata": {},
   "source": [
    "# Rotating an array left"
   ]
  },
  {
   "cell_type": "code",
   "execution_count": 3,
   "metadata": {},
   "outputs": [
    {
     "name": "stdout",
     "output_type": "stream",
     "text": [
      "[4, 5, 1, 2, 3]\n"
     ]
    }
   ],
   "source": [
    "x=[1,2,3,4,5]\n",
    "for j in range(3):\n",
    "    t=x[0]\n",
    "    for i in range(len(x)-1):\n",
    "        x[i]=x[i+1]\n",
    "    x[-1]=t\n",
    "print(x)\n",
    "    "
   ]
  },
  {
   "cell_type": "markdown",
   "metadata": {},
   "source": [
    "# Rotating an array right"
   ]
  },
  {
   "cell_type": "code",
   "execution_count": 13,
   "metadata": {},
   "outputs": [
    {
     "name": "stdout",
     "output_type": "stream",
     "text": [
      "[3, 4, 5, 1, 2]\n"
     ]
    }
   ],
   "source": [
    "x=[1,2,3,4,5]\n",
    "for j in range(3):\n",
    "    t=x[len(x)-1]\n",
    "    for i in range(len(x)-1,0,-1):\n",
    "        x[i]=x[i-1]\n",
    "    x[0]=t\n",
    "print(x)"
   ]
  },
  {
   "cell_type": "code",
   "execution_count": 8,
   "metadata": {},
   "outputs": [
    {
     "name": "stdout",
     "output_type": "stream",
     "text": [
      "[50, 10, 20, 30, 40]\n"
     ]
    }
   ],
   "source": [
    "\n",
    "#right rotating an array by one place\n",
    "\n",
    "def rightRotate(source):\n",
    "\n",
    "    temp=source[len(source)-1] #copying the last element of the array in temp\n",
    "\n",
    "    i=len(source)-1 #pointer at last index of source\n",
    "\n",
    "    while(i>=1):\n",
    "\n",
    "        source[i]=source[i-1] #shifting elements to the right\n",
    "\n",
    "        i=i-1\n",
    "\n",
    "    source[0]=temp #copying the last element of the array in the 0th index\n",
    "a=[10,20,30,40,50]\n",
    "\n",
    "rightRotate(a)\n",
    "\n",
    "print(a)"
   ]
  },
  {
   "cell_type": "markdown",
   "metadata": {},
   "source": [
    "# removal in array\n",
    "x=[1,2,3,4,5]\n",
    "for i in range(3):\n",
    "    for j in range(len(x)-1):\n",
    "        x[j]=x[j+1]\n",
    "    x[-1]=0\n",
    "print(x)\n",
    "    "
   ]
  },
  {
   "cell_type": "code",
   "execution_count": 1,
   "metadata": {},
   "outputs": [
    {
     "name": "stdout",
     "output_type": "stream",
     "text": [
      "3\n",
      "[1, 2, 3, 5, 0]\n"
     ]
    }
   ],
   "source": [
    "x=[1,2,3,4,5]\n",
    "s=int(input())\n",
    "for j in range(len(x)-1):\n",
    "    if j==s:\n",
    "        x[j]=x[j+1]\n",
    "        s+=1\n",
    "x[-1]=0\n",
    "print(x)"
   ]
  },
  {
   "cell_type": "code",
   "execution_count": null,
   "metadata": {},
   "outputs": [],
   "source": [
    "##task 1 Shift Left k Cells \n",
    "import numpy as np\n",
    "\n",
    "def shiftLeft(source,k):\n",
    "    for i in range(k):\n",
    "        for j in range(len(source)-1):\n",
    "            source[j]=source[j+1]\n",
    "        source[-1]=0\n",
    "source=np.array([10,20,30,40,50,60])\n",
    "shiftLeft(source,3)\n",
    "print(source)\n",
    "# print(type(source))"
   ]
  },
  {
   "cell_type": "markdown",
   "metadata": {},
   "source": [
    "###### LINKED LIST"
   ]
  },
  {
   "cell_type": "markdown",
   "metadata": {},
   "source": [
    "# Three classes:\n",
    "    1.Node class\n",
    "    2.Linked list class(sob method thakbe)\n",
    "    3.tester class(call methods)"
   ]
  },
  {
   "cell_type": "markdown",
   "metadata": {},
   "source": [
    "# in linearr arrays the first index will be 0th\n",
    "###linked list (prottekta ellement ke node bole)\n",
    "#linked list: sequences of nodes connected by lists\n",
    "## doenot have random access\n",
    "#does not have any fixed capacity (sequential access)\n",
    "#required more memory space(one for va;ue, another for link)\n",
    "#starting point---> head references\n",
    "##arrays memory allocation should be contiguous (mane tana thakbe vangte prbena)"
   ]
  },
  {
   "cell_type": "code",
   "execution_count": null,
   "metadata": {},
   "outputs": [],
   "source": [
    "#Node Class\n",
    "class Node:\n",
    "    #element - variable used to store the value\n",
    "    #next - variable used to reference to the next node\n",
    "    def __init__(self, e, n):\n",
    "        self.element = e \n",
    "        self.next = n"
   ]
  },
  {
   "cell_type": "code",
   "execution_count": 2,
   "metadata": {},
   "outputs": [],
   "source": [
    "#Creating a list\n",
    "#----------------#\n",
    "class Node:\n",
    "    def __init__(self, e, n):\n",
    "        self.element = e \n",
    "        self.next = n\n",
    "\n",
    "#---------------------Tester-----------------------#\n",
    "\n",
    "#Starting of the Node\n",
    "\n",
    "head = None\n",
    "#Creating the nodes first\n",
    "\n",
    "n1 = Node(\"10\",None)\n",
    "n2 = Node(\"20\",None)\n",
    "n1.next = n2\n",
    "\n",
    "#Assigning the head reference to the list\n",
    "\n",
    "head = n1"
   ]
  },
  {
   "cell_type": "code",
   "execution_count": null,
   "metadata": {},
   "outputs": [],
   "source": [
    "#Creating a list\n",
    "#----------------#\n",
    "class Node:\n",
    "    #element - variable used to store the value\n",
    "    #next - variable used to reference to link to the next node\n",
    "    def __init__(self, e, n):\n",
    "        self.element = e \n",
    "        self.next = n\n",
    "#---------------------Tester-----------------------#\n",
    "#Starting of the Node\n",
    "head = None\n",
    "#Creating the nodes first\n",
    "n4 = Node(\"40\",None)\n",
    "n3 = Node(\"30\",n4)\n",
    "n2 = Node(\"20\",n3)\n",
    "n1 = Node(\"10\",n2)\n",
    "#Assigning the head reference to the list\n",
    "head = n1"
   ]
  },
  {
   "cell_type": "code",
   "execution_count": null,
   "metadata": {},
   "outputs": [],
   "source": [
    "##per iteration we have to replace the adress the node\n",
    "#Iteration\n",
    "#----------------#\n",
    "class Node:\n",
    "    def __init__(self, e, n):\n",
    "        self.element = e \n",
    "        self.next = n\n",
    "n = head\n",
    "while n is not None:\n",
    "    #do something\n",
    "    n = n.next"
   ]
  },
  {
   "cell_type": "code",
   "execution_count": null,
   "metadata": {},
   "outputs": [],
   "source": [
    "#Count Node Function\n",
    "\n",
    "#-------------------#\n",
    "\n",
    "def countNode(head):\n",
    "\n",
    "\n",
    "    count = 0\n",
    "\n",
    "    n = head\n",
    "\n",
    "    while n is not None:\n",
    "\n",
    "        count = count + 1\n",
    "\n",
    "        n = n.next\n",
    "\n",
    "    return count"
   ]
  },
  {
   "cell_type": "code",
   "execution_count": 2,
   "metadata": {},
   "outputs": [
    {
     "ename": "NameError",
     "evalue": "name 'head' is not defined",
     "output_type": "error",
     "traceback": [
      "\u001b[1;31m---------------------------------------------------------------------------\u001b[0m",
      "\u001b[1;31mNameError\u001b[0m                                 Traceback (most recent call last)",
      "\u001b[1;32m<ipython-input-2-df12adc98b6f>\u001b[0m in \u001b[0;36m<module>\u001b[1;34m\u001b[0m\n\u001b[0;32m     20\u001b[0m \u001b[1;33m\u001b[0m\u001b[0m\n\u001b[0;32m     21\u001b[0m     \u001b[1;32mreturn\u001b[0m \u001b[1;33m-\u001b[0m\u001b[1;36m1\u001b[0m \u001b[1;31m##if the index is valid it will return -1\u001b[0m\u001b[1;33m\u001b[0m\u001b[1;33m\u001b[0m\u001b[0m\n\u001b[1;32m---> 22\u001b[1;33m \u001b[0mprint\u001b[0m\u001b[1;33m(\u001b[0m\u001b[0mget\u001b[0m\u001b[1;33m(\u001b[0m\u001b[0mhead\u001b[0m\u001b[1;33m,\u001b[0m\u001b[1;36m2\u001b[0m\u001b[1;33m)\u001b[0m\u001b[1;33m)\u001b[0m\u001b[1;33m\u001b[0m\u001b[1;33m\u001b[0m\u001b[0m\n\u001b[0m",
      "\u001b[1;31mNameError\u001b[0m: name 'head' is not defined"
     ]
    }
   ],
   "source": [
    "#Get Function\n",
    "## if the counter and the index value is the same then it will return the value which is inside the node that is element \n",
    "#-------------------#\n",
    "\n",
    "def get(head,index):\n",
    "\n",
    "    c = 0\n",
    "\n",
    "    n = head\n",
    "\n",
    "    while n is not None:\n",
    "\n",
    "        if c==index:\n",
    "\n",
    "            return n.element\n",
    "\n",
    "        c = c + 1\n",
    "\n",
    "        n = n.next\n",
    "\n",
    "    return -1 ##if the index is valid it will return -1\n",
    "### 10,20,30,40\n",
    "# so jodi index 2 dei 30 asbe\n",
    "#index 10 dile output -1"
   ]
  },
  {
   "cell_type": "code",
   "execution_count": null,
   "metadata": {},
   "outputs": [],
   "source": [
    "#nodeAt Function( will get adress of the perticular node)\n",
    "#-----------------#\n",
    "#10,20,30,40\n",
    "def nodeAt(head, size, index):\n",
    "\n",
    "    if(index<0 or index>=size):\n",
    "\n",
    "        return None #cz its invalid\n",
    "\n",
    "    n = head\n",
    "\n",
    "    for i in range(0,index):\n",
    "\n",
    "        n = n.next\n",
    "\n",
    "    return n\n",
    "#input(head,4,2)\n",
    "#output adress of the node is 30.cz its on 2nd index"
   ]
  },
  {
   "cell_type": "code",
   "execution_count": null,
   "metadata": {},
   "outputs": [],
   "source": [
    "#Set Function( ekta index e rekta set kore dibe)\n",
    "\n",
    "#-------------------#\n",
    "#10,20,30,40\n",
    "def set(head,index,elem):\n",
    "\n",
    "    c = 0\n",
    "\n",
    "    n = head\n",
    "\n",
    "    while n is not None:\n",
    "\n",
    "        if c==index:\n",
    "\n",
    "            n.element = elem\n",
    "\n",
    "        c = c + 1\n",
    "\n",
    "        n = n.next\n",
    "##input(head,2,50)\n",
    "##output(10,20,50,40)"
   ]
  },
  {
   "cell_type": "code",
   "execution_count": null,
   "metadata": {},
   "outputs": [],
   "source": [
    "#indexOf Function(search) index koto te ase oita pabo\n",
    "\n",
    "#------------------#\n",
    "\n",
    "def indexOf(head, elem):\n",
    "\n",
    "    i = 0\n",
    "\n",
    "    n = head\n",
    "\n",
    "    while n is not None:\n",
    "\n",
    "        if n.element==elem:\n",
    "\n",
    "            return i\n",
    "\n",
    "        i = i + 1\n",
    "\n",
    "        n = n.next\n",
    "\n",
    "    return -1\n",
    "##input(head,50)---> output -1\n",
    "#input(head,40)---->output 3"
   ]
  },
  {
   "cell_type": "code",
   "execution_count": 1,
   "metadata": {},
   "outputs": [
    {
     "name": "stdout",
     "output_type": "stream",
     "text": [
      "[5,15,5,5,5,85,25,95,95]\n",
      "[5,15,5,5,5,85,25,95,95]\n",
      "8\n"
     ]
    }
   ],
   "source": [
    "##doublylinkedlist\n",
    "\n",
    "class Node:\n",
    "    def __init__(self,value):\n",
    "        self.next=None\n",
    "        self.prev=None\n",
    "        self.val=value\n",
    "        \n",
    "class Doublylinkedlist:\n",
    "    def __init__(self):\n",
    "        self.head=None\n",
    "        self.tail=None\n",
    "        self.size=0\n",
    "        \n",
    "    def add(self,val):\n",
    "        node=Node(val)\n",
    "        if self.tail ==None:  ### when list is empty and have to add new value\n",
    "            self.head=node\n",
    "            self.tail=node\n",
    "            self.size+=1\n",
    "        else:                   ##there is already one head\n",
    "            self.tail.next=node\n",
    "            node.prev=self.tail\n",
    "            self.tail=node\n",
    "            self.size+=1\n",
    "            \n",
    "    def __remove_node(self,node):\n",
    "        if node.prev==None:\n",
    "            self.head=node.next\n",
    "        else:\n",
    "            node.prev.next=node.next\n",
    "            \n",
    "        if node.next==None:\n",
    "            self.tail=node.prev\n",
    "        else:\n",
    "            node.next.prev=node.prev\n",
    "            \n",
    "        self.size-=1         \n",
    "    def remove(self,value):\n",
    "        node= self.head\n",
    "        while node!=None:\n",
    "            if node.val==value:\n",
    "                self.__remove_node(node)\n",
    "#                 break (just fst node del korte chaile break kore dile ee hbe)\n",
    "            node=node.next\n",
    "#     def remove_fast(self):\n",
    "#         if self.head!=None:                      kam korenaaaaaaaaaaaaaaaa knnnnnnnnnnnnnnnnnnnnnnnnnnnnn\n",
    "#             self.__remove_node(self.head) \n",
    "            \n",
    "    def remove_last(self):\n",
    "        if self.tail!=None:\n",
    "            self.__remove_node(self.tail)\n",
    "           \n",
    "    def __str__(self):\n",
    "        lst=[]\n",
    "        node=self.head\n",
    "        while node!=None:\n",
    "            lst.append(node.val)\n",
    "            node=node.next\n",
    "        return f\"[{','.join(str(val)for val in lst)}]\" ## bujha lagbe ektu vlo kore\n",
    "            \n",
    "my_list=Doublylinkedlist()\n",
    "my_list.add(5)\n",
    "my_list.add(15)\n",
    "my_list.add(5)\n",
    "my_list.add(5)\n",
    "my_list.add(5)\n",
    "my_list.add(85)\n",
    "my_list.add(25)\n",
    "my_list.add(95)\n",
    "my_list.add(95)\n",
    "print(my_list)\n",
    "# my_list.remove(15)\n",
    "# my_list.remove(5)\n",
    "# print(my_list)\n",
    "# my_list.remove_last()\n",
    "\n",
    "print(my_list)\n",
    "my_list.remove_fast()\n",
    "print(my_list.size)"
   ]
  },
  {
   "cell_type": "markdown",
   "metadata": {},
   "source": [
    "# Creation of Linked list"
   ]
  },
  {
   "cell_type": "code",
   "execution_count": 1,
   "metadata": {},
   "outputs": [],
   "source": [
    "class Node:\n",
    "    def __init__(self, dataval=None):\n",
    "        self.dataval = dataval\n",
    "        self.nextval = None\n",
    "\n",
    "class SLinkedList:\n",
    "    def __init__(self):\n",
    "        self.headval = None\n",
    "\n",
    "list1 = SLinkedList()\n",
    "list1.headval = Node(\"Mon\")\n",
    "e2 = Node(\"Tue\")\n",
    "e3 = Node(\"Wed\")\n",
    "# Link first Node to second node\n",
    "list1.headval.nextval = e2\n",
    "\n",
    "# Link second Node to third node\n",
    "e2.nextval = e3"
   ]
  },
  {
   "cell_type": "markdown",
   "metadata": {},
   "source": [
    "# Traversing a Linked List"
   ]
  },
  {
   "cell_type": "code",
   "execution_count": 6,
   "metadata": {},
   "outputs": [
    {
     "name": "stdout",
     "output_type": "stream",
     "text": [
      "Mon\n",
      "Tue\n",
      "Wed\n"
     ]
    }
   ],
   "source": [
    "class Node:\n",
    "    def __init__(self, value=None):\n",
    "        self.dataval = dataval\n",
    "        self.nextval = None\n",
    "\n",
    "class SLinkedList:\n",
    "    def __init__(self):\n",
    "        self.headval = None\n",
    "\n",
    "    def listprint(self):\n",
    "        printval = self.headval\n",
    "        while printval is not None:\n",
    "            print (printval.dataval)\n",
    "            printval = printval.nextval\n",
    "\n",
    "list = SLinkedList()\n",
    "list.headval = Node(\"Mon\")\n",
    "e2 = Node(\"Tue\")\n",
    "e3 = Node(\"Wed\")\n",
    "\n",
    "# Link first Node to second node\n",
    "list.headval.nextval = e2\n",
    "\n",
    "# Link second Node to third node\n",
    "e2.nextval = e3\n",
    "\n",
    "list.listprint()"
   ]
  },
  {
   "cell_type": "markdown",
   "metadata": {},
   "source": [
    "# Insertion in a Linked List Beginning"
   ]
  },
  {
   "cell_type": "code",
   "execution_count": 8,
   "metadata": {},
   "outputs": [
    {
     "name": "stdout",
     "output_type": "stream",
     "text": [
      "Sun\n",
      "Mon\n",
      "Tue\n",
      "Wed\n"
     ]
    }
   ],
   "source": [
    "class Node:\n",
    "    def __init__(self, dataval=None):\n",
    "        self.dataval = dataval\n",
    "        self.nextval = None\n",
    "\n",
    "class SLinkedList:\n",
    "    def __init__(self):\n",
    "        self.headval = None\n",
    "\n",
    "# Print the linked list\n",
    "    def listprint(self):\n",
    "        printval = self.headval\n",
    "        while printval!=None:\n",
    "            print (printval.dataval)\n",
    "            printval = printval.nextval\n",
    "    def AtBegining(self,newdata):\n",
    "        NewNode = Node(newdata)\n",
    "\n",
    "# Update the new nodes next val to existing node\n",
    "        NewNode.nextval = self.headval\n",
    "        self.headval = NewNode\n",
    "\n",
    "list = SLinkedList()\n",
    "list.headval = Node(\"Mon\")\n",
    "e2 = Node(\"Tue\")\n",
    "e3 = Node(\"Wed\")\n",
    "\n",
    "list.headval.nextval = e2\n",
    "e2.nextval = e3\n",
    "\n",
    "list.AtBegining(\"Sun\")\n",
    "\n",
    "list.listprint()"
   ]
  },
  {
   "cell_type": "markdown",
   "metadata": {},
   "source": [
    "# Inserting at the End of the Linked List\n",
    "This involves pointing the next pointer of the the current last node of the linked list to the new data node. So the current last node of the linked list becomes the second last data node and the new node becomes the last node of the linked list."
   ]
  },
  {
   "cell_type": "code",
   "execution_count": 9,
   "metadata": {},
   "outputs": [
    {
     "name": "stdout",
     "output_type": "stream",
     "text": [
      "Mon\n",
      "Tue\n",
      "Wed\n",
      "Thu\n"
     ]
    }
   ],
   "source": [
    "class Node:\n",
    "    def __init__(self, dataval=None):\n",
    "        self.dataval = dataval\n",
    "        self.nextval = None\n",
    "\n",
    "class SLinkedList:\n",
    "    def __init__(self):\n",
    "        self.headval = None\n",
    "\n",
    "# Function to add newnode\n",
    "    def AtEnd(self, newdata):\n",
    "        NewNode = Node(newdata)\n",
    "        if self.headval==None:\n",
    "            self.headval = NewNode\n",
    "            return\n",
    "        laste = self.headval  ##########BUJHI NAAAAAAAAAAAAAAI\n",
    "        while(laste.nextval):\n",
    "            laste = laste.nextval\n",
    "        laste.nextval=NewNode\n",
    "\n",
    "# Print the linked list\n",
    "    def listprint(self):\n",
    "        printval = self.headval\n",
    "        while printval !=None:\n",
    "            print (printval.dataval)\n",
    "            printval = printval.nextval\n",
    "\n",
    "\n",
    "list = SLinkedList()\n",
    "list.headval = Node(\"Mon\")\n",
    "e2 = Node(\"Tue\")\n",
    "e3 = Node(\"Wed\")\n",
    "list.headval.nextval = e2\n",
    "e2.nextval = e3\n",
    "list.AtEnd(\"Thu\")\n",
    "list.listprint()"
   ]
  },
  {
   "cell_type": "markdown",
   "metadata": {},
   "source": [
    "# Inserting in between two Data Nodes\n",
    "This involves chaging the pointer of a specific node to point to the new node. That is possible by passing in both the new node and the existing node after which the new node will be inserted. So we define an additional class which will change the next pointer of the new node to the next pointer of middle node. Then assign the new node to next pointer of the middle node."
   ]
  },
  {
   "cell_type": "code",
   "execution_count": 10,
   "metadata": {},
   "outputs": [
    {
     "name": "stdout",
     "output_type": "stream",
     "text": [
      "Mon\n",
      "Tue\n",
      "Fri\n",
      "Thu\n"
     ]
    }
   ],
   "source": [
    "class Node:\n",
    "    def __init__(self, dataval=None):\n",
    "        self.dataval = dataval\n",
    "        self.nextval = None\n",
    "\n",
    "class SLinkedList:\n",
    "    def __init__(self):\n",
    "        self.headval = None\n",
    "\n",
    "# Function to add node\n",
    "    def Inbetween(self,middle_node,newdata):\n",
    "        if middle_node is None:\n",
    "            print(\"The mentioned node is absent\")\n",
    "            return\n",
    "\n",
    "        NewNode = Node(newdata)\n",
    "        NewNode.nextval = middle_node.nextval\n",
    "        middle_node.nextval = NewNode\n",
    "\n",
    "# Print the linked list\n",
    "    def listprint(self):\n",
    "        printval = self.headval\n",
    "        while printval is not None:\n",
    "            print (printval.dataval)\n",
    "            printval = printval.nextval\n",
    "\n",
    "\n",
    "list = SLinkedList()\n",
    "list.headval = Node(\"Mon\")\n",
    "e2 = Node(\"Tue\")\n",
    "e3 = Node(\"Thu\")\n",
    "\n",
    "list.headval.nextval = e2\n",
    "e2.nextval = e3\n",
    "\n",
    "list.Inbetween(list.headval.nextval,\"Fri\")\n",
    "\n",
    "list.listprint()"
   ]
  },
  {
   "cell_type": "markdown",
   "metadata": {},
   "source": [
    "# Removing an Item form a Liked List\n",
    "We can remove an existing node using the key for that node. In the below program we locate the previous node of the node which is to be deleted. Then point the next pointer of this node to the next node of the node to be deleted."
   ]
  },
  {
   "cell_type": "code",
   "execution_count": 11,
   "metadata": {},
   "outputs": [
    {
     "name": "stdout",
     "output_type": "stream",
     "text": [
      "Thu\n",
      "Wed\n",
      "Tue\n",
      "Mon\n"
     ]
    }
   ],
   "source": [
    "class Node:\n",
    "    def __init__(self, data=None):\n",
    "        self.data = data\n",
    "        self.next = None\n",
    "\n",
    "class SLinkedList:\n",
    "    def __init__(self):\n",
    "        self.head = None\n",
    "\n",
    "    def Atbegining(self, data_in):\n",
    "        NewNode = Node(data_in)\n",
    "        NewNode.next = self.head\n",
    "        self.head = NewNode\n",
    "\t\t\n",
    "# Function to remove node\n",
    "    def RemoveNode(self, Removekey):\n",
    "\n",
    "        HeadVal = self.head\n",
    "\n",
    "        if (HeadVal !=None):\n",
    "            if (HeadVal.data == Removekey):\n",
    "                self.head = HeadVal.next\n",
    "                HeadVal = None\n",
    "                return\n",
    "\n",
    "#         while (HeadVal is not None):\n",
    "#             if HeadVal.data == Removekey:\n",
    "#                 break\n",
    "#             prev = HeadVal\n",
    "#             HeadVal = HeadVal.next\n",
    "\n",
    "#         if (HeadVal == None):\n",
    "#             return\n",
    "\n",
    "#         prev.next = HeadVal.next\n",
    "\n",
    "#         HeadVal = None\n",
    "\n",
    "    def LListprint(self):\n",
    "        printval = self.head\n",
    "        while (printval):\n",
    "            print(printval.data),\n",
    "            printval = printval.next\n",
    "\n",
    "\n",
    "llist = SLinkedList()\n",
    "llist.Atbegining(\"Mon\")\n",
    "llist.Atbegining(\"Tue\")\n",
    "llist.Atbegining(\"Wed\")\n",
    "llist.Atbegining(\"Thu\")\n",
    "llist.RemoveNode(\"Tue\")\n",
    "llist.LListprint()"
   ]
  },
  {
   "cell_type": "code",
   "execution_count": 1,
   "metadata": {},
   "outputs": [
    {
     "name": "stdout",
     "output_type": "stream",
     "text": [
      "3\n",
      "5\n",
      "6\n",
      "7\n",
      "5\n",
      "6\n",
      "55553\n",
      "\n"
     ]
    }
   ],
   "source": [
    "class Node:\n",
    "    \n",
    "    def __init__(self,new_data):\n",
    "        self.newdata=new_data\n",
    "        self.next=None\n",
    "        \n",
    "class Singlylinkedlist:\n",
    "    def __init__(self):\n",
    "        self.tail=None\n",
    "#         new_data=int(input('insert element'))\n",
    "        self.head=None\n",
    "    \n",
    "    def addFirstNode(self,new_data):\n",
    "        if self.tail==None:\n",
    "            self.head=Node(new_data)\n",
    "            self.tail=self.head\n",
    "        else:\n",
    "            self.tail.next=Node(new_data)\n",
    "            self.tail=self.tail.next\n",
    "            \n",
    "    def add_end(self,new_data):\n",
    "        NewNode= Node(new_data)\n",
    "        if self.head==None:\n",
    "            self.head=NewNode\n",
    "        else:\n",
    "            n=self.head\n",
    "            if n.next!=None:\n",
    "                n=n.next\n",
    "            n.next=NewNode\n",
    "    def print1(self):\n",
    "        n=self.head\n",
    "        if n==None:\n",
    "            print(\"Linked list is empty\")\n",
    "        while n!=None:\n",
    "            print(n.newdata)\n",
    "            n=n.next\n",
    "        print()\n",
    "list=Singlylinkedlist()\n",
    "t=int(input())\n",
    "for x in range(t):\n",
    "    d=int(input())\n",
    "    list.addFirstNode(d)\n",
    "\n",
    "list.add_end(55553)\n",
    "list.print1()\n",
    "        "
   ]
  },
  {
   "cell_type": "code",
   "execution_count": 4,
   "metadata": {},
   "outputs": [
    {
     "name": "stdout",
     "output_type": "stream",
     "text": [
      "3\n",
      "1\n",
      "2\n",
      "3\n",
      "1 ans:\n",
      "2 ans:\n",
      "3 ans:\n",
      "\n"
     ]
    }
   ],
   "source": [
    "class Node:\n",
    "    \n",
    "    def __init__(self,new_data):\n",
    "        self.newdata=new_data\n",
    "        self.next=None\n",
    "        \n",
    "class Singlylinkedlist:\n",
    "    def __init__(self):\n",
    "        self.tail=None\n",
    "        self.head=None\n",
    "    \n",
    "    def addFirstNode(self,new_data):\n",
    "        if self.tail==None:\n",
    "            self.head=Node(new_data)\n",
    "            self.tail=self.head\n",
    "        else:\n",
    "            self.tail.next=Node(new_data)\n",
    "            self.tail=self.tail.next\n",
    "            \n",
    "    def add_end(self,new_data):\n",
    "        NewNode= Node(new_data)\n",
    "        if self.head==None:\n",
    "            self.head=NewNode\n",
    "        else:\n",
    "            n=self.head\n",
    "            if n.next!=None:\n",
    "                n=n.next\n",
    "            n.next=NewNode\n",
    "    def print1(self):\n",
    "        n=self.head\n",
    "        if n==None:\n",
    "            print(\"Linked list is empty\")\n",
    "        while n!=None:\n",
    "            print(\"ans:\",n.newdata)\n",
    "            n=n.next\n",
    "        print()\n",
    "list=Singlylinkedlist()\n",
    "t=int(input())\n",
    "for x in range(t):\n",
    "    d=int(input())\n",
    "    list.addFirstNode(d)\n",
    "\n",
    "# list.add_end(55553)\n",
    "list.print1()"
   ]
  },
  {
   "cell_type": "markdown",
   "metadata": {},
   "source": [
    "##### Singlylinkedlist"
   ]
  },
  {
   "cell_type": "code",
   "execution_count": 1,
   "metadata": {},
   "outputs": [
    {
     "name": "stdout",
     "output_type": "stream",
     "text": [
      "12\n",
      "10\n",
      "40\n",
      "\n"
     ]
    }
   ],
   "source": [
    "class Node:\n",
    "    \n",
    "    def __init__(self,newdata):\n",
    "        self.newdata=newdata\n",
    "        self.next=None\n",
    "        \n",
    "class Singlylinkedlist:\n",
    "    def __init__(self):\n",
    "        self.head=None\n",
    "        \n",
    "    def add_Beginning(self,newdata):\n",
    "        NewNode = Node(newdata)\n",
    "        NewNode.next = self.head\n",
    "        self.head = NewNode\n",
    "\n",
    "    def add_end(self,newdata):\n",
    "        NewNode= Node(newdata)\n",
    "        if self.head==None:\n",
    "            self.head=NewNode\n",
    "        else:\n",
    "            n=self.head\n",
    "            if n.next!=None:\n",
    "                n=n.next\n",
    "            n.next=NewNode\n",
    "            \n",
    "    def add_After_Node(self,newdata,x): #x=kon noder pore add hbe\n",
    "        n=self.head\n",
    "        while n!=None:\n",
    "            if x == n.newdata:\n",
    "                break\n",
    "            n=n.next\n",
    "            if n==None:\n",
    "                print('invalid data')\n",
    "            else:\n",
    "                NewNode= Node(newdata)\n",
    "                NewNode.next= n.next\n",
    "                n.next= NewNode\n",
    "                \n",
    "    def add_before_node(self,newdata,x):\n",
    "        if self.head==None:\n",
    "            print('linked list empty')\n",
    "            return\n",
    "        if self.head.newdata==x:\n",
    "            NewNode = Node(newdata)\n",
    "            NewNode.next = self.head\n",
    "            self.head = NewNode\n",
    "            return\n",
    "        n=self.head\n",
    "        while n.next!=None:\n",
    "            if n.next.data==x:\n",
    "                break\n",
    "            n=n.next\n",
    "            if n.next!=None:\n",
    "                print(\"Node is not availavail\")\n",
    "            else:\n",
    "                NewNode= Node(newdata)\n",
    "                NewNode.next= n.next\n",
    "                n.next= NewNode\n",
    "    def insert_empty(self,newdata):        #linked list full empty thakle\n",
    "\n",
    "        if self.head ==None:\n",
    "            NewNode= Node(newdata)\n",
    "            self.head= NewNode\n",
    "        else:\n",
    "            print(\"Its not empty\")\n",
    "            \n",
    "    def remove_first_Node(self):\n",
    "        if self.head==None:\n",
    "            print('no data availavail')\n",
    "        else:\n",
    "            self.head=self.head.next\n",
    "    def remove_last_Node(self):\n",
    "        if self.head==None:\n",
    "            print('no data availavail')\n",
    "            \n",
    "        elif self.head.next==None:\n",
    "            self.head=None\n",
    "            \n",
    "        else:\n",
    "            n=self.head\n",
    "            while n.next.next!=None:\n",
    "                n=n.next\n",
    "            n.next=None\n",
    "    def remove_by_Value(self,x):\n",
    "        if self.head==None:\n",
    "            print(\"it empty can not delete\")\n",
    "            return\n",
    "        if x==self.head.newdata:\n",
    "            head=self.head.next\n",
    "            return n.element\n",
    "        n=self.head\n",
    "        while n.next!=None:\n",
    "            if x==n.next.newdata:\n",
    "                break\n",
    "            n=n.next\n",
    "        if n.next ==None:\n",
    "            print('Node is not present')\n",
    "        else:\n",
    "            n.next=n.next.next\n",
    "        \n",
    "        \n",
    "                \n",
    "            \n",
    "    \n",
    "#     def removenode(self,key):\n",
    "#         n=self.head\n",
    "#         if n!=None:\n",
    "#             if n.newdata==key:\n",
    "#                 self.head=n.next\n",
    "#                 n=None\n",
    "#                 return\n",
    "#         while n!=None:\n",
    "#             if n.newdata==key:\n",
    "#                 break\n",
    "#             prev=n\n",
    "#             n=n.next\n",
    "#         if n==None:\n",
    "#             return\n",
    "#         prev.next=n.next\n",
    "#         n=None\n",
    "    \n",
    "    def print1(self):\n",
    "        n=self.head\n",
    "        if n==None:\n",
    "            print(\"Linked list is empty\")\n",
    "        while n!=None:\n",
    "            print(n.newdata)\n",
    "            n=n.next\n",
    "        print()\n",
    "list=Singlylinkedlist()\n",
    "list.insert_empty(30)\n",
    "list.add_Beginning(10)\n",
    "list.add_Beginning(100)\n",
    "list.add_end(20)\n",
    "list.add_After_Node(40,10)\n",
    "list.add_before_node(12,100)\n",
    "list.remove_by_Value(100)\n",
    "# list.remove_first_Node()\n",
    "list.remove_last_Node()\n",
    "list.print1()\n",
    "# list.removenode(10)\n",
    "# list.print1()"
   ]
  },
  {
   "cell_type": "code",
   "execution_count": 22,
   "metadata": {},
   "outputs": [
    {
     "ename": "AttributeError",
     "evalue": "'SinglyLinkedListNode' object has no attribute 'node_data'",
     "output_type": "error",
     "traceback": [
      "\u001b[1;31m---------------------------------------------------------------------------\u001b[0m",
      "\u001b[1;31mAttributeError\u001b[0m                            Traceback (most recent call last)",
      "\u001b[1;32m<ipython-input-22-b857321f2957>\u001b[0m in \u001b[0;36m<module>\u001b[1;34m\u001b[0m\n\u001b[0;32m     30\u001b[0m \u001b[0mlst\u001b[0m\u001b[1;33m.\u001b[0m\u001b[0madd_end\u001b[0m\u001b[1;33m(\u001b[0m\u001b[1;36m4\u001b[0m\u001b[1;33m)\u001b[0m\u001b[1;33m\u001b[0m\u001b[1;33m\u001b[0m\u001b[0m\n\u001b[0;32m     31\u001b[0m \u001b[0mlst\u001b[0m\u001b[1;33m.\u001b[0m\u001b[0madd_end\u001b[0m\u001b[1;33m(\u001b[0m\u001b[1;36m41\u001b[0m\u001b[1;33m)\u001b[0m\u001b[1;33m\u001b[0m\u001b[1;33m\u001b[0m\u001b[0m\n\u001b[1;32m---> 32\u001b[1;33m \u001b[0mlst\u001b[0m\u001b[1;33m.\u001b[0m\u001b[0mprintdtls\u001b[0m\u001b[1;33m(\u001b[0m\u001b[1;33m)\u001b[0m\u001b[1;33m\u001b[0m\u001b[1;33m\u001b[0m\u001b[0m\n\u001b[0m\u001b[0;32m     33\u001b[0m \u001b[1;33m\u001b[0m\u001b[0m\n\u001b[0;32m     34\u001b[0m \u001b[1;33m\u001b[0m\u001b[0m\n",
      "\u001b[1;32m<ipython-input-22-b857321f2957>\u001b[0m in \u001b[0;36mprintdtls\u001b[1;34m(self)\u001b[0m\n\u001b[0;32m     23\u001b[0m             \u001b[0mprint\u001b[0m\u001b[1;33m(\u001b[0m\u001b[1;34m\"Linked list is empty\"\u001b[0m\u001b[1;33m)\u001b[0m\u001b[1;33m\u001b[0m\u001b[1;33m\u001b[0m\u001b[0m\n\u001b[0;32m     24\u001b[0m         \u001b[1;32mwhile\u001b[0m \u001b[0mn\u001b[0m\u001b[1;33m!=\u001b[0m\u001b[1;32mNone\u001b[0m\u001b[1;33m:\u001b[0m\u001b[1;33m\u001b[0m\u001b[1;33m\u001b[0m\u001b[0m\n\u001b[1;32m---> 25\u001b[1;33m             \u001b[0mprint\u001b[0m\u001b[1;33m(\u001b[0m\u001b[0mn\u001b[0m\u001b[1;33m.\u001b[0m\u001b[0mnode_data\u001b[0m\u001b[1;33m)\u001b[0m\u001b[1;33m\u001b[0m\u001b[1;33m\u001b[0m\u001b[0m\n\u001b[0m\u001b[0;32m     26\u001b[0m             \u001b[0mn\u001b[0m\u001b[1;33m=\u001b[0m\u001b[0mn\u001b[0m\u001b[1;33m.\u001b[0m\u001b[0mnext\u001b[0m\u001b[1;33m\u001b[0m\u001b[1;33m\u001b[0m\u001b[0m\n\u001b[0;32m     27\u001b[0m         \u001b[0mprint\u001b[0m\u001b[1;33m(\u001b[0m\u001b[1;33m)\u001b[0m\u001b[1;33m\u001b[0m\u001b[1;33m\u001b[0m\u001b[0m\n",
      "\u001b[1;31mAttributeError\u001b[0m: 'SinglyLinkedListNode' object has no attribute 'node_data'"
     ]
    }
   ],
   "source": [
    "class SinglyLinkedListNode:\n",
    "    \n",
    "    def __init__(self, node_data):\n",
    "        self.data = node_data\n",
    "        self.next = None\n",
    "\n",
    "class SinglyLinkedList:\n",
    "    def __init__(self):\n",
    "        self.head = None\n",
    "    def add_end(self,node_data):\n",
    "        newnode=SinglyLinkedListNode(node_data)\n",
    "        if self.head==None:\n",
    "            self.head=newnode\n",
    "        else:\n",
    "            n=self.head\n",
    "            if n.next!=None:\n",
    "                n=n.next\n",
    "            n.next=newnode\n",
    "        \n",
    "    def printdtls(self):\n",
    "        n=self.head\n",
    "        if n==None:\n",
    "            print(\"Linked list is empty\")\n",
    "        while n!=None:\n",
    "            print(n.node_data)\n",
    "            n=n.next\n",
    "        print()\n",
    "        \n",
    "lst=SinglyLinkedList()\n",
    "lst.add_end(4)\n",
    "lst.add_end(41)\n",
    "lst.printdtls()\n",
    "        \n",
    "                "
   ]
  },
  {
   "cell_type": "code",
   "execution_count": null,
   "metadata": {},
   "outputs": [],
   "source": [
    "def removenode(self,key):\n",
    "    n=self.head\n",
    "    if n!=None:\n",
    "        if n.val== key:\n",
    "            self.head= n.next\n",
    "            n=None\n",
    "            return\n",
    "    while n!=None:\n",
    "        if n.val==key:\n",
    "            break\n",
    "        prev=n\n",
    "        n=n.next\n",
    "    if n==None:\n",
    "        return\n",
    "    prev.next=n.next\n",
    "    n=None\n",
    "    \n",
    "    \n",
    "    \n",
    "    \n",
    "    \n",
    "    \n",
    "    \n",
    "    \n",
    "    \n",
    "    def __remove_node(self,NewNode):\n",
    "        if NewNode.prev==None:\n",
    "            self.head=NewNode.next\n",
    "        else:\n",
    "            NewNode.prev.next=NewNode.next\n",
    "        if NewNode.next==None:\n",
    "            self.t\n",
    "            \n",
    "    \n",
    "    def removenode(self,removekey):\n",
    "        NewNode=self.head\n",
    "        while NewNode!=None:\n",
    "            if NewNode.val==removekey:\n",
    "                \n",
    " (self,node):\n",
    "        if node.prev==None:\n",
    "            self.head=node.next\n",
    "        else:\n",
    "            node.prev.next=node.next\n",
    "            \n",
    "        if node.next==None:\n",
    "            self.tail=node.prev\n",
    "        else:\n",
    "            node.next.prev=node.prev\n",
    " def remove(self,value):\n",
    "        node= \n",
    "        while node!=None:\n",
    "            if node.val==value:\n",
    "                self.__remove_node(node)\n",
    "#                 break (just fst node del korte chaile break kore dile ee hbe)\n",
    "            node=node.next"
   ]
  },
  {
   "cell_type": "code",
   "execution_count": 3,
   "metadata": {},
   "outputs": [
    {
     "name": "stdout",
     "output_type": "stream",
     "text": [
      "[5,15,5,5,5,85,25,95,95]\n",
      "[5,15,5,5,5,85,25,95,95]\n",
      "9\n"
     ]
    }
   ],
   "source": [
    "class Node:\n",
    "    def __init__(self, value,next):\n",
    "        self.value=value\n",
    "        self.next=next\n",
    "    def printNode(self):\n",
    "        print(self.value,\"-\",self.next)"
   ]
  },
  {
   "cell_type": "code",
   "execution_count": null,
   "metadata": {},
   "outputs": [],
   "source": []
  },
  {
   "cell_type": "markdown",
   "metadata": {},
   "source": [
    "# creating a list from an array"
   ]
  },
  {
   "cell_type": "code",
   "execution_count": 4,
   "metadata": {},
   "outputs": [
    {
     "name": "stdout",
     "output_type": "stream",
     "text": [
      "1 - <__main__.Node object at 0x0000022643069388>\n",
      "2 - <__main__.Node object at 0x0000022643069748>\n",
      "3 - <__main__.Node object at 0x0000022643069788>\n",
      "4 - <__main__.Node object at 0x0000022643069308>\n",
      "5 - <__main__.Node object at 0x0000022643069048>\n",
      "6 - None\n"
     ]
    }
   ],
   "source": [
    "class Node:\n",
    "    def __init__(self, value,next):\n",
    "        self.value=value\n",
    "        self.next=next\n",
    "    def printNode(self):\n",
    "        print(self.value,\"-\",self.next)\n",
    "\n",
    "class linkedList:\n",
    "    def __init__(self,a):\n",
    "        self.head=None\n",
    "        tail=None\n",
    "        for i in a:\n",
    "            n=Node(i,None)\n",
    "            if self.head==None:\n",
    "                self.head=n\n",
    "                tail=n\n",
    "            else:\n",
    "                tail.next=n\n",
    "                tail=n\n",
    "    def printlist(self):\n",
    "        n=self.head\n",
    "        while n!=None:\n",
    "            n.printNode()\n",
    "            n=n.next\n",
    "list1=[1,2,3,4,5,6] ##array\n",
    "list2=linkedList(list1)\n",
    "list2.printlist()"
   ]
  },
  {
   "cell_type": "code",
   "execution_count": null,
   "metadata": {},
   "outputs": [],
   "source": [
    "# arrays\n",
    "# advantages---> random access,less memory space\n",
    "#limitations---->can not be resize (solution:creating a new array), shifting inser/remove(solution:using linked list)\n"
   ]
  },
  {
   "cell_type": "markdown",
   "metadata": {},
   "source": [
    "# Doubly Linked List\n",
    "Doubly Linked List contains a link element called first and last.\n",
    "Each link carries a data field(s) and two link fields called next and prev.\n",
    "Each link is linked with its next link using its next link.\n",
    "Each link is linked with its previous link using its previous link.\n",
    "The last link carries a link as null to mark the end of the list."
   ]
  },
  {
   "cell_type": "markdown",
   "metadata": {},
   "source": [
    "# Creating Doubly linked list\n",
    "same approach as used in the Singly Linked List"
   ]
  },
  {
   "cell_type": "code",
   "execution_count": 5,
   "metadata": {},
   "outputs": [
    {
     "name": "stdout",
     "output_type": "stream",
     "text": [
      "62\n",
      "8\n",
      "12\n"
     ]
    }
   ],
   "source": [
    "class Node:\n",
    "    def __init__(self, data):\n",
    "      self.data = data\n",
    "      self.next = None\n",
    "      self.prev = None\n",
    "\n",
    "class doubly_linked_list:\n",
    "\n",
    "   def __init__(self):\n",
    "      self.head = None\n",
    "\n",
    "# Adding data elements\t\t\n",
    "   def push(self, NewVal):\n",
    "      NewNode = Node(NewVal)\n",
    "      NewNode.next = self.head\n",
    "      if self.head !=None:\n",
    "         self.head.prev = NewNode\n",
    "      self.head = NewNode\n",
    "\n",
    "# Print the Doubly Linked list\t\t\n",
    "   def listprint(self, node):\n",
    "      while (node is not None):\n",
    "         print(node.data),\n",
    "         last = node\n",
    "         node = node.next\n",
    "\n",
    "dllist = doubly_linked_list()\n",
    "dllist.push(12)\n",
    "dllist.push(8)\n",
    "dllist.push(62)\n",
    "dllist.listprint(dllist.head)"
   ]
  },
  {
   "cell_type": "code",
   "execution_count": 1,
   "metadata": {},
   "outputs": [
    {
     "name": "stdout",
     "output_type": "stream",
     "text": [
      "2.5\n",
      "5 <-> 4 <-> 3.5 <-> 3 <-> 2 <-> 1\n",
      "None\n",
      "1\n",
      "2\n",
      "3\n",
      "3.5\n",
      "4\n",
      "5\n",
      "5\n",
      "4\n",
      "3.5\n",
      "3\n",
      "2\n",
      "1\n",
      "\n",
      " 6\n"
     ]
    }
   ],
   "source": [
    "class Node:\n",
    "    def __init__(self, data, right=None, left=None):\n",
    "        self.data= data\n",
    "        self.right= right\n",
    "        self.left= left\n",
    "        \n",
    "    def __str__(self):\n",
    "        return str(self.data)\n",
    " \n",
    "#______________________________________________________\n",
    "    \n",
    "class Doubly_Linked_List:\n",
    "    def __init__(self):\n",
    "        self.tail= Node(None, None)\n",
    "        self.root= Node(None,self.tail)\n",
    "        self.tail.left = self.root\n",
    "    \n",
    "    \n",
    "    def remove(self, data):\n",
    "        node=self.root\n",
    "        if node.data == data:\n",
    "            self.root=self.root.right\n",
    "            self.root.left = None\n",
    "            return True\n",
    "        \n",
    "        else:\n",
    "            while node.right!= None:\n",
    "                if node.right.data == data:\n",
    "                    node.right=node.right.right\n",
    "                    if node.right!=None:\n",
    "                        node.right.left=node\n",
    "                    return True\n",
    "                node = node.right\n",
    "            \n",
    "        return False\n",
    "    \n",
    "        \n",
    "    def add_node(self, data):\n",
    "        #self.root = Node(data, self.root)\n",
    "        node= Node(data)\n",
    "        node.right= self.root\n",
    "        self.root.left = node\n",
    "        self.root = node\n",
    "        self.remove(None)\n",
    "    \n",
    "    def size(self):\n",
    "        count=0\n",
    "        node=self.root\n",
    "        while node!= None:\n",
    "            count+=1\n",
    "            node=node.right\n",
    "        return count\n",
    "    \n",
    "    \n",
    "    def __str__(self):\n",
    "        str1=str(self.root)\n",
    "        node= self.root.right\n",
    "        while node!= None:\n",
    "            str1+=\" <-> \"+str(node.data)\n",
    "            node=node.right\n",
    "            \n",
    "        return str1\n",
    "#____________________________________________________\n",
    " \n",
    "    def add_node_at(self, data, index=0):\n",
    "        node = Node(data)\n",
    "        node1 = self.root\n",
    "        if index==0:\n",
    "            self.add_node(data)\n",
    "        \n",
    "        elif index>0:\n",
    "            for a in range(index-1):\n",
    "                node1=node1.right\n",
    "            node.right = node1.right\n",
    "            node1.right = node\n",
    "            node.right.left = node\n",
    "            node.left=node1\n",
    "        \n",
    "        else:\n",
    "            index = self.size()+1+ index\n",
    "            self.add_node_at(data, index)\n",
    " \n",
    "    def pop(self, index=0):\n",
    "        node = self.root\n",
    "        if index==0:\n",
    "            self.root= self.root.right\n",
    "            self.root.left=None\n",
    "            \n",
    "        elif index>0:\n",
    "            for a in range(index-1):\n",
    "                node = node.right\n",
    "            temp=node.right\n",
    "            \n",
    "            node.right = node.right.right\n",
    "            node.right.left = node\n",
    "            node=temp\n",
    "        else:\n",
    "            index = self.size() + index\n",
    "            node = self.pop(index)\n",
    "        return node\n",
    "    \n",
    "    \n",
    "    def peek(self, index=0):\n",
    "        node= self.root\n",
    "        if index==0:\n",
    "            pass\n",
    "        \n",
    "        elif index>0:\n",
    "            for a in range(index):\n",
    "                node = node.right\n",
    "        \n",
    "        else:\n",
    "            index = self.size() + index\n",
    "            node = self.pop(index)\n",
    "        return node\n",
    "            \n",
    "            \n",
    "list1 = Doubly_Linked_List()\n",
    "list1.add_node(1)\n",
    "list1.add_node(2)\n",
    "list1.add_node(3)\n",
    "list1.add_node(4)\n",
    "list1.add_node(5)\n",
    "list1.add_node_at(2.5, 3)\n",
    "list1.add_node_at(3.5, -5)\n",
    " \n",
    "print(list1.peek(-3))\n",
    "print(list1)\n",
    " \n",
    "node=list1.tail\n",
    "for a in range(list1.size()+1):\n",
    "    print(node)\n",
    "    node=node.left\n",
    "    \n",
    "node=list1.root\n",
    "for a in range(list1.size()):\n",
    "    print(node)\n",
    "    node=node.right\n",
    " \n",
    "print(\"\\n\",list1.size())"
   ]
  },
  {
   "cell_type": "markdown",
   "metadata": {},
   "source": [
    "# Advance linked list manupulation(ALM)"
   ]
  },
  {
   "cell_type": "code",
   "execution_count": null,
   "metadata": {},
   "outputs": [],
   "source": [
    "Three possible places:\n",
    "    1.at the beginning ( new node ke head banai diye ager tare next node banai dile ee hbe)\n",
    "    2.at the middle\n",
    "    3.at the end"
   ]
  },
  {
   "cell_type": "code",
   "execution_count": null,
   "metadata": {},
   "outputs": [],
   "source": [
    "#insert function\n",
    "class Node:\n",
    "    def __init__(self, value,next):\n",
    "        self.value=value\n",
    "        self.next=next\n",
    "    def printNode(self):\n",
    "        print(self.value,\"-\",self.next)\n",
    "    def insert(head, size, elem, index):\n",
    "        if(index<0 or index>size):\n",
    "            raise Exception(\"Invalid index\")\n",
    "            newNode = Node(elem, None)\n",
    "            if (index==0):\n",
    "                newNode.next = head\n",
    "                head = newNode\n",
    "            else:\n",
    "                pred = nodeAt(index-1)\n",
    "                newNode.next = pred.next\n",
    "                pred.next = newNode\n",
    "            return head\n",
    "\n",
    "\n",
    "#remove function\n",
    "\n",
    "def remove(head, size, index):\n",
    "\n",
    "    if(index<0 or index>=size):\n",
    "\n",
    "        raise Exception(\"Invalid index\")\n",
    "\n",
    "    removedNode = None\n",
    "\n",
    "    if (index==0):\n",
    "\n",
    "        removedNode = head\n",
    "\n",
    "        head = head.next\n",
    "\n",
    "    else:\n",
    "\n",
    "        pred = nodeAt(index-1)\n",
    "\n",
    "        removedNode = pred.next\n",
    "\n",
    "        pred.next = removedNode.next\n",
    "\n",
    "    removedNode.element = None\n",
    "\n",
    "    removedNode.next = None\n",
    "\n",
    "    return head\n",
    "\n",
    " Previous\n"
   ]
  }
 ],
 "metadata": {
  "kernelspec": {
   "display_name": "Python 3",
   "language": "python",
   "name": "python3"
  },
  "language_info": {
   "codemirror_mode": {
    "name": "ipython",
    "version": 3
   },
   "file_extension": ".py",
   "mimetype": "text/x-python",
   "name": "python",
   "nbconvert_exporter": "python",
   "pygments_lexer": "ipython3",
   "version": "3.7.6"
  }
 },
 "nbformat": 4,
 "nbformat_minor": 4
}
