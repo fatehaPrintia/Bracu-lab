{
 "cells": [
  {
   "cell_type": "code",
   "execution_count": 1,
   "metadata": {},
   "outputs": [
    {
     "data": {
      "text/plain": [
       "120"
      ]
     },
     "execution_count": 1,
     "metadata": {},
     "output_type": "execute_result"
    }
   ],
   "source": [
    "##factorial\n",
    "def fact(n):\n",
    "    if n==1:\n",
    "        return n\n",
    "    else:\n",
    "        return n*fact(n-1)\n",
    "    \n",
    "fact(5)"
   ]
  },
  {
   "cell_type": "code",
   "execution_count": 3,
   "metadata": {},
   "outputs": [
    {
     "data": {
      "text/plain": [
       "7"
      ]
     },
     "execution_count": 3,
     "metadata": {},
     "output_type": "execute_result"
    }
   ],
   "source": [
    "def length_of_string(a):\n",
    "    if a==\"\":\n",
    "        return 0\n",
    "    else:\n",
    "        return 1+ length_of_string(a[1:])\n",
    "length_of_string(\"printia\")"
   ]
  },
  {
   "cell_type": "code",
   "execution_count": 3,
   "metadata": {},
   "outputs": [
    {
     "data": {
      "text/plain": [
       "15"
      ]
     },
     "execution_count": 3,
     "metadata": {},
     "output_type": "execute_result"
    }
   ],
   "source": [
    "##length of a linked list\n",
    "\n",
    "class Node:\n",
    "    def __init__(self,val,next):\n",
    "        self.val=val\n",
    "        self.next=next\n",
    "    \n",
    "class linked_list:\n",
    "    def __init__(self,a):\n",
    "        self.head=None\n",
    "        tail=None\n",
    "        for i in a:\n",
    "            n=Node(i,None)\n",
    "            if self.head==None:\n",
    "                self.head=n\n",
    "                self.tail=n\n",
    "            else:\n",
    "                self.tail.next=n\n",
    "                self.tail=n\n",
    "\n",
    "    def length(self,node):\n",
    "        if node is None:\n",
    "          return 0\n",
    "        else:\n",
    "          return 1+ self.length(node.next)\n",
    "    \n",
    "    def summ(self,node):\n",
    "        if node==None:\n",
    "            return 0\n",
    "        else:\n",
    "            return node.val+ self.summ(node.next)\n",
    "\n",
    "\n",
    "        \n",
    "a=[1,2,3,4,5]\n",
    "b=linked_list(a)\n",
    "# b.length(b.head)\n",
    "b.summ(b.head)"
   ]
  },
  {
   "cell_type": "code",
   "execution_count": 5,
   "metadata": {},
   "outputs": [
    {
     "data": {
      "text/plain": [
       "15"
      ]
     },
     "execution_count": 5,
     "metadata": {},
     "output_type": "execute_result"
    }
   ],
   "source": [
    "def sum_of_natural_num(n):\n",
    "    if n==0:\n",
    "        return 0\n",
    "    else:\n",
    "        return n+sum_of_natural_num(n-1)\n",
    "sum_of_natural_num(5)"
   ]
  },
  {
   "cell_type": "code",
   "execution_count": 7,
   "metadata": {},
   "outputs": [
    {
     "data": {
      "text/plain": [
       "8"
      ]
     },
     "execution_count": 7,
     "metadata": {},
     "output_type": "execute_result"
    }
   ],
   "source": [
    "def expotential(a,n):\n",
    "    if n==0:\n",
    "        return 1\n",
    "    else:\n",
    "        return a * expotential(a,n-1)\n",
    "    \n",
    "expotential(2,3)\n"
   ]
  },
  {
   "cell_type": "code",
   "execution_count": 32,
   "metadata": {},
   "outputs": [
    {
     "name": "stdout",
     "output_type": "stream",
     "text": [
      "128\n"
     ]
    }
   ],
   "source": [
    "def exp(a,n):\n",
    "    if n==0:\n",
    "        return 1\n",
    "    x=exp(a,n//2)\n",
    "    if n%2==0:\n",
    "        return x*x\n",
    "    else:\n",
    "        return x*x*a\n",
    "    \n",
    "print(exp(2,7))"
   ]
  },
  {
   "cell_type": "code",
   "execution_count": 35,
   "metadata": {},
   "outputs": [
    {
     "name": "stdout",
     "output_type": "stream",
     "text": [
      "0.0\n"
     ]
    }
   ],
   "source": [
    "print(0/2)"
   ]
  },
  {
   "cell_type": "markdown",
   "metadata": {},
   "source": [
    "# binary_to_decimal"
   ]
  },
  {
   "cell_type": "code",
   "execution_count": 11,
   "metadata": {},
   "outputs": [
    {
     "data": {
      "text/plain": [
       "91"
      ]
     },
     "execution_count": 11,
     "metadata": {},
     "output_type": "execute_result"
    }
   ],
   "source": [
    "def normal_binary_to_decimal(s):\n",
    "    num=0\n",
    "    for i in range(len(s)):\n",
    "        if s[i]==\"0\":\n",
    "            num=2*num\n",
    "        else:\n",
    "            num=num*2+1\n",
    "        i+=1\n",
    "    return num\n",
    "\n",
    "normal_binary_to_decimal(\"1011011\")"
   ]
  },
  {
   "cell_type": "code",
   "execution_count": 36,
   "metadata": {},
   "outputs": [
    {
     "data": {
      "text/plain": [
       "91"
      ]
     },
     "execution_count": 36,
     "metadata": {},
     "output_type": "execute_result"
    }
   ],
   "source": [
    "def recursive_binary_to_decimal(s,i,num):\n",
    "    if len(s)==i:\n",
    "        return num\n",
    "    else:\n",
    "        if s[i]==\"0\":\n",
    "            num=num*2\n",
    "        else:\n",
    "            num=num*2+1\n",
    "    return recursive_binary_to_decimal(s,i+1,num)\n",
    "\n",
    "recursive_binary_to_decimal(\"1011011\",0,0)\n"
   ]
  },
  {
   "cell_type": "code",
   "execution_count": 17,
   "metadata": {},
   "outputs": [
    {
     "name": "stdout",
     "output_type": "stream",
     "text": [
      "100010\n"
     ]
    }
   ],
   "source": [
    "# Function to print binary number using recursion\n",
    "def convertToBinary(n):\n",
    "   if n > 1:\n",
    "       convertToBinary(n//2)\n",
    "   print(n%2,end = '')\n",
    "\n",
    "# decimal number\n",
    "dec = 34\n",
    "\n",
    "convertToBinary(dec)\n",
    "print()"
   ]
  },
  {
   "cell_type": "code",
   "execution_count": 24,
   "metadata": {},
   "outputs": [
    {
     "data": {
      "text/plain": [
       "15"
      ]
     },
     "execution_count": 24,
     "metadata": {},
     "output_type": "execute_result"
    }
   ],
   "source": [
    "##jeta bujsi\n",
    "def sumofdigit(num):\n",
    "    if num==0:\n",
    "        return 0\n",
    "    else:\n",
    "        return (num%10+sumofdigit(num//10))\n",
    "sumofdigit(12345)"
   ]
  },
  {
   "cell_type": "code",
   "execution_count": 13,
   "metadata": {},
   "outputs": [
    {
     "name": "stdout",
     "output_type": "stream",
     "text": [
      "[1, 3, 6, 10, 15]\n"
     ]
    }
   ],
   "source": [
    "##sum_of_a_array mid qs\n",
    "\n",
    "def sum_arr(s,i,summ):\n",
    "    if i==len(s):\n",
    "        return 0\n",
    "    else:\n",
    "        summ+=s[i]\n",
    "        a.append(summ)\n",
    "        sum_arr(s,i+1,summ)\n",
    "        return summ\n",
    "    \n",
    "\n",
    "s=[1,2,3,4,5]\n",
    "a=[s[0]]\n",
    "summ=a[0]\n",
    "sum_arr(s,1,summ)\n",
    "print(a)\n"
   ]
  },
  {
   "cell_type": "code",
   "execution_count": 18,
   "metadata": {},
   "outputs": [
    {
     "data": {
      "text/plain": [
       "[0, 2, 6, 6]"
      ]
     },
     "execution_count": 18,
     "metadata": {},
     "output_type": "execute_result"
    }
   ],
   "source": [
    "def sum_of_digits(num,sum,arr):\n",
    "\n",
    "  if num == 0:\n",
    "    return arr\n",
    "\n",
    "  return sum_of_digits(int(num/10), sum+(num%10),arr+[sum])\n",
    "\n",
    "n=5042\n",
    "s=0\n",
    "arr=[]\n",
    "sum_of_digits(n,s,arr)\n",
    "# print(a)"
   ]
  },
  {
   "cell_type": "code",
   "execution_count": 26,
   "metadata": {},
   "outputs": [
    {
     "data": {
      "text/plain": [
       "15"
      ]
     },
     "execution_count": 26,
     "metadata": {},
     "output_type": "execute_result"
    }
   ],
   "source": [
    "def sum_of_digits(num,sum):\n",
    "\n",
    "  if num == 0:\n",
    "\n",
    "    return sum\n",
    "\n",
    "  return sum_of_digits(int(num/10), sum+(num%10))\n",
    "sum_of_digits(12345,0)\n"
   ]
  },
  {
   "cell_type": "code",
   "execution_count": 28,
   "metadata": {},
   "outputs": [
    {
     "name": "stdout",
     "output_type": "stream",
     "text": [
      "5\n"
     ]
    }
   ],
   "source": [
    "print(12345%10)"
   ]
  },
  {
   "cell_type": "code",
   "execution_count": 11,
   "metadata": {},
   "outputs": [
    {
     "name": "stdout",
     "output_type": "stream",
     "text": [
      "Enter binary string: \"101\"\n",
      "10\n"
     ]
    }
   ],
   "source": [
    "def binaryToDecimalHelper(binaryString, val):\n",
    "    if len(binaryString)==0:\n",
    "        return 0\n",
    "    elif binaryString[-1]=='1':\n",
    "        return val + binaryToDecimalHelper(binaryString[:-1],val*2)\n",
    "    else:\n",
    "        return binaryToDecimalHelper(binaryString[:-1], val * 2)\n",
    "\n",
    "def binaryToDecimal(binaryString):\n",
    "    return binaryToDecimalHelper(binaryString, 1)\n",
    "\n",
    "# Main Space\n",
    "num = input(\"Enter binary string: \")\n",
    "print(binaryToDecimal(num))"
   ]
  },
  {
   "cell_type": "code",
   "execution_count": 29,
   "metadata": {},
   "outputs": [
    {
     "data": {
      "text/plain": [
       "120"
      ]
     },
     "execution_count": 29,
     "metadata": {},
     "output_type": "execute_result"
    }
   ],
   "source": [
    "#factorial\n",
    "def fact(num):\n",
    "  if num == 0:\n",
    "    return 0\n",
    "  elif num == 1:\n",
    "    return 1\n",
    "  else:\n",
    "    return num*fact(num-1)\n",
    "fact(5)"
   ]
  },
  {
   "cell_type": "code",
   "execution_count": 7,
   "metadata": {},
   "outputs": [
    {
     "data": {
      "text/plain": [
       "5"
      ]
     },
     "execution_count": 7,
     "metadata": {},
     "output_type": "execute_result"
    }
   ],
   "source": [
    "#febonacci\n",
    "def feb(n):\n",
    "    if n<=2:\n",
    "        return 1\n",
    "    else:\n",
    "        return feb(n-1)+feb(n-2)\n",
    "n1=5\n",
    "feb(n1)\n",
    "# for i in range(n1):\n",
    "#     print(feb(i))"
   ]
  },
  {
   "cell_type": "code",
   "execution_count": 6,
   "metadata": {},
   "outputs": [
    {
     "data": {
      "text/plain": [
       "15"
      ]
     },
     "execution_count": 6,
     "metadata": {},
     "output_type": "execute_result"
    }
   ],
   "source": [
    "#sum_of_a_linked_list\n",
    "class Node:\n",
    "    def __init__(self,val,next):\n",
    "        self.val=val\n",
    "        self.next=next\n",
    "    \n",
    "class linked_list:\n",
    "    def __init__(self,a):\n",
    "        self.head=None\n",
    "        tail=None\n",
    "        for i in a:\n",
    "            n=Node(i,None)\n",
    "            if self.head==None:\n",
    "                self.head=n\n",
    "                self.tail=n\n",
    "            else:\n",
    "                self.tail.next=n\n",
    "                self.tail=n\n",
    "    def summ(self,node):\n",
    "        if node==None:\n",
    "            return 0\n",
    "        else:\n",
    "            return node.val+ self.summ(node.next)\n",
    "\n",
    "\n",
    "        \n",
    "a=[1,2,3,4,5]\n",
    "b=linked_list(a)\n",
    "# b.length(b.head)\n",
    "b.summ(b.head)\n"
   ]
  },
  {
   "cell_type": "code",
   "execution_count": 7,
   "metadata": {},
   "outputs": [
    {
     "data": {
      "text/plain": [
       "15"
      ]
     },
     "execution_count": 7,
     "metadata": {},
     "output_type": "execute_result"
    }
   ],
   "source": [
    "##sum_of_a_array\n",
    "def sum_arr(s,i):\n",
    "    if i==len(s):\n",
    "        return 0\n",
    "    else:\n",
    "        return s[i]+sum_arr(s,i+1)\n",
    "sum_arr([1,2,3,4,5],0)"
   ]
  },
  {
   "cell_type": "code",
   "execution_count": 9,
   "metadata": {},
   "outputs": [
    {
     "data": {
      "text/plain": [
       "15"
      ]
     },
     "execution_count": 9,
     "metadata": {},
     "output_type": "execute_result"
    }
   ],
   "source": [
    "##sum_of_a_array (backward)\n",
    "def sum_arr(s,i):\n",
    "    if i==-1:\n",
    "        return 0\n",
    "    else:\n",
    "        return s[i]+sum_arr(s,i-1)\n",
    "sum_arr([1,2,3,4,5],4)"
   ]
  },
  {
   "cell_type": "code",
   "execution_count": 10,
   "metadata": {},
   "outputs": [
    {
     "data": {
      "text/plain": [
       "2"
      ]
     },
     "execution_count": 10,
     "metadata": {},
     "output_type": "execute_result"
    }
   ],
   "source": [
    "##linear search/ sequential search\n",
    "def ls(s,i,num):\n",
    "    if s[i]==num:\n",
    "        return i\n",
    "    elif s[i]==len(s):\n",
    "        return -1\n",
    "    else:\n",
    "        return ls(s,i+1,num)\n",
    "ls([1,2,3,4],0,3)"
   ]
  },
  {
   "cell_type": "code",
   "execution_count": 2,
   "metadata": {},
   "outputs": [
    {
     "data": {
      "text/plain": [
       "5"
      ]
     },
     "execution_count": 2,
     "metadata": {},
     "output_type": "execute_result"
    }
   ],
   "source": [
    "## max of an array\n",
    "\n",
    "def maxnum(s,i):\n",
    "    if s[i]==len(s)-1:\n",
    "        return s[i]\n",
    "    else:\n",
    "        return max(s[i],maxnum(s,i+1))\n",
    "    \n",
    "maxnum([1,2,5,4,3],0)"
   ]
  },
  {
   "cell_type": "code",
   "execution_count": 5,
   "metadata": {},
   "outputs": [
    {
     "ename": "TypeError",
     "evalue": "dc() missing 1 required positional argument: 'l'",
     "output_type": "error",
     "traceback": [
      "\u001b[1;31m---------------------------------------------------------------------------\u001b[0m",
      "\u001b[1;31mTypeError\u001b[0m                                 Traceback (most recent call last)",
      "\u001b[1;32m<ipython-input-5-3390990ce6f3>\u001b[0m in \u001b[0;36m<module>\u001b[1;34m\u001b[0m\n\u001b[0;32m      6\u001b[0m     \u001b[1;32melse\u001b[0m\u001b[1;33m:\u001b[0m\u001b[1;33m\u001b[0m\u001b[1;33m\u001b[0m\u001b[0m\n\u001b[0;32m      7\u001b[0m         \u001b[1;32mreturn\u001b[0m \u001b[0mdc\u001b[0m\u001b[1;33m(\u001b[0m\u001b[0ms\u001b[0m\u001b[1;33m,\u001b[0m\u001b[0mk\u001b[0m\u001b[1;33m)\u001b[0m\u001b[1;33m+\u001b[0m\u001b[0mdc\u001b[0m\u001b[1;33m(\u001b[0m\u001b[0mk\u001b[0m\u001b[1;33m+\u001b[0m\u001b[1;36m1\u001b[0m\u001b[1;33m,\u001b[0m\u001b[0ml\u001b[0m\u001b[1;33m)\u001b[0m\u001b[1;33m\u001b[0m\u001b[1;33m\u001b[0m\u001b[0m\n\u001b[1;32m----> 8\u001b[1;33m \u001b[0mdc\u001b[0m\u001b[1;33m(\u001b[0m\u001b[1;33m[\u001b[0m\u001b[1;36m1\u001b[0m\u001b[1;33m,\u001b[0m\u001b[1;36m2\u001b[0m\u001b[1;33m,\u001b[0m\u001b[1;36m3\u001b[0m\u001b[1;33m,\u001b[0m\u001b[1;36m4\u001b[0m\u001b[1;33m,\u001b[0m\u001b[1;36m5\u001b[0m\u001b[1;33m]\u001b[0m\u001b[1;33m,\u001b[0m\u001b[1;36m0\u001b[0m\u001b[1;33m,\u001b[0m\u001b[1;36m4\u001b[0m\u001b[1;33m)\u001b[0m\u001b[1;33m\u001b[0m\u001b[1;33m\u001b[0m\u001b[0m\n\u001b[0m",
      "\u001b[1;32m<ipython-input-5-3390990ce6f3>\u001b[0m in \u001b[0;36mdc\u001b[1;34m(s, m, l)\u001b[0m\n\u001b[0;32m      5\u001b[0m         \u001b[1;32mreturn\u001b[0m \u001b[0ms\u001b[0m\u001b[1;33m[\u001b[0m\u001b[0mk\u001b[0m\u001b[1;33m]\u001b[0m\u001b[1;33m\u001b[0m\u001b[1;33m\u001b[0m\u001b[0m\n\u001b[0;32m      6\u001b[0m     \u001b[1;32melse\u001b[0m\u001b[1;33m:\u001b[0m\u001b[1;33m\u001b[0m\u001b[1;33m\u001b[0m\u001b[0m\n\u001b[1;32m----> 7\u001b[1;33m         \u001b[1;32mreturn\u001b[0m \u001b[0mdc\u001b[0m\u001b[1;33m(\u001b[0m\u001b[0ms\u001b[0m\u001b[1;33m,\u001b[0m\u001b[0mk\u001b[0m\u001b[1;33m)\u001b[0m\u001b[1;33m+\u001b[0m\u001b[0mdc\u001b[0m\u001b[1;33m(\u001b[0m\u001b[0mk\u001b[0m\u001b[1;33m+\u001b[0m\u001b[1;36m1\u001b[0m\u001b[1;33m,\u001b[0m\u001b[0ml\u001b[0m\u001b[1;33m)\u001b[0m\u001b[1;33m\u001b[0m\u001b[1;33m\u001b[0m\u001b[0m\n\u001b[0m\u001b[0;32m      8\u001b[0m \u001b[0mdc\u001b[0m\u001b[1;33m(\u001b[0m\u001b[1;33m[\u001b[0m\u001b[1;36m1\u001b[0m\u001b[1;33m,\u001b[0m\u001b[1;36m2\u001b[0m\u001b[1;33m,\u001b[0m\u001b[1;36m3\u001b[0m\u001b[1;33m,\u001b[0m\u001b[1;36m4\u001b[0m\u001b[1;33m,\u001b[0m\u001b[1;36m5\u001b[0m\u001b[1;33m]\u001b[0m\u001b[1;33m,\u001b[0m\u001b[1;36m0\u001b[0m\u001b[1;33m,\u001b[0m\u001b[1;36m4\u001b[0m\u001b[1;33m)\u001b[0m\u001b[1;33m\u001b[0m\u001b[1;33m\u001b[0m\u001b[0m\n",
      "\u001b[1;31mTypeError\u001b[0m: dc() missing 1 required positional argument: 'l'"
     ]
    }
   ],
   "source": [
    "##divide and concate for sum\n",
    "def dc(s,m,l):\n",
    "    k=(m+l)/2\n",
    "    if m==l:\n",
    "        return s[k]\n",
    "    else:\n",
    "        return dc(s,k)+dc(k+1,l)\n",
    "dc([1,2,3,4,5],0,4)"
   ]
  },
  {
   "cell_type": "code",
   "execution_count": 6,
   "metadata": {},
   "outputs": [
    {
     "name": "stdout",
     "output_type": "stream",
     "text": [
      "Element is present at index 3\n"
     ]
    }
   ],
   "source": [
    "## binary search\n",
    "\n",
    "def binary_search(arr, low, high, x):\n",
    " \n",
    "    # Check base case\n",
    "    if high >= low:\n",
    "\n",
    "        mid = (high + low) // 2\n",
    "        # If element is present at the middle itself\n",
    "        if arr[mid] == x:\n",
    "            return mid\n",
    " \n",
    "        # If element is smaller than mid, then it can only\n",
    "        # be present in left subarray\n",
    "        elif arr[mid] > x:\n",
    "            return binary_search(arr, low, mid - 1, x)\n",
    " \n",
    "        # Else the element can only be present in right subarray\n",
    "        else:\n",
    "            return binary_search(arr, mid + 1, high, x)\n",
    " \n",
    "    else:\n",
    "        # Element is not present in the array\n",
    "        return -1\n",
    " \n",
    "# Test array\n",
    "arr = [ 2, 3, 4, 10, 40 ]\n",
    "x = 10\n",
    " \n",
    "# Function call\n",
    "result = binary_search(arr, 0, len(arr)-1, x)\n",
    " \n",
    "if result != -1:\n",
    "    print(\"Element is present at index\", str(result))\n",
    "else:\n",
    "    print(\"Element is not present in array\")"
   ]
  },
  {
   "cell_type": "code",
   "execution_count": 8,
   "metadata": {},
   "outputs": [
    {
     "data": {
      "text/plain": [
       "35"
      ]
     },
     "execution_count": 8,
     "metadata": {},
     "output_type": "execute_result"
    }
   ],
   "source": [
    "def Fibonacci_series(input1,summ,i,num1,num2):\n",
    "  if input1 == i:\n",
    "    return summ\n",
    "  return summ+Fibonacci_series(input1,num1+num2,i+1,num1=num2,num2=summ)\n",
    "\n",
    "Fibonacci_series(10,0,0,0,1)"
   ]
  },
  {
   "cell_type": "code",
   "execution_count": 38,
   "metadata": {},
   "outputs": [
    {
     "name": "stdout",
     "output_type": "stream",
     "text": [
      "Sorted array :\n",
      " 11 12 22 25 34 64 90\n"
     ]
    }
   ],
   "source": [
    "class bubbleSort:\n",
    "    def __init__(self, array):\n",
    "        self.array = array\n",
    "        self.length = len(array)\n",
    " \n",
    "    def __str__(self):\n",
    "        return \" \".join([str(x)\n",
    "                        for x in self.array])\n",
    " \n",
    "    def bubbleSortRecursive(self, n=None):\n",
    "        if n is None:\n",
    "            n = self.length\n",
    "        if n == 1:\n",
    "            return\n",
    "        for i in range(n - 1):\n",
    "            if self.array[i] > self.array[i + 1]:\n",
    "                self.array[i], self.array[i +1] = self.array[i + 1], self.array[i]\n",
    "        self.bubbleSortRecursive(n - 1)\n",
    " \n",
    "\n",
    "array = [64, 34, 25, 12, 22, 11, 90]\n",
    "sort = bubbleSort(array)\n",
    "sort.bubbleSortRecursive()\n",
    "print(\"Sorted array :\\n\", sort)\n",
    "\n",
    " "
   ]
  },
  {
   "cell_type": "code",
   "execution_count": 1,
   "metadata": {},
   "outputs": [
    {
     "name": "stdout",
     "output_type": "stream",
     "text": [
      "[-2, 1, 3, 4, 5, 8, 9]\n"
     ]
    }
   ],
   "source": [
    "##### bubbleSort\n",
    "def bubbleSort(A, n):\n",
    "    for i in range(n - 1):\n",
    "        if A[i] > A[i + 1]:\n",
    "            A[i],A[i+1]=A[i+1],A[i]\n",
    " \n",
    "    if n - 1 > 1:\n",
    "        bubbleSort(A, n - 1)\n",
    "\n",
    "A = [ 3, 5, 8, 4, 1, 9, -2 ]\n",
    " \n",
    "bubbleSort(A, len(A))\n",
    "\n",
    "print(A)"
   ]
  },
  {
   "cell_type": "code",
   "execution_count": 19,
   "metadata": {},
   "outputs": [
    {
     "name": "stdout",
     "output_type": "stream",
     "text": [
      "The minimum number in a given array is :  12\n",
      "The maximum number in a given array is :  250\n"
     ]
    }
   ],
   "source": [
    "def DAC_Max(a, index, l):\n",
    "    max = -1;\n",
    "    if (index >= l - 2):\n",
    "        if (a[index] > a[index + 1]):\n",
    "            return a[index];\n",
    "        else:\n",
    "            return a[index + 1];\n",
    "    max = DAC_Max(a, index + 1, l);\n",
    " \n",
    "    if (a[index] > max):\n",
    "        return a[index];\n",
    "    else:\n",
    "        return max;\n",
    "def DAC_Min(a, index, l):\n",
    "    min = 0;\n",
    "    if (index >= l - 2):\n",
    "        if (a[index] < a[index + 1]):\n",
    "            return a[index];\n",
    "        else:\n",
    "            return a[index + 1];\n",
    " \n",
    "    # Logic to find the Minimum element\n",
    "    # in the given array.\n",
    "    min = DAC_Min(a, index + 1, l);\n",
    " \n",
    "    if (a[index] < min):\n",
    "        return a[index];\n",
    "    else:\n",
    "        return min;\n",
    " \n",
    "# Driver Code\n",
    "if __name__ == '__main__':\n",
    "   \n",
    "    # Defining the variables\n",
    "    min, max = 0, -1;\n",
    " \n",
    "    # Initializing the array\n",
    "    a = [70, 250, 50, 80, 140, 12, 14];\n",
    " \n",
    "    # Recursion - DAC_Max function called\n",
    "    max = DAC_Max(a, 0, 7);\n",
    " \n",
    "    # Recursion - DAC_Max function called\n",
    "    min = DAC_Min(a, 0, 7);\n",
    "    print(\"The minimum number in a given array is : \", min);\n",
    "    print(\"The maximum number in a given array is : \", max);\n",
    " \n",
    "# This code is contributed by 29AjayKumar"
   ]
  },
  {
   "cell_type": "code",
   "execution_count": 20,
   "metadata": {},
   "outputs": [
    {
     "name": "stdout",
     "output_type": "stream",
     "text": [
      "0 1 2 3 5 7 "
     ]
    }
   ],
   "source": [
    "##extra code selecrtion code\n",
    "def minIndex( a , i , j ):\n",
    "    if i == j:\n",
    "        return i\n",
    "    k = minIndex(a, i + 1, j)\n",
    "    return (i if a[i] < a[k] else k)\n",
    "def recurSelectionSort(a, n, index = 0):\n",
    "    if index == n:\n",
    "        return -1\n",
    "    k = minIndex(a, index, n-1)\n",
    "    if k != index:\n",
    "        a[k], a[index] = a[index], a[k]\n",
    "    recurSelectionSort(a, n, index + 1)\n",
    "\n",
    "arr = [3, 1, 5, 2, 7, 0]\n",
    "n = len(arr)\n",
    "recurSelectionSort(arr, n)\n",
    "for i in arr:\n",
    "    print(i, end = ' ')"
   ]
  },
  {
   "cell_type": "code",
   "execution_count": 37,
   "metadata": {},
   "outputs": [
    {
     "name": "stdout",
     "output_type": "stream",
     "text": [
      "[1, 2, 2, 3, 5, 6, 10, 11, 12, 14, 15, 17, 18, 20, 29]\n"
     ]
    }
   ],
   "source": [
    "##selection sort without loop\n",
    "my_list=[10,1,20,3,6,2,5,11,15,2,12,14,17,18,29]\n",
    "\n",
    "for i in range(len(my_list)):\n",
    "    min_index=i\n",
    "    \n",
    "    for j in range(i+1,len(my_list)):\n",
    "        if my_list[j]<my_list[min_index]:\n",
    "            min_index=j\n",
    "            \n",
    "    temp=my_list[min_index]\n",
    "    my_list[min_index]=my_list[i]\n",
    "    my_list[i]=temp\n",
    "    \n",
    "print(my_list)"
   ]
  },
  {
   "cell_type": "code",
   "execution_count": 41,
   "metadata": {},
   "outputs": [
    {
     "name": "stdout",
     "output_type": "stream",
     "text": [
      "[6, 5, 3, 2, 1]\n"
     ]
    }
   ],
   "source": [
    "##fin selectionsort max in recurtion\n",
    "def selectionsortmax(s,j):\n",
    "    if len(s)==j:\n",
    "        return \n",
    "    else:\n",
    "        maxx=s[j]\n",
    "        maxindx=j\n",
    "        for i in range(j,len(s)):\n",
    "            if s[i]>maxx:\n",
    "                maxx=s[i]\n",
    "                maxindx=i\n",
    "        temp=s[j]\n",
    "        s[j]=maxx\n",
    "        s[maxindx]=temp\n",
    "    \n",
    "    return selectionsortmax(s,j+1)\n",
    "    \n",
    "s=[1,3,2,5,6]\n",
    "selectionsortmax(s,0)\n",
    "print(s)"
   ]
  },
  {
   "cell_type": "code",
   "execution_count": 40,
   "metadata": {},
   "outputs": [
    {
     "name": "stdout",
     "output_type": "stream",
     "text": [
      "[1, 2, 3, 5, 6]\n"
     ]
    }
   ],
   "source": [
    "##selectionsortmin\n",
    "def selectionsortmax(s,j):\n",
    "    if len(s)==j:\n",
    "        return \n",
    "    else:\n",
    "        maxx=s[j]\n",
    "        maxindx=j\n",
    "        for i in range(j,len(s)):\n",
    "            if s[i]<maxx:\n",
    "                maxx=s[i]\n",
    "                maxindx=i\n",
    "        temp=s[j]\n",
    "        s[j]=maxx\n",
    "        s[maxindx]=temp\n",
    "    \n",
    "    return selectionsortmax(s,j+1)\n",
    "    \n",
    "s=[1,3,2,5,6]\n",
    "selectionsortmax(s,0)\n",
    "print(s)"
   ]
  },
  {
   "cell_type": "code",
   "execution_count": 3,
   "metadata": {},
   "outputs": [
    {
     "name": "stdout",
     "output_type": "stream",
     "text": [
      "[-2, 1, 3, 4, 5, 8, 9]\n"
     ]
    }
   ],
   "source": [
    "##insertion sort\n",
    "\n",
    "def insertionSort(A):\n",
    "    for i in range(1, len(A)):\n",
    "        value = A[i]\n",
    "        j = i\n",
    "\n",
    "        while j > 0 and A[j - 1] > value:\n",
    "            A[j] = A[j - 1]\n",
    "            j = j - 1\n",
    "\n",
    "        A[j] = value\n",
    " \n",
    "A = [3, 8, 5, 4, 1, 9, -2]\n",
    "insertionSort(A)\n",
    "print(A)\n",
    " \n"
   ]
  },
  {
   "cell_type": "code",
   "execution_count": 4,
   "metadata": {},
   "outputs": [
    {
     "name": "stdout",
     "output_type": "stream",
     "text": [
      "[-2, 1, 3, 4, 5, 8, 9]\n"
     ]
    }
   ],
   "source": [
    "# Recursive function to perform insertion sort on sublist `A[i…n]`\n",
    "def insertionSort(A, i, n):\n",
    "    value = A[i]\n",
    "    j = i\n",
    "    while j > 0 and A[j - 1] > value:\n",
    "        A[j] = A[j - 1]\n",
    "        j = j - 1\n",
    " \n",
    "    A[j] = value\n",
    " \n",
    "    if i + 1 <= n:\n",
    "        insertionSort(A, i + 1, n)\n",
    " \n",
    "A = [3, 8, 5, 4, 1, 9, -2]\n",
    "\n",
    "insertionSort(A, 1, len(A) - 1)\n",
    " \n",
    "\n",
    "print(A)\n",
    " \n"
   ]
  },
  {
   "cell_type": "code",
   "execution_count": 4,
   "metadata": {},
   "outputs": [
    {
     "name": "stdout",
     "output_type": "stream",
     "text": [
      "[0, 1, 2, 3, 5, 6]\n"
     ]
    }
   ],
   "source": [
    "def insertionSort(s,i):\n",
    "    if i==len(s):\n",
    "        return s\n",
    "    else:\n",
    "        j=i-1\n",
    "        for j in range(0,len(s)-1):\n",
    "             if s[j+1]<s[j]:\n",
    "                temp=s[j+1]\n",
    "                s[j+1]=s[j]\n",
    "                s[j]=temp\n",
    "                j-=1\n",
    "        insertionSort(s,i+1)\n",
    "    return s\n",
    "\n",
    "print(insertionSort([0,3,2,6,5,1],1))"
   ]
  },
  {
   "cell_type": "code",
   "execution_count": 5,
   "metadata": {},
   "outputs": [
    {
     "name": "stdout",
     "output_type": "stream",
     "text": [
      "1\n"
     ]
    }
   ],
   "source": [
    "# histogram\n",
    "print(3//2)"
   ]
  },
  {
   "cell_type": "code",
   "execution_count": null,
   "metadata": {},
   "outputs": [],
   "source": [
    "def clock(n,m):\n",
    "    ra\n",
    "         "
   ]
  }
 ],
 "metadata": {
  "kernelspec": {
   "display_name": "Python 3",
   "language": "python",
   "name": "python3"
  },
  "language_info": {
   "codemirror_mode": {
    "name": "ipython",
    "version": 3
   },
   "file_extension": ".py",
   "mimetype": "text/x-python",
   "name": "python",
   "nbconvert_exporter": "python",
   "pygments_lexer": "ipython3",
   "version": "3.7.6"
  }
 },
 "nbformat": 4,
 "nbformat_minor": 4
}
