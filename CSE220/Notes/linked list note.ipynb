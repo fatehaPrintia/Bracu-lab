{
 "cells": [
  {
   "cell_type": "markdown",
   "metadata": {},
   "source": [
    "# linked list\n",
    "#in linearr arrays the first index will be 0th\n",
    "###linked list (prottekta ellement ke node bole)\n",
    "#linked list: sequences of nodes connected by lists\n",
    "#doesnot have random access\n",
    "#does not have any fixed capacity (sequential access)\n",
    "#required more memory space(one for value, another for link)\n",
    "#starting point---> head references\n",
    "##arrays memory allocation should be contiguous (mane tana thakbe vangte prbena)\n",
    "##linked list memory allocation should not be contiguous (mane tana thakbe vangte prbe)"
   ]
  },
  {
   "cell_type": "code",
   "execution_count": null,
   "metadata": {},
   "outputs": [],
   "source": [
    "#node class\n",
    "\n",
    "class Node:\n",
    "    def __init__(self,element,nxt):\n",
    "        self.element=element #element - variable used to store the value\n",
    "        self.next=nxt #next - variable used to reference to the next node\n"
   ]
  },
  {
   "cell_type": "markdown",
   "metadata": {},
   "source": [
    "# Creating linked list"
   ]
  },
  {
   "cell_type": "code",
   "execution_count": 5,
   "metadata": {},
   "outputs": [
    {
     "name": "stdout",
     "output_type": "stream",
     "text": [
      "10\n",
      "20\n",
      "30\n",
      "40\n"
     ]
    }
   ],
   "source": [
    "class Node:\n",
    "    def __init__(self,element,nxt):\n",
    "        self.element=element\n",
    "        self.next=nxt\n",
    "class linkedList:\n",
    "    def __init__(self):\n",
    "        self.headvalue=None\n",
    "    def print_list(self):\n",
    "        print_val=self.headvalue\n",
    "        while print_val!=None:\n",
    "            print(print_val.element)\n",
    "            print_val=print_val.next\n",
    "            \n",
    "list=linkedList()\n",
    "n4 = Node(\"40\",None)\n",
    "n3 = Node(\"30\",n4)\n",
    "n2 = Node(\"20\",n3)\n",
    "n1 = Node(\"10\",n2)\n",
    "list.headvalue=n1\n",
    "list.print_list()\n",
    "        "
   ]
  },
  {
   "cell_type": "code",
   "execution_count": 11,
   "metadata": {},
   "outputs": [
    {
     "name": "stdout",
     "output_type": "stream",
     "text": [
      "10\n",
      "20\n",
      "30\n",
      "40\n"
     ]
    }
   ],
   "source": [
    "class Node:\n",
    "    def __init__(self,element=None):\n",
    "        self.element=element\n",
    "        self.next=None\n",
    "class linked_list:\n",
    "    def __init__(self):\n",
    "        self.headvalue=None\n",
    "        \n",
    "    def print_list(self):\n",
    "        print_val=self.headvalue\n",
    "        \n",
    "        while print_val!=None:\n",
    "            print(print_val.element)\n",
    "            print_val=print_val.next\n",
    "list=linked_list()\n",
    "list.headvalue=Node(10)\n",
    "e2=Node(20)\n",
    "e3=Node(30)\n",
    "e4=Node(40)\n",
    "list.headvalue.next=e2\n",
    "e2.next=e3\n",
    "e3.next=e4\n",
    "list.print_list()"
   ]
  },
  {
   "cell_type": "markdown",
   "metadata": {},
   "source": [
    "# count function"
   ]
  },
  {
   "cell_type": "code",
   "execution_count": 17,
   "metadata": {},
   "outputs": [
    {
     "name": "stdout",
     "output_type": "stream",
     "text": [
      "linked list elements 10\n",
      "linked list elements 20\n",
      "linked list elements 30\n",
      "linked list elements 40\n"
     ]
    },
    {
     "data": {
      "text/plain": [
       "(4, ' is the total element')"
      ]
     },
     "execution_count": 17,
     "metadata": {},
     "output_type": "execute_result"
    }
   ],
   "source": [
    "class Node:\n",
    "    def __init__(self,element,n):\n",
    "        self.element=element\n",
    "        self.next=n\n",
    "class linked_list:\n",
    "    def __init__(self):\n",
    "        self.headvalue=None\n",
    "        \n",
    "    def count_val(self):\n",
    "        count=0\n",
    "        new_val=self.headvalue\n",
    "        while new_val!=None:\n",
    "            count+=1\n",
    "            new_val=new_val.next\n",
    "        return count, \" is the total element\"\n",
    "    \n",
    "    def print_list(self):\n",
    "        print_val=self.headvalue\n",
    "        \n",
    "        while print_val!=None:\n",
    "            print('linked list elements',print_val.element)\n",
    "            print_val=print_val.next\n",
    "            \n",
    "list=linked_list()\n",
    "list.headvalue=Node(10,e2)\n",
    "e2=Node(20,e3)\n",
    "e3=Node(30,e4)\n",
    "e4=Node(40,None)\n",
    "list.headvalue.next=e2\n",
    "e2.next=e3\n",
    "e3.next=e4\n",
    "list.print_list()\n",
    "list.count_val()"
   ]
  },
  {
   "cell_type": "markdown",
   "metadata": {},
   "source": [
    "# Get function"
   ]
  },
  {
   "cell_type": "code",
   "execution_count": 56,
   "metadata": {},
   "outputs": [
    {
     "name": "stdout",
     "output_type": "stream",
     "text": [
      "linked list elements 10\n",
      "linked list elements 20\n",
      "linked list elements 30\n",
      "linked list elements 40\n"
     ]
    },
    {
     "data": {
      "text/plain": [
       "30"
      ]
     },
     "execution_count": 56,
     "metadata": {},
     "output_type": "execute_result"
    }
   ],
   "source": [
    "class Node:\n",
    "    def __init__(self,element,n):\n",
    "        self.element=element\n",
    "        self.next=n\n",
    "class linked_list:\n",
    "    def __init__(self):\n",
    "        self.head=None\n",
    "        \n",
    "    def get_val(self,head,indx):\n",
    "        count=0\n",
    "        n=head\n",
    "        while n!=None:\n",
    "            if count==indx:\n",
    "                return n.element\n",
    "            count+=1\n",
    "            n=n.next\n",
    "\n",
    "        return -1\n",
    "    \n",
    "    def print_list(self):\n",
    "        print_val=head\n",
    "        \n",
    "        while print_val!=None:\n",
    "            print('linked list elements',print_val.element)\n",
    "            print_val=print_val.next\n",
    "            \n",
    "list=linked_list()\n",
    "head=None\n",
    "e4=Node(40,None)\n",
    "e3=Node(30,e4)\n",
    "e2=Node(20,e3)\n",
    "e1=Node(10,e2)\n",
    "\n",
    "head=e1\n",
    "list.print_list()\n",
    "list.get_val(e1,2)"
   ]
  },
  {
   "cell_type": "code",
   "execution_count": 59,
   "metadata": {},
   "outputs": [
    {
     "name": "stdout",
     "output_type": "stream",
     "text": [
      "linked list elements 10\n",
      "linked list elements 20\n",
      "linked list elements 30\n",
      "linked list elements 40\n"
     ]
    },
    {
     "data": {
      "text/plain": [
       "-1"
      ]
     },
     "execution_count": 59,
     "metadata": {},
     "output_type": "execute_result"
    }
   ],
   "source": [
    "class Node:\n",
    "    def __init__(self,element,n):\n",
    "        self.element=element\n",
    "        self.next=n\n",
    "class linked_list:\n",
    "    def __init__(self,head):\n",
    "        self.head=head\n",
    "        \n",
    "    def get_val(self,indx):\n",
    "        count=0\n",
    "        n=self.head\n",
    "        while n!=None:\n",
    "            if count==indx:\n",
    "                return n.element\n",
    "            count+=1\n",
    "            n=n.next\n",
    "\n",
    "        return -1\n",
    "    \n",
    "    def print_list(self):\n",
    "        print_val=self.head\n",
    "        \n",
    "        while print_val!=None:\n",
    "            print('linked list elements',print_val.element)\n",
    "            print_val=print_val.next\n",
    "            \n",
    "\n",
    "e4=Node(40,None)\n",
    "e3=Node(30,e4)\n",
    "e2=Node(20,e3)\n",
    "e1=Node(10,e2)\n",
    "\n",
    "list=linked_list(e1)\n",
    "list.print_list()\n",
    "list.get_val(7)"
   ]
  },
  {
   "cell_type": "markdown",
   "metadata": {},
   "source": [
    "# Node at function"
   ]
  },
  {
   "cell_type": "code",
   "execution_count": 60,
   "metadata": {},
   "outputs": [
    {
     "name": "stdout",
     "output_type": "stream",
     "text": [
      "linked list elements 10\n",
      "linked list elements 20\n",
      "linked list elements 30\n",
      "linked list elements 40\n"
     ]
    },
    {
     "data": {
      "text/plain": [
       "<__main__.Node at 0x24a89826e88>"
      ]
     },
     "execution_count": 60,
     "metadata": {},
     "output_type": "execute_result"
    }
   ],
   "source": [
    "class Node:\n",
    "    def __init__(self,element,n):\n",
    "        self.element=element\n",
    "        self.next=n\n",
    "class linked_list:\n",
    "    def __init__(self,head):\n",
    "        self.head=head\n",
    "        \n",
    "    def node_at(self,size,indx):\n",
    "        count=0\n",
    "        n=self.head\n",
    "        if indx<0 or indx>=size:\n",
    "            return None\n",
    "        for i in  range(0,indx):\n",
    "            n=n.next\n",
    "        return n\n",
    "    def print_list(self):\n",
    "        print_val=self.head\n",
    "        \n",
    "        while print_val!=None:\n",
    "            print('linked list elements',print_val.element)\n",
    "            print_val=print_val.next\n",
    "            \n",
    "\n",
    "e4=Node(40,None)\n",
    "e3=Node(30,e4)\n",
    "e2=Node(20,e3)\n",
    "e1=Node(10,e2)\n",
    "\n",
    "list=linked_list(e1)\n",
    "list.print_list()\n",
    "list.node_at(4,2)"
   ]
  },
  {
   "cell_type": "markdown",
   "metadata": {},
   "source": [
    "# set function"
   ]
  },
  {
   "cell_type": "code",
   "execution_count": 67,
   "metadata": {},
   "outputs": [
    {
     "name": "stdout",
     "output_type": "stream",
     "text": [
      "linked list elements 10\n",
      "linked list elements 20\n",
      "linked list elements 200\n",
      "linked list elements 40\n"
     ]
    }
   ],
   "source": [
    "class Node:\n",
    "    def __init__(self,element,n):\n",
    "        self.element=element\n",
    "        self.next=n\n",
    "class linked_list:\n",
    "    def __init__(self,head):\n",
    "        self.head=head\n",
    "        \n",
    "    def set_function(self,indx,new_val):\n",
    "        count=0\n",
    "        n=self.head\n",
    "        if indx<0:\n",
    "            return -1\n",
    "        while n!= None:\n",
    "            if count==indx:\n",
    "                n.element=new_val\n",
    "            count+=1\n",
    "            n=n.next\n",
    "            \n",
    "    def print_list(self):\n",
    "        print_val=self.head\n",
    "        \n",
    "        while print_val!=None:\n",
    "            print('linked list elements',print_val.element)\n",
    "            print_val=print_val.next\n",
    "            \n",
    "\n",
    "e4=Node(40,None)\n",
    "e3=Node(30,e4)\n",
    "e2=Node(20,e3)\n",
    "e1=Node(10,e2)\n",
    "\n",
    "list=linked_list(e1)\n",
    "\n",
    "list.set_function(2,200)\n",
    "list.print_list()"
   ]
  },
  {
   "cell_type": "markdown",
   "metadata": {},
   "source": [
    "# search ---index of"
   ]
  },
  {
   "cell_type": "code",
   "execution_count": 2,
   "metadata": {},
   "outputs": [
    {
     "name": "stdout",
     "output_type": "stream",
     "text": [
      "linked list elements <__main__.Node object at 0x00000206CB82DB48>\n",
      "linked list elements <__main__.Node object at 0x00000206CB82DE48>\n",
      "linked list elements <__main__.Node object at 0x00000206CB82DB88>\n",
      "linked list elements <__main__.Node object at 0x00000206CB82D588>\n"
     ]
    }
   ],
   "source": [
    "class Node:\n",
    "    def __init__(self,element,n):\n",
    "        self.element=element\n",
    "        self.next=n\n",
    "class linked_list:\n",
    "    def __init__(self,head):\n",
    "        self.head=head\n",
    "        \n",
    "    def index_of(self,new_val):\n",
    "        count=0\n",
    "        n=self.head\n",
    "        while n!= None:\n",
    "            if n.element==new_val:\n",
    "                return count\n",
    "            count+=1\n",
    "            n=n.next\n",
    "        return -1\n",
    "            \n",
    "    def print_list(self):\n",
    "        print_val=self.head\n",
    "        while print_val!=None:\n",
    "            print('linked list elements',print_val.element)\n",
    "            print_val=print_val.next\n",
    "            \n",
    "\n",
    "e4=Node(40,None)\n",
    "e3=Node(30,e4)\n",
    "e2=Node(20,e3)\n",
    "e1=Node(10,e2)\n",
    "list=linked_list(e1)\n",
    "list.index_of(40)\n",
    "# list.print_list()"
   ]
  },
  {
   "cell_type": "code",
   "execution_count": 77,
   "metadata": {},
   "outputs": [
    {
     "name": "stdout",
     "output_type": "stream",
     "text": [
      "1 - <__main__.Node object at 0x0000024A89838508>\n",
      "2 - <__main__.Node object at 0x0000024A89838948>\n",
      "3 - <__main__.Node object at 0x0000024A898388C8>\n",
      "4 - <__main__.Node object at 0x0000024A89838388>\n",
      "5 - <__main__.Node object at 0x0000024A898387C8>\n",
      "6 - None\n"
     ]
    }
   ],
   "source": [
    "class Node:\n",
    "    def __init__(self,value,next):\n",
    "        self.value=value\n",
    "        self.next=next\n",
    "        \n",
    "    def print_node(self):\n",
    "        print(self.value,'-',self.next)\n",
    "        \n",
    "class linked_list:\n",
    "    def __init__(self,a):\n",
    "        self.head=None\n",
    "        tail=None\n",
    "        for i in a:\n",
    "            n=Node(i,None)\n",
    "            if self.head==None:\n",
    "                self.head=n\n",
    "                tail=n\n",
    "            else:\n",
    "                tail.next=n\n",
    "                tail=n\n",
    "    def print_list(self):\n",
    "        n=self.head\n",
    "        while n!=None:\n",
    "            n.print_node()\n",
    "            n=n.next\n",
    "            \n",
    "lst1=[1,2,3,4,5,6]\n",
    "lst2=linked_list(lst1)\n",
    "lst2.print_list()"
   ]
  },
  {
   "cell_type": "markdown",
   "metadata": {},
   "source": [
    "# incertion at begining"
   ]
  },
  {
   "cell_type": "code",
   "execution_count": 17,
   "metadata": {},
   "outputs": [
    {
     "name": "stdout",
     "output_type": "stream",
     "text": [
      "Sun\n",
      "Mon\n",
      "Tue\n",
      "Wed\n"
     ]
    }
   ],
   "source": [
    "class Node:\n",
    "    def __init__(self,element):\n",
    "        self.element=element\n",
    "        self.next=None\n",
    "class linked_list:\n",
    "    def __init__(self):\n",
    "        self.head=None\n",
    "\n",
    "    def add_first(self,N_val):\n",
    "        val=Node(N_val)\n",
    "        val.next=self.head\n",
    "        self.head=val\n",
    "        \n",
    "    def print_list(self):\n",
    "        n=self.head\n",
    "        while n!=None:\n",
    "            print(n.element)\n",
    "            n=n.next\n",
    "\n",
    "list = linked_list()\n",
    "list.head= Node(\"Mon\")\n",
    "e2 = Node(\"Tue\")\n",
    "e3 = Node(\"Wed\")\n",
    "list.head.next = e2\n",
    "e2.next = e3\n",
    "list.add_first(\"Sun\")\n",
    "list.print_list()"
   ]
  },
  {
   "cell_type": "code",
   "execution_count": 27,
   "metadata": {},
   "outputs": [
    {
     "name": "stdout",
     "output_type": "stream",
     "text": [
      "7\n",
      "1\n",
      "2\n",
      "3\n",
      "4\n",
      "5\n",
      "6\n"
     ]
    }
   ],
   "source": [
    "class Node:\n",
    "    def __init__(self,value,next):\n",
    "        self.value=value\n",
    "        self.next=next\n",
    "        \n",
    "    def print_node(self):\n",
    "        print(self.value)\n",
    "        \n",
    "class linked_list:\n",
    "    def __init__(self,a):\n",
    "        self.head=None\n",
    "        tail=None\n",
    "        for i in a:\n",
    "            n=Node(i,None)\n",
    "            if self.head==None:\n",
    "                self.head=n\n",
    "                tail=n\n",
    "            else:\n",
    "                tail.next=n\n",
    "                tail=n\n",
    "                \n",
    "    def add_first(self,N_val):\n",
    "        val=Node(N_val,None)\n",
    "        val.next=self.head\n",
    "        self.head=val \n",
    "        \n",
    "    def print_list(self):\n",
    "        n=self.head\n",
    "        while n!=None:\n",
    "            n.print_node()\n",
    "            n=n.next\n",
    "            \n",
    "lst1=[1,2,3,4,5,6]\n",
    "lst2=linked_list(lst1)\n",
    "lst2.add_first(7)\n",
    "lst2.print_list()"
   ]
  },
  {
   "cell_type": "markdown",
   "metadata": {},
   "source": [
    "# incertion at end"
   ]
  },
  {
   "cell_type": "code",
   "execution_count": 29,
   "metadata": {},
   "outputs": [
    {
     "name": "stdout",
     "output_type": "stream",
     "text": [
      "1\n",
      "2\n",
      "3\n",
      "4\n",
      "5\n",
      "6\n",
      "7\n"
     ]
    }
   ],
   "source": [
    "class Node:\n",
    "    def __init__(self,value,next):\n",
    "        self.value=value\n",
    "        self.next=next\n",
    "        \n",
    "    def print_node(self):\n",
    "        print(self.value)\n",
    "        \n",
    "class linked_list:\n",
    "    def __init__(self,a):\n",
    "        self.head=None\n",
    "        tail=None\n",
    "        for i in a:\n",
    "            n=Node(i,None)\n",
    "            if self.head==None:\n",
    "                self.head=n\n",
    "                tail=n\n",
    "            else:\n",
    "                tail.next=n\n",
    "                tail=n\n",
    "                \n",
    "    def add_last(self,N_val):\n",
    "        val=Node(N_val,None)\n",
    "        if self.head==None:\n",
    "            self.head=val\n",
    "        else:\n",
    "            n=self.head\n",
    "            while n.next!=None:\n",
    "                n=n.next\n",
    "            n.next=val\n",
    "        \n",
    "    def print_list(self):\n",
    "        n=self.head\n",
    "        while n!=None:\n",
    "            n.print_node()\n",
    "            n=n.next\n",
    "            \n",
    "lst1=[1,2,3,4,5,6]\n",
    "lst2=linked_list(lst1)\n",
    "lst2.add_last(7)\n",
    "lst2.print_list()"
   ]
  },
  {
   "cell_type": "markdown",
   "metadata": {},
   "source": [
    "# incertion at middle"
   ]
  },
  {
   "cell_type": "code",
   "execution_count": 2,
   "metadata": {},
   "outputs": [
    {
     "name": "stdout",
     "output_type": "stream",
     "text": [
      "1\n",
      "2\n",
      "7\n",
      "3\n",
      "4\n",
      "5\n",
      "6\n"
     ]
    }
   ],
   "source": [
    "\n",
    "class Node:\n",
    "    def __init__(self,value,next):\n",
    "        self.value=value\n",
    "        self.next=next\n",
    "        \n",
    "    def print_node(self):\n",
    "        print(self.value)\n",
    "        \n",
    "class linked_list:\n",
    "    def __init__(self,a):\n",
    "        self.head=None\n",
    "        tail=None\n",
    "        for i in a:\n",
    "            n=Node(i,None)\n",
    "            if self.head==None:\n",
    "                self.head=n\n",
    "                tail=n\n",
    "            else:\n",
    "                tail.next=n\n",
    "                tail=n\n",
    "                \n",
    "    def add_middle(self,indx,N_val):\n",
    "        count=0\n",
    "        val=Node(N_val,None)\n",
    "        n=self.head\n",
    "        while n!=None:\n",
    "            count+=1      ##n er value bartese ek kore\n",
    "            if count==indx:\n",
    "                val.next=n.next\n",
    "                n.next=val\n",
    "            n=n.next\n",
    "        \n",
    "    def print_list(self):\n",
    "        n=self.head\n",
    "        while n!=None:\n",
    "            n.print_node()\n",
    "            n=n.next\n",
    "            \n",
    "lst1=[1,2,3,4,5,6]\n",
    "lst2=linked_list(lst1)\n",
    "lst2.add_middle(2,7)\n",
    "lst2.print_list()"
   ]
  },
  {
   "cell_type": "markdown",
   "metadata": {},
   "source": [
    "# remove first element "
   ]
  },
  {
   "cell_type": "code",
   "execution_count": 2,
   "metadata": {},
   "outputs": [
    {
     "name": "stdout",
     "output_type": "stream",
     "text": [
      "2\n",
      "3\n",
      "4\n",
      "5\n",
      "6\n"
     ]
    }
   ],
   "source": [
    "class Node:\n",
    "    def __init__(self,value,next):\n",
    "        self.value=value\n",
    "        self.next=next\n",
    "        \n",
    "    def print_node(self):\n",
    "        print(self.value)\n",
    "        \n",
    "class linked_list:\n",
    "    def __init__(self,a):\n",
    "        self.head=None\n",
    "        tail=None\n",
    "        for i in a:\n",
    "            n=Node(i,None)\n",
    "            if self.head==None:\n",
    "                self.head=n\n",
    "                tail=n\n",
    "            else:\n",
    "                tail.next=n\n",
    "                tail=n\n",
    "                \n",
    "    def remove_first(self):\n",
    "        if self.head==None:\n",
    "            return None\n",
    "        else:\n",
    "            self.head=self.head.next\n",
    "            \n",
    "\n",
    "    def print_list(self):\n",
    "        n=self.head\n",
    "        while n!=None:\n",
    "            n.print_node()\n",
    "            n=n.next\n",
    "            \n",
    "lst1=[1,2,3,4,5,6]\n",
    "lst2=linked_list(lst1)\n",
    "lst2.remove_first()\n",
    "lst2.print_list()"
   ]
  },
  {
   "cell_type": "markdown",
   "metadata": {},
   "source": [
    "# remove last element "
   ]
  },
  {
   "cell_type": "code",
   "execution_count": 1,
   "metadata": {},
   "outputs": [
    {
     "name": "stdout",
     "output_type": "stream",
     "text": [
      "1\n",
      "2\n",
      "3\n",
      "4\n",
      "5\n"
     ]
    }
   ],
   "source": [
    "class Node:\n",
    "    def __init__(self,value,next):\n",
    "        self.value=value\n",
    "        self.next=next\n",
    "        \n",
    "    def print_node(self):\n",
    "        print(self.value)\n",
    "        \n",
    "class linked_list:\n",
    "    def __init__(self,a):\n",
    "        self.head=None\n",
    "        tail=None\n",
    "        for i in a:\n",
    "            n=Node(i,None)\n",
    "            if self.head==None:\n",
    "                self.head=n\n",
    "                tail=n\n",
    "            else:\n",
    "                tail.next=n\n",
    "                tail=n\n",
    "                \n",
    "    def remove_last_Node(self):\n",
    "        if self.head==None:\n",
    "            print('no data availavail')\n",
    "            \n",
    "        elif self.head.next==None:\n",
    "            self.head=None\n",
    "            \n",
    "        else:\n",
    "            n=self.head\n",
    "            while n.next.next!=None:\n",
    "                n=n.next\n",
    "            n.next=None\n",
    "            \n",
    "\n",
    "    def print_list(self):\n",
    "        n=self.head\n",
    "        while n!=None:\n",
    "            n.print_node()\n",
    "            n=n.next\n",
    "            \n",
    "lst1=[1,2,3,4,5,6]\n",
    "lst2=linked_list(lst1)\n",
    "lst2.remove_last_Node()\n",
    "lst2.print_list()"
   ]
  },
  {
   "cell_type": "markdown",
   "metadata": {},
   "source": [
    "# remove middle element "
   ]
  },
  {
   "cell_type": "code",
   "execution_count": 7,
   "metadata": {},
   "outputs": [
    {
     "name": "stdout",
     "output_type": "stream",
     "text": [
      "1\n",
      "2\n",
      "4\n",
      "5\n",
      "6\n"
     ]
    }
   ],
   "source": [
    "class Node:\n",
    "    def __init__(self,value,next):\n",
    "        self.value=value\n",
    "        self.next=next\n",
    "        \n",
    "    def print_node(self):\n",
    "        print(self.value)\n",
    "        \n",
    "class linked_list:\n",
    "    def __init__(self,a):\n",
    "        self.head=None\n",
    "        tail=None\n",
    "        for i in a:\n",
    "            n=Node(i,None)\n",
    "            if self.head==None:\n",
    "                self.head=n\n",
    "                tail=n\n",
    "            else:\n",
    "                tail.next=n\n",
    "                tail=n\n",
    "                \n",
    "    def remove_by_value(self,x):\n",
    "        if self.head==None:\n",
    "            print('no data availavail')\n",
    "            \n",
    "        if x==self.head.value:\n",
    "            head=self.head.next\n",
    "            return\n",
    "      \n",
    "        n=self.head\n",
    "        while n.next!=None:\n",
    "            if x==n.next.value:\n",
    "                break\n",
    "            n=n.next\n",
    "        if n.next ==None:\n",
    "            print('Node is not present')\n",
    "        else:\n",
    "            n.next=n.next.next\n",
    "\n",
    "        \n",
    "\n",
    "    def print_list(self):\n",
    "        n=self.head\n",
    "        while n!=None:\n",
    "            n.print_node()\n",
    "            n=n.next\n",
    "            \n",
    "lst1=[1,2,3,4,5,6]\n",
    "lst2=linked_list(lst1)\n",
    "lst2.remove_by_value(3)\n",
    "lst2.print_list()"
   ]
  },
  {
   "cell_type": "markdown",
   "metadata": {},
   "source": [
    "# Copying list from another list"
   ]
  },
  {
   "cell_type": "code",
   "execution_count": null,
   "metadata": {},
   "outputs": [],
   "source": [
    "class Node:\n",
    "    def __init__(self,value,next):\n",
    "        self.value=value\n",
    "        self.next=next\n",
    "        \n",
    "    def print_node(self):\n",
    "        print(self.value)\n",
    "        \n",
    "class linked_list:\n",
    "    def __init__(self,a):\n",
    "        self.head=None\n",
    "        tail=None\n",
    "        for i in a:\n",
    "            n=Node(i,None)\n",
    "            if self.head==None:\n",
    "                self.head=n\n",
    "                tail=n\n",
    "            else:\n",
    "                tail.next=n\n",
    "                tail=n\n",
    "                \n",
    "    def remove_by_value(self,x):\n",
    "        if self.head==None:\n",
    "            print('no data availavail')\n",
    "            \n",
    "        if x==self.head.value:\n",
    "            head=self.head.next\n",
    "            return\n",
    "      \n",
    "        n=self.head\n",
    "        while n.next!=None:\n",
    "            if x==n.next.value:\n",
    "                break\n",
    "            n=n.next\n",
    "        if n.next ==None:\n",
    "            print('Node is not present')\n",
    "        else:\n",
    "            n.next=n.next.next\n",
    "\n",
    "        \n",
    "\n",
    "    def print_list(self):\n",
    "        n=self.head\n",
    "        while n!=None:\n",
    "            n.print_node()\n",
    "            n=n.next\n",
    "            \n",
    "lst1=[1,2,3,4,5,6]\n",
    "lst2=linked_list(lst1)\n",
    "lst2.remove_by_value(3)\n",
    "lst2.print_list()"
   ]
  },
  {
   "cell_type": "markdown",
   "metadata": {},
   "source": [
    "# copying list from array"
   ]
  },
  {
   "cell_type": "code",
   "execution_count": 13,
   "metadata": {},
   "outputs": [
    {
     "name": "stdout",
     "output_type": "stream",
     "text": [
      "1\n",
      "2\n",
      "3\n",
      "4\n",
      "5\n",
      "6\n"
     ]
    }
   ],
   "source": [
    "class Node:\n",
    "    def __init__(self,value,next):\n",
    "        self.value=value\n",
    "        self.next=next\n",
    "        \n",
    "    def print_node(self):\n",
    "        print(self.value)\n",
    "        \n",
    "class linked_list:\n",
    "    def __init__(self,a):\n",
    "        self.head=None\n",
    "        tail=None\n",
    "        for i in a:\n",
    "            n=Node(i,None)\n",
    "            if self.head==None:\n",
    "                self.head=n\n",
    "                tail=n\n",
    "            else:\n",
    "                tail.next=n\n",
    "                tail=n\n",
    "                \n",
    "    def copy_list(self):\n",
    "        copyHead=None\n",
    "        copyTail=None\n",
    "        n=self.head\n",
    "        while n!=None:\n",
    "            newnode=Node(n.value,None)\n",
    "            if copyHead==None:\n",
    "                copyHead=newnode\n",
    "                copyTail=newnode\n",
    "            else:\n",
    "                copyTail.next=newnode\n",
    "                newnoode=copyTail\n",
    "            n=n.next\n",
    "        return copyHead\n",
    "        \n",
    "\n",
    "    def print_list(self):\n",
    "        n=self.head\n",
    "        while n!=None:\n",
    "            n.print_node()\n",
    "            n=n.next\n",
    "            \n",
    "lst1=[1,2,3,4,5,6]\n",
    "lst2=linked_list(lst1)\n",
    "lst2.copy_list()\n",
    "lst2.print_list()"
   ]
  },
  {
   "cell_type": "markdown",
   "metadata": {},
   "source": [
    "# Reversing a list (out-place)"
   ]
  },
  {
   "cell_type": "code",
   "execution_count": 14,
   "metadata": {},
   "outputs": [
    {
     "name": "stdout",
     "output_type": "stream",
     "text": [
      "6\n",
      "5\n",
      "4\n",
      "3\n",
      "2\n",
      "1\n"
     ]
    }
   ],
   "source": [
    "class Node:\n",
    "    def __init__(self,value,next):\n",
    "        self.value=value\n",
    "        self.next=next\n",
    "        \n",
    "    def print_node(self):\n",
    "        print(self.value)\n",
    "        \n",
    "class linked_list:\n",
    "    def __init__(self,a):\n",
    "        self.head=None\n",
    "        tail=None\n",
    "        for i in a:\n",
    "            n=Node(i,None)\n",
    "            if self.head==None:\n",
    "                self.head=n\n",
    "                tail=n\n",
    "            else:\n",
    "                tail.next=n\n",
    "                tail=n\n",
    "                        \n",
    "    def reverse_outplace(self):\n",
    "        n=self.head\n",
    "        copyhead=None\n",
    "        while n!=None:\n",
    "            newnode=Node(n.value,None)\n",
    "            if copyhead==None:\n",
    "                copyhead=newnode\n",
    "            else:\n",
    "                newnode.next=copyhead\n",
    "                copyhead=newnode\n",
    "            n=n.next\n",
    "            \n",
    "        n=copyhead\n",
    "        while n is not None:\n",
    "            print(n.value) \n",
    "            n=n.next\n",
    "\n",
    "                \n",
    "    def print_list(self):\n",
    "        n=self.head\n",
    "        while n!=None:\n",
    "            n.print_node()\n",
    "            n=n.next\n",
    "                \n",
    "lst1=[1,2,3,4,5,6]\n",
    "lst2=linked_list(lst1)\n",
    "lst2.reverse_outplace()\n",
    "# lst2.print_list()"
   ]
  },
  {
   "cell_type": "code",
   "execution_count": 2,
   "metadata": {},
   "outputs": [
    {
     "name": "stdout",
     "output_type": "stream",
     "text": [
      "2\n",
      "3\n",
      "4\n",
      "5\n",
      "6\n",
      "1\n"
     ]
    }
   ],
   "source": [
    "class Node:\n",
    "    def __init__(self,value,next):\n",
    "        self.value=value\n",
    "        self.next=next\n",
    "        \n",
    "    def print_node(self):\n",
    "        print(self.value)\n",
    "        \n",
    "class linked_list:\n",
    "    def __init__(self,a):\n",
    "        self.head=None\n",
    "        tail=None\n",
    "        for i in a:\n",
    "            n=Node(i,None)\n",
    "            if self.head==None:\n",
    "                self.head=n\n",
    "                tail=n\n",
    "            else:\n",
    "                tail.next=n\n",
    "                tail=n\n",
    "                \n",
    "    def print_list(self):\n",
    "            n=self.head\n",
    "            while n!=None:\n",
    "                n.print_node()\n",
    "                n=n.next\n",
    "                \n",
    "                \n",
    "    def rotate_left(self):\n",
    "        oldhead=self.head\n",
    "        n=self.head.next\n",
    "        tail=self.head\n",
    "        while tail.next!=None:\n",
    "            tail=tail.next\n",
    "        tail.next=oldhead\n",
    "        oldhead.next=None\n",
    "        p=n\n",
    "        while p!=None:\n",
    "            print(p.value)\n",
    "            p=p.next\n",
    "        \n",
    "                \n",
    "lst1=[1,2,3,4,5,6]\n",
    "lst2=linked_list(lst1)\n",
    "lst2.rotate_left()class Node:\n",
    "    def __init__(self,value,next):\n",
    "        self.value=value\n",
    "        self.next=next\n",
    "        \n",
    "    def print_node(self):\n",
    "        print(self.value)\n",
    "        \n",
    "class linked_list:\n",
    "    def __init__(self,a):\n",
    "        self.head=None\n",
    "        tail=None\n",
    "        for i in a:\n",
    "            n=Node(i,None)\n",
    "            if self.head==None:\n",
    "                self.head=n\n",
    "                tail=n\n",
    "            else:\n",
    "                tail.next=n\n",
    "                tail=n\n",
    "                \n",
    "    def print_list(self):\n",
    "            n=self.head\n",
    "            while n!=None:\n",
    "                n.print_node()\n",
    "                n=n.next\n",
    "                \n",
    "                \n",
    "    def rotate_left(self):\n",
    "        oldhead=self.head\n",
    "        n=self.head.next\n",
    "        tail=self.head\n",
    "        while tail.next!=None:\n",
    "            tail=tail.next\n",
    "        tail.next=oldhead\n",
    "        oldhead.next=None\n",
    "        p=n\n",
    "        while p!=None:\n",
    "            print(p.value)\n",
    "            p=p.next\n",
    "        \n",
    "                \n",
    "lst1=[1,2,3,4,5,6]\n",
    "lst2=linked_list(lst1)\n",
    "lst2.rotate_left()\n",
    "# lst2.print_list()"
   ]
  },
  {
   "cell_type": "markdown",
   "metadata": {},
   "source": [
    "# Reversing a list(in-place)"
   ]
  },
  {
   "cell_type": "code",
   "execution_count": 17,
   "metadata": {},
   "outputs": [
    {
     "name": "stdout",
     "output_type": "stream",
     "text": [
      "6\n",
      "5\n",
      "4\n",
      "3\n",
      "2\n",
      "1\n"
     ]
    }
   ],
   "source": [
    "class Node:\n",
    "    def __init__(self,value,next):\n",
    "        self.value=value\n",
    "        self.next=next\n",
    "        \n",
    "    def print_node(self):\n",
    "        print(self.value)\n",
    "        \n",
    "class linked_list:\n",
    "    def __init__(self,a):\n",
    "        self.head=None\n",
    "        tail=None\n",
    "        for i in a:\n",
    "            n=Node(i,None)\n",
    "            if self.head==None:\n",
    "                self.head=n\n",
    "                tail=n\n",
    "            else:\n",
    "                tail.next=n\n",
    "                tail=n\n",
    "                \n",
    "    def reverse_inplace(self):\n",
    "        n=self.head\n",
    "        newhead=None\n",
    "        while n!=None:\n",
    "            nextNode=n.next\n",
    "            n.next=newhead\n",
    "            newhead=n\n",
    "            n=nextNode\n",
    "        self.head=newhead\n",
    "            \n",
    "                \n",
    "    def print_list(self):\n",
    "            n=self.head\n",
    "            while n!=None:\n",
    "                n.print_node()\n",
    "                n=n.next\n",
    "                \n",
    "lst1=[1,2,3,4,5,6]\n",
    "lst2=linked_list(lst1)\n",
    "lst2.reverse_inplace()\n",
    "lst2.print_list()"
   ]
  },
  {
   "cell_type": "markdown",
   "metadata": {},
   "source": [
    "# Rotating a list left"
   ]
  },
  {
   "cell_type": "code",
   "execution_count": 3,
   "metadata": {},
   "outputs": [
    {
     "name": "stdout",
     "output_type": "stream",
     "text": [
      "2\n",
      "3\n",
      "4\n",
      "5\n",
      "6\n",
      "1\n"
     ]
    }
   ],
   "source": [
    "class Node:\n",
    "    def __init__(self,value,next):\n",
    "        self.value=value\n",
    "        self.next=next\n",
    "        \n",
    "    def print_node(self):\n",
    "        print(self.value)\n",
    "        \n",
    "class linked_list:\n",
    "    def __init__(self,a):\n",
    "        self.head=None\n",
    "        tail=None\n",
    "        for i in a:\n",
    "            n=Node(i,None)\n",
    "            if self.head==None:\n",
    "                self.head=n\n",
    "                tail=n\n",
    "            else:\n",
    "                tail.next=n\n",
    "                tail=n\n",
    "                \n",
    "    def print_list(self):\n",
    "            n=self.head\n",
    "            while n!=None:\n",
    "                n.print_node()\n",
    "                n=n.next\n",
    "                \n",
    "                \n",
    "    def rotate_left(self):\n",
    "        oldhead=self.head\n",
    "        n=self.head.next\n",
    "        tail=self.head\n",
    "        while tail.next!=None:\n",
    "            tail=tail.next\n",
    "        tail.next=oldhead\n",
    "        oldhead.next=None\n",
    "        p=n\n",
    "        while p!=None:\n",
    "            print(p.value)\n",
    "            p=p.next\n",
    "        \n",
    "                \n",
    "lst1=[1,2,3,4,5,6]\n",
    "lst2=linked_list(lst1)\n",
    "lst2.rotate_left()\n",
    "# lst2.print_list()\n",
    "                "
   ]
  },
  {
   "cell_type": "code",
   "execution_count": null,
   "metadata": {},
   "outputs": [],
   "source": [
    "# Rotating a list right"
   ]
  },
  {
   "cell_type": "code",
   "execution_count": 5,
   "metadata": {
    "scrolled": true
   },
   "outputs": [
    {
     "name": "stdout",
     "output_type": "stream",
     "text": [
      "4\n",
      "1\n",
      "5\n",
      "3\n",
      "6\n",
      "2\n"
     ]
    }
   ],
   "source": [
    "class Node:\n",
    "    def __init__(self,value,next):\n",
    "        self.value=value\n",
    "        self.next=next\n",
    "        \n",
    "    def print_node(self):\n",
    "        print(self.value)\n",
    "        \n",
    "class linked_list:\n",
    "    def __init__(self,a):\n",
    "        self.head=None\n",
    "        tail=None\n",
    "        for i in a:\n",
    "            n=Node(i,None)\n",
    "            if self.head==None:\n",
    "                self.head=n\n",
    "                tail=n\n",
    "            else:\n",
    "                tail.next=n\n",
    "                tail=n\n",
    "                \n",
    "    def print_list(self):\n",
    "            n=self.head\n",
    "            while n!=None:\n",
    "                n.print_node()\n",
    "                n=n.next\n",
    "    def rotate_right(self):\n",
    "        n=self.head\n",
    "        oldhead=self.head\n",
    "        while n!=None:\n",
    "            newhead=n.next\n",
    "            n.next=oldhead\n",
    "            oldhead=newhead\n",
    "            n=n.next\n",
    "            self.head=oldhead\n",
    "        p=self.head\n",
    "            \n",
    "        \n",
    "#         p=n\n",
    "        while p!=None:\n",
    "            print(p.value)\n",
    "            p=p.next\n",
    "                \n",
    "        \n",
    "#         return newhead\n",
    "#      def rotate_left(self):\n",
    "#         oldhead=self.head\n",
    "#         n=self.head.next\n",
    "#         tail=self.head\n",
    "#         while tail.next!=None:\n",
    "#             tail=tail.next\n",
    "#         tail.next=oldhead\n",
    "#         oldhead.next=None\n",
    "#         p=n\n",
    "#         while p!=None:\n",
    "#             print(p.value)\n",
    "#             p=p.next\n",
    "                \n",
    "lst1=[1,2,3,4,5,6]\n",
    "lst2=linked_list(lst1)\n",
    "lst2.rotate_right()\n",
    "# lst2.print_list()"
   ]
  },
  {
   "cell_type": "code",
   "execution_count": null,
   "metadata": {},
   "outputs": [],
   "source": [
    "   def rotate_right(self,k):\n",
    "        for i in range(k):\n",
    "            temp=self.head\n",
    "            while temp.next.next!=None:\n",
    "                temp=temp.next\n",
    "            lastelement=temp.next\n",
    "            secondlast=temp\n",
    "            secondlast.next=None\n",
    "            lastelement.next=self.head\n",
    "            self.head=lastelement"
   ]
  },
  {
   "cell_type": "code",
   "execution_count": null,
   "metadata": {},
   "outputs": [],
   "source": [
    "##hacker rank\n",
    "\n",
    "class Node:\n",
    "    def __init__(self,val,next):\n",
    "        self.val=val\n",
    "        self.next=None\n",
    "        \n",
    "class mylist:\n",
    "    def __init__(self,a):\n",
    "        self.head=None\n",
    "        tail=None\n",
    "        \n",
    "        for i in a:\n",
    "            n=Node(i,None)\n",
    "            \n",
    "            if self.head==None:\n",
    "                self.head=n\n",
    "                tail=n\n",
    "            else:\n",
    "                tail.next=n\n",
    "                tail=n\n",
    "                \n",
    "                \n",
    "    def printlst(self):\n",
    "        n=self.head\n",
    "        while n!=None:\n",
    "            print(n.val)\n",
    "            n=n.next\n",
    "            \n",
    "            \n",
    "n=int(input())\n",
    "l=[]\n",
    "for i in range(n):\n",
    "    y=int(input())\n",
    "    l=l+[y]\n",
    "lst1=mylist(l)\n",
    "lst1.printlst()"
   ]
  },
  {
   "cell_type": "markdown",
   "metadata": {},
   "source": [
    "# largest val"
   ]
  },
  {
   "cell_type": "code",
   "execution_count": 10,
   "metadata": {},
   "outputs": [
    {
     "name": "stdout",
     "output_type": "stream",
     "text": [
      "The largest number is: 7\n",
      "7\n",
      "5\n",
      "3\n",
      "3\n",
      "2\n",
      "1\n",
      "0\n",
      "0\n"
     ]
    }
   ],
   "source": [
    "class Node:\n",
    "    def __init__(self,value,next):\n",
    "        self.value=value\n",
    "        self.next=next\n",
    "        \n",
    "    def print_node(self):\n",
    "        print(self.value)\n",
    "        \n",
    "class linked_list:\n",
    "    def __init__(self,a):\n",
    "        self.head=None\n",
    "        tail=None\n",
    "        for i in a:\n",
    "            n=Node(i,None)\n",
    "            if self.head==None:\n",
    "                self.head=n\n",
    "                tail=n\n",
    "            else:\n",
    "                tail.next=n\n",
    "                tail=n\n",
    "                \n",
    "    def print_list(self):\n",
    "        n=self.head\n",
    "        while n!=None:\n",
    "            n.print_node()\n",
    "            n=n.next\n",
    "            \n",
    "            \n",
    "    def largest(self):\n",
    "        n=self.head\n",
    "        while n.next!=None:\n",
    "            min_val=n\n",
    "            count=n.next\n",
    "            while count!=None:\n",
    "                if min_val.value<count.value:\n",
    "                    min_val=count\n",
    "                count=count.next\n",
    "            min_val.value,n.value=n.value,min_val.value\n",
    "            n=n.next\n",
    "        print('The largest number is:',self.head.value)\n",
    "\n",
    "#         x=n\n",
    "#         while self.head.next!=None:\n",
    "#             return self.head\n",
    "            \n",
    "            \n",
    "            \n",
    "            \n",
    "lst1=[2,0,3,0,1,3,5,7]\n",
    "lst2=linked_list(lst1)\n",
    "lst2.largest()\n",
    "lst2.print_list()"
   ]
  },
  {
   "cell_type": "code",
   "execution_count": null,
   "metadata": {},
   "outputs": [],
   "source": []
  }
 ],
 "metadata": {
  "kernelspec": {
   "display_name": "Python 3",
   "language": "python",
   "name": "python3"
  },
  "language_info": {
   "codemirror_mode": {
    "name": "ipython",
    "version": 3
   },
   "file_extension": ".py",
   "mimetype": "text/x-python",
   "name": "python",
   "nbconvert_exporter": "python",
   "pygments_lexer": "ipython3",
   "version": "3.7.6"
  }
 },
 "nbformat": 4,
 "nbformat_minor": 4
}
