{
 "cells": [
  {
   "cell_type": "markdown",
   "metadata": {},
   "source": [
    "## CSE110 LAB02 Practice Problems (No deadline, no submissions)\n",
    "\n",
    "## Strings and Lists"
   ]
  },
  {
   "cell_type": "markdown",
   "metadata": {},
   "source": [
    "#### QUESTION 01\n",
    "\n",
    "Take an input from the user and tell the user if the input is a palindrome or Not.\n",
    "\n",
    "**Sample Input**<br/>\n",
    "1235321<br/>\n",
    "1233521<br/>\n",
    "abcba<br/>\n",
    "\n",
    "**Sample Output**<br/>\n",
    "Palindrome<br/>\n",
    "Not a Palindrome<br/>\n",
    "Palindrome<br/>\n"
   ]
  },
  {
   "cell_type": "code",
   "execution_count": 1,
   "metadata": {},
   "outputs": [
    {
     "name": "stdout",
     "output_type": "stream",
     "text": [
      "Enter string for palindrome: 1235321\n",
      "Palindrome\n"
     ]
    }
   ],
   "source": [
    "Enter= input(\"Enter string for palindrome: \")\n",
    "\n",
    "list1=[]\n",
    "\n",
    "for i in Enter:\n",
    "    list1.append(i)\n",
    "    \n",
    "list2=list1[::-1]\n",
    "\n",
    "if list2==list1:\n",
    "    print(\"Palindrome\")\n",
    "else:\n",
    "    print(\"Not palindorme\")"
   ]
  },
  {
   "cell_type": "markdown",
   "metadata": {},
   "source": [
    "#### QUESTION 02\n",
    "\n",
    "Given a string, print whether it is a number, word or mixed with digit and letters.\n",
    "If all the characters are numeric values, print NUMBER. If they are all letters, print\n",
    "WORD. If it is mixed, print MIXED.\n",
    "\n",
    "**Sample Input**<br/>\n",
    "213213<br/>\n",
    "jhg231j213<br/>\n",
    "Hello<br/>\n",
    "\n",
    "**Sample Output**<br/>\n",
    "NUMBER<br/>\n",
    "MIXED<br/>\n",
    "WORD<br/>\n",
    "\n"
   ]
  },
  {
   "cell_type": "code",
   "execution_count": 2,
   "metadata": {},
   "outputs": [
    {
     "name": "stdout",
     "output_type": "stream",
     "text": [
      "Input a string: hello\n",
      "word\n"
     ]
    }
   ],
   "source": [
    "string_11 = input(\"Input a string: \")\n",
    "d=0\n",
    "l=0\n",
    "for c in string_11:\n",
    "    if ord(c)>=48 and ord(c)<=59:\n",
    "        d=d+1\n",
    "    elif ord(c)>=65 and ord(c)<=90 or ord(c)>=97 and ord(c)<=122:\n",
    "        l=l+1\n",
    "        \n",
    "if l==0 and d!=0:\n",
    "    print(\"Num\")\n",
    "elif l!=0 and d!=0:\n",
    "    print(\"mixed\")\n",
    "elif l!=0 and d==0:\n",
    "    print(\"word\")"
   ]
  },
  {
   "cell_type": "markdown",
   "metadata": {},
   "source": [
    "#### QUESTION 03\n",
    "\n",
    "Take a string from the user. And return it back to the user as a Dancing sentence.\n",
    "\n",
    "A sentence is called dancing if its first letter is uppercase and the case of each subsequent letter is the opposite of the previous letter. Spaces should be ignored when determining the case of a letter. For example, \"A b Cd\" is a dancing sentence because the first letter ('A') is uppercase, the next letter ('b') is lowercase, the next letter ('C') is uppercase, and the next letter ('d') is lowercase\n",
    "\n",
    "Sample Input<br/>\n",
    "`This is a dancing sentence`<br/>\n",
    "`This   is         a  dancing   sentence`<br/>\n",
    "`aaaaaaaaaaa`<br/>\n",
    "`z`<br/>\n",
    "\n",
    "Sample Output<br/>\n",
    "`ThIs Is A dAnCiNg SeNtEnCe`<br/>\n",
    "`ThIs   Is         A  dAnCiNg   SeNtEnCe`<br/>\n",
    "`AaAaAaAaAaA`<br/>\n",
    "`Z`<br/>\n"
   ]
  },
  {
   "cell_type": "code",
   "execution_count": 4,
   "metadata": {},
   "outputs": [
    {
     "name": "stdout",
     "output_type": "stream",
     "text": [
      "Enter a string: This  is  a dancing sentence\n",
      "ThIs  Is  A DaNcInG SeNtEnCe\n"
     ]
    }
   ],
   "source": [
    "string = input('Enter a string: ')\n",
    "length = len(string)\n",
    "new_string = ''\n",
    "for x in range (length):\n",
    "    if x%2==0:\n",
    "        new_string+= string[x].upper()\n",
    "    else:\n",
    "        new_string+= string[x]\n",
    "print(new_string)"
   ]
  },
  {
   "cell_type": "markdown",
   "metadata": {},
   "source": [
    "#### QUESTION 04\n",
    "\n",
    "Ceaser Cipher: Each letter of a given text is replaced by a letter some fixed number of positions down the alphabet. For example, with a shift of 1, A would be replaced by B, B would become C, and so on.\n",
    "\n",
    "Given an encoded text and a number of shifted letters, decode it. Each given character is an uppercase letter.\n",
    "\n",
    "**Sample Input**<br/>\n",
    "VQREQFGT, 2<br/>\n",
    "ABCDEFGHIJKLMNOPQRSTUVWXYZ, 10<br/>\n",
    "TOPCODER, 0<br/>\n",
    "\n",
    "**Sample Output**<br/>\n",
    "TOPCODER<br/>\n",
    "QRSTUVWXYZABCDEFGHIJKLMNOP<br/>\n",
    "TOPCODER<br/>"
   ]
  },
  {
   "cell_type": "code",
   "execution_count": 1,
   "metadata": {},
   "outputs": [
    {
     "name": "stdout",
     "output_type": "stream",
     "text": [
      "String VQREQFGT\n",
      "step 2\n",
      "TOPCODER\n"
     ]
    }
   ],
   "source": [
    "enter=input(\"String \")\n",
    "step= int(input(\"step \"))\n",
    "new_str=''\n",
    "for i in enter:\n",
    "    if ord(i)>=65 and ord(i)<=90:\n",
    "       new_word=(ord(i) -step-65) % 26 + 65\n",
    "       new_str += chr(new_word)\n",
    "print(new_str)"
   ]
  },
  {
   "cell_type": "markdown",
   "metadata": {},
   "source": [
    "#### QUESTION 05\n",
    "\n",
    "Write a python program that reads 10 numbers from the user, and then prints them in the reverse order.\n"
   ]
  },
  {
   "cell_type": "code",
   "execution_count": 2,
   "metadata": {},
   "outputs": [
    {
     "name": "stdout",
     "output_type": "stream",
     "text": [
      "Enter number: 1\n",
      "Enter number: 2\n",
      "Enter number: 5\n",
      "Enter number: 6\n",
      "Enter number: 8\n",
      "Enter number: 9\n",
      "Enter number: 10\n",
      "Enter number: 11\n",
      "Enter number: 12\n",
      "Enter number: 13\n",
      "[13, 12, 11, 10, 9, 8, 6, 5, 2, 1]\n"
     ]
    }
   ],
   "source": [
    "list1=[]\n",
    "\n",
    "for i in range(10):\n",
    "    a=int(input(\"Enter number: \"))\n",
    "    list1.append(a)\n",
    "    \n",
    "list2=list1[::-1]\n",
    "print(list2)"
   ]
  },
  {
   "cell_type": "markdown",
   "metadata": {},
   "source": [
    "#### QUESTION 06\n",
    "\n",
    "Write a python program that reads 2 numbers from the user where the first input is a sequence of more than 1 character and the second number is the index of the number in the list from where you have to reverse the numbers. Then print the string back to the user.\n",
    "\n",
    "**Sample Input**<br/>\n",
    "12345, 4<br/>\n",
    "12345, 2<br/>\n",
    "Vsvfb5265b, 5<br/>\n",
    "\n",
    "**Sample Output**<br/>\n",
    "54321<br/>\n",
    "32145<br/>\n",
    "5bfvsV265b<br/>"
   ]
  },
  {
   "cell_type": "code",
   "execution_count": null,
   "metadata": {},
   "outputs": [],
   "source": [
    "\n",
    "a=input(\"Enter number: \")\n",
    "b=int(input(\"index: \"))\n",
    "list1=[]\n",
    "length=len(a)\n",
    "for i in range(length):\n",
    "    list1.append(a[i])\n",
    "    \n",
    "list2=list1[b::-1]+list1[b+1:]   \n",
    "\n",
    "new_str=''\n",
    "for j in list2:\n",
    "    new_str+=j\n",
    "\n",
    "print(new_str)"
   ]
  },
  {
   "cell_type": "markdown",
   "metadata": {},
   "source": [
    "#### QUESTION 07\n",
    "\n",
    "Write a Python program that takes two inputs as lists and makes a new list with the similar elements in both the given lists. Then, print the new list.\n",
    "\n",
    "**Sample Input**<br/>\n",
    "red, orange, green, blue, white<br/>\n",
    "black, yellow, green, blue<br/>\n",
    "\n",
    "\n",
    "**Sample Output**<br/>\n",
    "['green', 'blue']"
   ]
  },
  {
   "cell_type": "code",
   "execution_count": 2,
   "metadata": {},
   "outputs": [
    {
     "name": "stdout",
     "output_type": "stream",
     "text": [
      "['green', 'blue']\n"
     ]
    }
   ],
   "source": [
    "list1=[\"red\",\"orange\",\"green\",\"blue\"]\n",
    "list2=[\"black\", \"yellow\", \"green\", \"blue\"]\n",
    "list3=[]\n",
    "\n",
    "for a in list1:\n",
    "    for b in list2:\n",
    "        if a==b and b not in list3:\n",
    "            list3.append(b)\n",
    "            \n",
    "print(list3)"
   ]
  },
  {
   "cell_type": "markdown",
   "metadata": {},
   "source": [
    "#### QUESTION 08\n",
    "\n",
    "Write a Python program to print the elements in a given list with out the duplicates.\n",
    "\n",
    "**Sample Input**<br/>\n",
    "0, 0, 1, 2, 3, 4, 4, 5, 6, 6, 6, 7, 8, 9, 4, 4<br/>\n",
    "\n",
    "\n",
    "**Sample Output**<br/>\n",
    "['0', '1', '2', '3', '4', '5', '6', '7', '8', '9']<br/>"
   ]
  },
  {
   "cell_type": "code",
   "execution_count": 5,
   "metadata": {},
   "outputs": [
    {
     "name": "stdout",
     "output_type": "stream",
     "text": [
      "['0', '1', '2', '3', '4', '5', '6', '7', '8', '9']\n"
     ]
    }
   ],
   "source": [
    "list1=[0, 0, 1, 2, 3, 4, 4, 5, 6, 6, 6, 7, 8, 9, 4, 4]\n",
    "list2=[]\n",
    "\n",
    "for i in list1:\n",
    "    if str(i) not in list2 :\n",
    "        list2.append(str(i))\n",
    "print(list2)"
   ]
  },
  {
   "cell_type": "markdown",
   "metadata": {},
   "source": [
    "#### QUESTION 09\n",
    "\n",
    "You are given a string that contains alphanumeric characters only. Your task is to\n",
    "sort the string in the following manner:\n",
    "\n",
    "a. All sorted lowercase letters are ahead of uppercase letters.\n",
    "b. All sorted uppercase letters are ahead of digits.\n",
    "c. All sorted odd digits are ahead of sorted even digits.\n",
    "\n",
    "**Sample Input**<br/>\n",
    "Bracu1234<br/>\n",
    "\n",
    "\n",
    "**Sample Output**<br/>\n",
    "acruB1324<br/>"
   ]
  },
  {
   "cell_type": "code",
   "execution_count": 1,
   "metadata": {},
   "outputs": [
    {
     "name": "stdout",
     "output_type": "stream",
     "text": [
      "enter text:Bracu1234\n",
      "acruB1324\n"
     ]
    }
   ],
   "source": [
    "text=input('enter text:')\n",
    "small=[]\n",
    "big=[]\n",
    "odd=[]\n",
    "even=[]\n",
    "for x in text:\n",
    "    if 97<=ord(x)<=122:\n",
    "        small.append(x)\n",
    "    elif 65<=ord(x)<=90:\n",
    "        big.append(x)\n",
    "    elif int(x)%2!=0:\n",
    "        odd.append(x)\n",
    "    else:\n",
    "        even.append(x)\n",
    "small.sort()\n",
    "big.sort()\n",
    "odd.sort()\n",
    "even.sort()\n",
    "output=\"\".join(small)+\"\".join(big)+\"\".join(odd)+\"\".join(even)\n",
    "print(output)\n",
    "    \n"
   ]
  },
  {
   "cell_type": "code",
   "execution_count": null,
   "metadata": {},
   "outputs": [],
   "source": []
  }
 ],
 "metadata": {
  "kernelspec": {
   "display_name": "Python 3",
   "language": "python",
   "name": "python3"
  },
  "language_info": {
   "codemirror_mode": {
    "name": "ipython",
    "version": 3
   },
   "file_extension": ".py",
   "mimetype": "text/x-python",
   "name": "python",
   "nbconvert_exporter": "python",
   "pygments_lexer": "ipython3",
   "version": "3.7.6"
  }
 },
 "nbformat": 4,
 "nbformat_minor": 2
}
