{
 "cells": [
  {
   "cell_type": "markdown",
   "metadata": {
    "colab_type": "text",
    "id": "0HhbY3FC_5WP"
   },
   "source": [
    "# SUMMER 2020\n",
    "\n",
    "# CSE110 FINAL EXAM\n",
    "**<font color='red'>[MUST MAINTAIN VARIABLE NAMING CONVENTIONS FOR ALL THE TASKS]</font>**\n",
    "\n",
    "**<font color='red'>[Writing comments(explanatory sentences) in any of the code is completely optional]</font>**"
   ]
  },
  {
   "cell_type": "code",
   "execution_count": 9,
   "metadata": {},
   "outputs": [
    {
     "ename": "KeyError",
     "evalue": "'lst_m'",
     "output_type": "error",
     "traceback": [
      "\u001b[1;31m---------------------------------------------------------------------------\u001b[0m",
      "\u001b[1;31mKeyError\u001b[0m                                  Traceback (most recent call last)",
      "\u001b[1;32m<ipython-input-9-d97dd17205a9>\u001b[0m in \u001b[0;36m<module>\u001b[1;34m\u001b[0m\n\u001b[0;32m      1\u001b[0m \u001b[0ms\u001b[0m\u001b[1;33m=\u001b[0m\u001b[1;33m{\u001b[0m\u001b[1;34m's'\u001b[0m\u001b[1;33m:\u001b[0m\u001b[1;34m'p'\u001b[0m\u001b[1;33m,\u001b[0m\u001b[1;34m'd'\u001b[0m\u001b[1;33m:\u001b[0m\u001b[1;34m'b'\u001b[0m\u001b[1;33m,\u001b[0m\u001b[1;34m'm'\u001b[0m\u001b[1;33m:\u001b[0m\u001b[1;34m'r'\u001b[0m\u001b[1;33m}\u001b[0m\u001b[1;33m\u001b[0m\u001b[1;33m\u001b[0m\u001b[0m\n\u001b[1;32m----> 2\u001b[1;33m \u001b[0mx\u001b[0m\u001b[1;33m=\u001b[0m\u001b[0ms\u001b[0m\u001b[1;33m.\u001b[0m\u001b[0mpop\u001b[0m\u001b[1;33m(\u001b[0m\u001b[1;34m'lst_m'\u001b[0m\u001b[1;33m)\u001b[0m\u001b[1;33m\u001b[0m\u001b[1;33m\u001b[0m\u001b[0m\n\u001b[0m\u001b[0;32m      3\u001b[0m \u001b[0mprint\u001b[0m\u001b[1;33m(\u001b[0m\u001b[0mx\u001b[0m\u001b[1;33m)\u001b[0m\u001b[1;33m\u001b[0m\u001b[1;33m\u001b[0m\u001b[0m\n",
      "\u001b[1;31mKeyError\u001b[0m: 'lst_m'"
     ]
    }
   ],
   "source": [
    "s={'s':'p','d':'b','m':'r'}\n",
    "x=s.pop('lst_m')\n",
    "print(x)"
   ]
  },
  {
   "cell_type": "markdown",
   "metadata": {
    "colab_type": "text",
    "id": "VwLK1ypq__Z8"
   },
   "source": [
    "# Task 01\n",
    "\n",
    "Write a function called **show_rectangle** that takes two numbers as an argument and prints a rectangle in the function as shown in the output. The two arguments row and column should be taken as input from the user. \n",
    "*For this question, you can assume the second input is always greater than the first input. So, no checking is needed for ensuring this condition.*\n",
    "\n",
    "=============================================================\n",
    "\n",
    "**Example1:** \\\n",
    "**Input:** \\\n",
    "3 \\\n",
    "6\n",
    "\n",
    "**Function Call:**    \n",
    "show_rectangle(3,6)\n",
    "\n",
    "**Output:** \\\n",
    "1===== \\\n",
    "12==== \\\n",
    "123===\n",
    "\n",
    "**Explanation:** <br> \n",
    "Here two arguments are passed to the function. The first argument, 3 is the total number of rows and the second argument, 6 is the total number of columns. For each row, numbers starting from 1 to that row number are printed and the rest of the columns are filled by equal (=) to sign.\n",
    "\n",
    "=============================================================\n",
    "\n",
    "**Example2:** \\\n",
    "**Input:** \\\n",
    "6 \\\n",
    "7\n",
    "\n",
    "**Function Call:**   \n",
    "show_rectangle(6,7)\n",
    "\n",
    "**Output:** \\\n",
    "1====== \\\n",
    "12===== \\\n",
    "123==== \\\n",
    "1234=== \\\n",
    "12345== \\\n",
    "123456= \n",
    "\n",
    "**Explanation:**  <br> \n",
    "Here two arguments are passed to the function. The first argument 6, is the total number of rows and the second argument, 7 is the total number of columns. For each row, numbers starting from 1 to that row number are printed and the rest of the columns are filled by equal (=) to sign.\n"
   ]
  },
  {
   "cell_type": "code",
   "execution_count": null,
   "metadata": {
    "colab": {},
    "colab_type": "code",
    "id": "f3oXZJa9_4ha",
    "outputId": "9f7b514e-fea5-4626-9308-ab26d52e10c9"
   },
   "outputs": [
    {
     "name": "stdout",
     "output_type": "stream",
     "text": [
      "row=3\n",
      "col=5\n",
      "\n",
      "1====\n",
      "12===\n",
      "123=="
     ]
    }
   ],
   "source": [
    "#task 1\n",
    "#to do\n",
    "def ract(row,col):\n",
    "    for i in range(row):\n",
    "        print(\"\\n\",end=\"\")\n",
    "        j=0\n",
    "        while j<=i:\n",
    "            print(j+1,end=\"\")\n",
    "            j+=1\n",
    "        while j<col:\n",
    "            print(\"=\",end=\"\")\n",
    "            j+=1\n",
    "ract(int(input(\"row=\")),int(input(\"col=\")))"
   ]
  },
  {
   "cell_type": "markdown",
   "metadata": {
    "colab_type": "text",
    "id": "gMyLr9llDCjh"
   },
   "source": [
    "# Task 02\n",
    "Write a python function format_sentence() that takes a sentence and a boolean as parameters. The boolean is optional. The function will then convert the characters of the sentence according to the boolean parameter.\\\n",
    "\\\n",
    "**1)** If no boolean parameter is passed, the function will return a sentence that contains all the characters of the string parameter excluding the lower case characters.\\\n",
    "**2)** If the value of the boolean argument is False, the function will return a sentence that contains all the characters of the string parameter excluding the lower case characters.\\\n",
    "**3)** If the value of the boolean parameter is True, the function will return a string that contains all the characters of the parameter string excluding the upper case.\\\n",
    "\\\n",
    "<font color = 'red'>**You cannot use lower() or upper() functions here.**</font>\n",
    "\\\n",
    "\\\n",
    "===============================================================================================\\\n",
    "\\\n",
    "**Sample function call 1:** print(format_sentence('I am a student of BRAC University'))\\\n",
    "**Sample output 1:** I&nbsp;&nbsp;&nbsp;&nbsp;&nbsp; BRAC U\\\n",
    "**Explanation:** *There is no boolean parameter passed. Therefore, the function returns a string excluding the lower case characters*\\\n",
    "\\\n",
    "===============================================================================================\\\n",
    "\\\n",
    "**Sample function call 2:** print(format_sentence('I am a student of BRAC University', False))\\\n",
    "**Sample output 2:** I&nbsp;&nbsp;&nbsp;&nbsp;&nbsp; BRAC U\\\n",
    "**Explanation:** *The boolean parameter is False. Therefore, the function returns a string excluding the lower case characters*\\\n",
    "\\\n",
    "===============================================================================================\\\n",
    "\\\n",
    "**Sample function call 3:** print(format_sentence('I am a student of BRAC University', True))\\\n",
    "**Sample output 3:** &nbsp; am a student of  niversity\\\n",
    "**Explanation:** *The boolean parameter is True. Therefore, the function returns a string excluding the upper case characters*\n",
    "\n",
    "\n"
   ]
  },
  {
   "cell_type": "code",
   "execution_count": null,
   "metadata": {
    "colab": {},
    "colab_type": "code",
    "id": "qbM4udHkDZl3",
    "outputId": "68f03aef-1c8c-4373-dfbb-5590ebb90771"
   },
   "outputs": [
    {
     "name": "stdout",
     "output_type": "stream",
     "text": [
      "I     BRAC U\n"
     ]
    }
   ],
   "source": [
    "#task 2\n",
    "#to do\n",
    "def format_sentence(str1,bool1=False):\n",
    "    str2=''\n",
    "    if bool(bool1)==0:\n",
    "        for char in str1:\n",
    "            if ord(char)<91 and ord(char)>64:\n",
    "                str2+=char\n",
    "            elif char==\" \":\n",
    "                str2+=char\n",
    "    else:\n",
    "        for char in str1:\n",
    "            if ord(char)>=97 and ord(char)<=122:\n",
    "                str2+=char\n",
    "            elif char==\" \":\n",
    "                str2+=char\n",
    "    return str2\n",
    "print(format_sentence('I am a student of BRAC University',))"
   ]
  },
  {
   "cell_type": "markdown",
   "metadata": {
    "colab_type": "text",
    "id": "El9bK-4pDaW_"
   },
   "source": [
    "# Task 03\n",
    "\n",
    "You have to take a dictionary as an input from the user where all the keys are the product you want to buy and the values are the price of those products. Then you have to take the total amount of money you have as an input from the user as well. \n",
    "\n",
    "Write a function called **shopping** that takes a dictionary and the amount of money you have as arguments of the function. Find the sum of the price of the groceries of the dictionary and tell whether you can shop with the money given or not **inside the function**. \n",
    "\n",
    "**<font color='red'>[You are not allowed to use the sum() function]</font>** \n",
    "\n",
    "=============================================================\n",
    "\n",
    "**Input 01:** \\\n",
    "{'chocolate': 500, 'cake': 1000, 'chips': 200, 'shake': 350}\\\n",
    "3000\n",
    "\n",
    "**Function Call:** \\\n",
    "shopping({'chocolate': 500, 'cake': 1000, 'chips': 200, 'shake': 350}, 3000)\n",
    "\n",
    "**Output 01:** \\\n",
    "Sum = 2050 \\\n",
    "Happy shopping\n",
    "\n",
    "**Explanation:** <br> \n",
    "Here, if we sum the values of each key, then the sum will be  (500+1000+200+350)=2050. The money we are given as an argument is 3000. 3000 is greater than 2050, so obviously we can buy the desired items with this money.\n",
    "\n",
    "=============================================================\n",
    "\n",
    "**Input 02:** \\\n",
    "{'Harry Potter': 1500, 'Alchemist': 800, 'The Kite Runner': 750,'The Shining':600} \\\n",
    "2500\n",
    "\n",
    "**Function Call:** <br>\n",
    "shopping( {'Harry Potter': 1500, 'Alchemist': 800, 'The Kite Runner': 750,'The Shining':600}, 2500)\n",
    "\n",
    "**Output 02:** \\\n",
    "Sum = 3650 \\\n",
    "Sorry you are out of money\n",
    "\n",
    "**Explanation:** <br>\n",
    "Here, if we sum the values of each key, then the sum will be  (1500+800+750+600)=3650. The money we are given as an argument is 2500. 2500 is  NOT greater than or equal to 3650, so we can not buy the desired items with this money.\n",
    "\n"
   ]
  },
  {
   "cell_type": "code",
   "execution_count": 3,
   "metadata": {
    "colab": {
     "base_uri": "https://localhost:8080/",
     "height": 202
    },
    "colab_type": "code",
    "id": "ODbHP5-4EQK2",
    "outputId": "0a8fb73b-08b4-4c6b-eb5b-bde0dde90bb0"
   },
   "outputs": [
    {
     "name": "stdout",
     "output_type": "stream",
     "text": [
      "Item name\n",
      "(Enter blank if done)  5\n",
      "Price of item6\n",
      "Item name\n",
      "(Enter blank if done)  4\n",
      "Price of item5\n",
      "Item name\n",
      "(Enter blank if done)  \n",
      "Money=15\n",
      "Sum= 11 \n",
      "Happy Shopping \n"
     ]
    }
   ],
   "source": [
    "#task 3\n",
    "#to do\n",
    "def shopping(dict1,money):\n",
    "    sum=0\n",
    "    for key in dict1:\n",
    "        sum+=dict1[key]\n",
    "    if sum<=money:\n",
    "        print(\"Sum=\",sum,\"\\nHappy Shopping \")\n",
    "    else:\n",
    "        print(\"Sum=\",sum,\"\\nSorry you are out of money\")\n",
    "dict1={}\n",
    "while 1:\n",
    "    item=input(\"Item name\\n(Enter blank if done)  \")\n",
    "    if item==\"\":\n",
    "        break\n",
    "    price=int(input(\"Price of item\"  ))\n",
    "    dict1.update({item:price})\n",
    "money=int(input(\"Money=\"))\n",
    "shopping(dict1,money)"
   ]
  },
  {
   "cell_type": "code",
   "execution_count": null,
   "metadata": {
    "colab": {},
    "colab_type": "code",
    "id": "ChVP2lbP2nw5"
   },
   "outputs": [],
   "source": []
  }
 ],
 "metadata": {
  "colab": {
   "collapsed_sections": [],
   "name": "20301397_MahamudulHasanHimel_13_CSE110_Final_GKU.ipynb",
   "provenance": []
  },
  "kernelspec": {
   "display_name": "Python 3",
   "language": "python",
   "name": "python3"
  },
  "language_info": {
   "codemirror_mode": {
    "name": "ipython",
    "version": 3
   },
   "file_extension": ".py",
   "mimetype": "text/x-python",
   "name": "python",
   "nbconvert_exporter": "python",
   "pygments_lexer": "ipython3",
   "version": "3.7.6"
  }
 },
 "nbformat": 4,
 "nbformat_minor": 1
}
