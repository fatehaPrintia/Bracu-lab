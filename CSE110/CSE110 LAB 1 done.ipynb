{
 "cells": [
  {
   "cell_type": "markdown",
   "metadata": {},
   "source": [
    "### Task 1\n",
    "\n",
    "Write a python program that prints a square of size N using + where N will be given as input.\n",
    "\n",
    "**Sample Input**\n",
    "5\n",
    "\n",
    "**Sample Output**<br>\n",
    "+++++<br>\n",
    "+++++<br>\n",
    "+++++<br>\n",
    "+++++<br>\n",
    "+++++<br>\n"
   ]
  },
  {
   "cell_type": "code",
   "execution_count": 12,
   "metadata": {},
   "outputs": [
    {
     "name": "stdout",
     "output_type": "stream",
     "text": [
      "enter N:5\n",
      "+++++\n",
      "+++++\n",
      "+++++\n",
      "+++++\n",
      "+++++\n"
     ]
    }
   ],
   "source": [
    "N=int(input('enter N:'))\n",
    "for i in range(N):\n",
    "    print(\"+\"*N)"
   ]
  },
  {
   "cell_type": "markdown",
   "metadata": {},
   "source": [
    "### Task 2\n",
    "\n",
    "Write a python program that prints a rectangle of size M (height) and N(length) using + where M,N will be given as input.\n",
    "\n",
    "**Sample Input**\n",
    "3,8\n",
    "\n",
    "**Sample Output**<br>\n",
    "++++++++<br>\n",
    "++++++++<br>\n",
    "++++++++<br>\n"
   ]
  },
  {
   "cell_type": "code",
   "execution_count": 18,
   "metadata": {},
   "outputs": [
    {
     "name": "stdout",
     "output_type": "stream",
     "text": [
      "enter height:3\n",
      "enter length:8\n",
      "++++++++\n",
      "++++++++\n",
      "++++++++\n"
     ]
    }
   ],
   "source": [
    "M=int(input('enter height:'))\n",
    "N=int(input('enter length:'))\n",
    "for i in range(M):\n",
    "    for r in range(N):\n",
    "        print('+',end=\"\")\n",
    "    print()    "
   ]
  },
  {
   "cell_type": "markdown",
   "metadata": {},
   "source": [
    "### Task 3\n",
    "\n",
    "Write a python program that prints a right angled triangle of height N using + where N will be given as input.\n",
    "\n",
    "**Sample Input**\n",
    "4\n",
    "\n",
    "**Sample Output**<br>\n",
    "+<br>\n",
    "++<br>\n",
    "+++<br>\n",
    "++++<br>\n"
   ]
  },
  {
   "cell_type": "code",
   "execution_count": 22,
   "metadata": {},
   "outputs": [
    {
     "name": "stdout",
     "output_type": "stream",
     "text": [
      "enter height:4\n",
      "+\n",
      "++\n",
      "+++\n",
      "++++\n"
     ]
    }
   ],
   "source": [
    "N=int(input('enter height:'))    \n",
    "for i in range(1,N):\n",
    "    for j=N in range()\n",
    "    print('+'*i)"
   ]
  },
  {
   "cell_type": "code",
   "execution_count": null,
   "metadata": {},
   "outputs": [],
   "source": [
    "+\n",
    "++\n",
    "+ +\n",
    "+  +\n",
    "+++++"
   ]
  },
  {
   "cell_type": "code",
   "execution_count": 5,
   "metadata": {},
   "outputs": [
    {
     "name": "stdout",
     "output_type": "stream",
     "text": [
      "    *\n",
      "   **\n",
      "  * *\n",
      " *  *\n",
      "*****\n"
     ]
    }
   ],
   "source": [
    "def pattern(n):\n",
    "    i=1\n",
    "    while i<n+1:\n",
    "        j=n\n",
    "        while j>i:\n",
    "            print(\" \",end=\"\")\n",
    "            j-=1\n",
    "        k=1\n",
    "        while k<=i:\n",
    "            if k==1 or k==i or i==n:\n",
    "                print(\"*\", end=\"\")\n",
    "            else:\n",
    "                print(\" \",end=\"\")\n",
    "            k+=1\n",
    "        print()\n",
    "        i+=1\n",
    "pattern(5)\n",
    "                \n",
    "        "
   ]
  },
  {
   "cell_type": "code",
   "execution_count": 2,
   "metadata": {},
   "outputs": [
    {
     "name": "stdout",
     "output_type": "stream",
     "text": [
      "    *\n",
      "   **\n",
      "  * *\n",
      " *  *\n",
      "*****\n"
     ]
    }
   ],
   "source": [
    "def pattern(n):\n",
    "    i=1\n",
    "    while i<n+1:\n",
    "        j=n\n",
    "        while j>i:\n",
    "            print(\" \",end=\"\")\n",
    "            j-=1\n",
    "        k=1\n",
    "        while k<=i:\n",
    "            if k==1 or k==i or i==n:\n",
    "                print(\"*\", end=\"\")\n",
    "            else:\n",
    "                print(\" \",end=\"\")\n",
    "            k+=1\n",
    "        print()\n",
    "        i+=1\n",
    "pattern(5)\n",
    "              "
   ]
  },
  {
   "cell_type": "markdown",
   "metadata": {},
   "source": [
    "### Task 4\n",
    "\n",
    "Write a python program that prints a square of size N using incrementing numbers where N will be given as input.\n",
    "\n",
    "**Sample Input**\n",
    "5\n",
    "\n",
    "**Sample Output**<br>\n",
    "12345<br>\n",
    "12345<br>\n",
    "12345<br>\n",
    "12345<br>\n",
    "12345<br>\n",
    "\n"
   ]
  },
  {
   "cell_type": "code",
   "execution_count": 4,
   "metadata": {},
   "outputs": [
    {
     "name": "stdout",
     "output_type": "stream",
     "text": [
      "enter N:5\n",
      "12345\n",
      "12345\n",
      "12345\n",
      "12345\n",
      "12345\n"
     ]
    }
   ],
   "source": [
    "N=int(input('enter N:'))\n",
    "X=N\n",
    "while X>0:\n",
    "    for i in range(1,N+1):\n",
    "        print(i,end='')\n",
    "    print()    \n",
    "    X=X-1"
   ]
  },
  {
   "cell_type": "markdown",
   "metadata": {},
   "source": [
    "### Task 5\n",
    "\n",
    "Write a python program that prints a rectangle of size M (height) and N(length) using incrementing numbers where M,N will be given as input.\n",
    "\n",
    "**Sample Input**\n",
    "4,6\n",
    "\n",
    "**Sample Output**<br>\n",
    "123456<br>\n",
    "123456<br>\n",
    "123456<br>\n",
    "123456<br>\n"
   ]
  },
  {
   "cell_type": "code",
   "execution_count": 2,
   "metadata": {},
   "outputs": [
    {
     "name": "stdout",
     "output_type": "stream",
     "text": [
      "enter height:4\n",
      "enter length:6\n",
      "123456\n",
      "123456\n",
      "123456\n",
      "123456\n"
     ]
    }
   ],
   "source": [
    "M=int(input('enter height:'))\n",
    "N=int(input('enter length:'))\n",
    "for i in range(M):\n",
    "    for r in range(1,N+1):\n",
    "        print(r,end=\"\")\n",
    "    print()"
   ]
  },
  {
   "cell_type": "code",
   "execution_count": 3,
   "metadata": {},
   "outputs": [
    {
     "data": {
      "text/plain": [
       "[0, 0, 0, 1, 0, 0, 2, 1, 0, 3, 2, 1, 4, 3, 2, 1]"
      ]
     },
     "execution_count": 3,
     "metadata": {},
     "output_type": "execute_result"
    }
   ],
   "source": [
    "def arrSeries(n):\n",
    "    a = []\n",
    "    for i in range(n*n):\n",
    "        a.append(0)\n",
    "#     print(a)\n",
    "    temp = 0    \n",
    "    m = n*n\n",
    "    while(m >= 1):\n",
    "        for j in range(1,n+1):\n",
    "            if (j > n-temp):\n",
    "                m -= 1\n",
    "            else:\n",
    "                a[m-1] = j\n",
    "                m -= 1\n",
    "        temp += 1\n",
    "    return a    \n",
    "arrSeries(4) "
   ]
  },
  {
   "cell_type": "markdown",
   "metadata": {},
   "source": [
    "### Task 6\n",
    "\n",
    "Write a python program that prints a right angled triangle of height N using incrementing numbers where N will be given as input.\n",
    "\n",
    "**Sample Input**\n",
    "4\n",
    "\n",
    "**Sample Output**<br>\n",
    "1<br>\n",
    "12<br>\n",
    "123<br>\n",
    "1234<br>\n"
   ]
  },
  {
   "cell_type": "code",
   "execution_count": 4,
   "metadata": {},
   "outputs": [
    {
     "name": "stdout",
     "output_type": "stream",
     "text": [
      "enter the number of height:4\n",
      "1\n",
      "12\n",
      "123\n",
      "1234\n"
     ]
    }
   ],
   "source": [
    "n=int(input('enter the number of height:'))\n",
    "for i in range(1,n+1):\n",
    "    for j in range(1,i+1):\n",
    "        print(j,end=\"\")\n",
    "    print()"
   ]
  },
  {
   "cell_type": "markdown",
   "metadata": {},
   "source": [
    "### Task 7\n",
    "\n",
    "Write a python program that prints all the fibonacci number from 0 to N where N will be given. ***A Fibonacci number is a number which is the summation of its previous two fibonacci number. *** First two fibonacci number are 0 and 1. So the 3rd Fib will be 0+1=1, 4th Fib will be 1+1=2, 5th Fib will be 1+2=3 and so on.\n",
    "\n",
    "**Sample Input**<br>\n",
    "10\n",
    "\n",
    "**Sample Output**<br>\n",
    "0 1 1 2 3 5 8"
   ]
  },
  {
   "cell_type": "code",
   "execution_count": 16,
   "metadata": {},
   "outputs": [
    {
     "name": "stdout",
     "output_type": "stream",
     "text": [
      "give range:10\n",
      "0 1 1 2 3 5 8 "
     ]
    }
   ],
   "source": [
    "n=int(input('give range:'))\n",
    "f=0#fibonacci\n",
    "s=1#summation\n",
    "print(str(f)+' '+str(s),end=' ')\n",
    "while f+s<=n:\n",
    "    t=f+s\n",
    "    print(str(t),end=' ')\n",
    "    f=s\n",
    "    s=t"
   ]
  },
  {
   "cell_type": "markdown",
   "metadata": {},
   "source": [
    "### Task 8\n",
    "\n",
    "Write a python program that converts a Decimal Integer number to a Boolean Number. \n",
    "\n",
    "**A decimal can be converted to a binary number by keeping track of the remainders after each division of that number by 2. For example, to convert 10 to a binary number, we can follow the following approach**\n",
    "\n",
    "2/10 = 5 (Remainder 0) <br>2/5 = 2 (Remainder 1) \n",
    "<br>2/2 = 1 (Remainder 0) \n",
    "<br>2/1 = 0 (Remainder 1) \n",
    "\n",
    "Take the remainders from bottom to top, which is, 1010. Binary of 10 is 1010.\n",
    "\n",
    "**Sample Input** <br>\n",
    "10\n",
    "\n",
    "**Sample Output**<br>\n",
    "1010"
   ]
  },
  {
   "cell_type": "code",
   "execution_count": 2,
   "metadata": {},
   "outputs": [
    {
     "name": "stdout",
     "output_type": "stream",
     "text": [
      "10\n",
      "1010\n"
     ]
    }
   ],
   "source": [
    "i=int(input())\n",
    "s=''\n",
    "while i>0:\n",
    "    r=i%2\n",
    "    s=str(r)+s\n",
    "    i=i//2\n",
    "print(s)"
   ]
  },
  {
   "cell_type": "markdown",
   "metadata": {},
   "source": [
    "### Task 9\n",
    "\n",
    "Write a python program that converts a Binary number to a Decimal Integer Number. \n",
    "\n",
    "**A binary number can be converted to its corresponding decimal number by multiplying each binary digit with a power of 2 where the power denotes the position of the binary digit**\n",
    "\n",
    "For example, to convert 1010, we can do this - $2^{3}$ x 1 + $2^{2}$ x 0 + $2^{1}$ x 1 + $2^{0}$ x 0 = 10\n",
    "\n",
    "\n",
    "**Sample Input** <br>\n",
    "1010\n",
    "\n",
    "**Sample Output** <br>\n",
    "10"
   ]
  },
  {
   "cell_type": "code",
   "execution_count": 2,
   "metadata": {},
   "outputs": [
    {
     "name": "stdout",
     "output_type": "stream",
     "text": [
      "enter a binary number:10\n",
      "2\n"
     ]
    }
   ],
   "source": [
    "binary_number=input('enter a binary number:')\n",
    "count=0\n",
    "j=len(binary_number)-1\n",
    "for i in range (len(binary_number)):\n",
    "    count=count+int(binary_number[j])*(2**i)\n",
    "    j-=1\n",
    "print(count)    "
   ]
  },
  {
   "cell_type": "markdown",
   "metadata": {},
   "source": [
    "### Task 10\n",
    "\n",
    "Write a python program that counts the total unique digits of a number. <br>\n",
    "*To solve this problem, the number can be converted to a string and then nested iterations can be done over the string*\n",
    "\n",
    "\n",
    "\n",
    "\n",
    "**Sample Input** <br>\n",
    "12233345\n",
    "\n",
    "**Sample Output** <br>\n",
    "5"
   ]
  },
  {
   "cell_type": "code",
   "execution_count": 1,
   "metadata": {},
   "outputs": [
    {
     "name": "stdout",
     "output_type": "stream",
     "text": [
      "12233345\n",
      "5\n"
     ]
    }
   ],
   "source": [
    "number=input('')\n",
    "temp=''\n",
    "for x in range(len(number)):\n",
    "    if number[x] not in temp:\n",
    "        temp=temp+number[x]\n",
    "print(len(temp))  "
   ]
  },
  {
   "cell_type": "code",
   "execution_count": null,
   "metadata": {},
   "outputs": [],
   "source": []
  }
 ],
 "metadata": {
  "kernelspec": {
   "display_name": "Python 3",
   "language": "python",
   "name": "python3"
  },
  "language_info": {
   "codemirror_mode": {
    "name": "ipython",
    "version": 3
   },
   "file_extension": ".py",
   "mimetype": "text/x-python",
   "name": "python",
   "nbconvert_exporter": "python",
   "pygments_lexer": "ipython3",
   "version": "3.7.6"
  }
 },
 "nbformat": 4,
 "nbformat_minor": 2
}
